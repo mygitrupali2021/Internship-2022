{
 "cells": [
  {
   "cell_type": "code",
   "execution_count": 3,
   "id": "5e2453e7",
   "metadata": {},
   "outputs": [],
   "source": [
    "#install the Selenium Library#"
   ]
  },
  {
   "cell_type": "markdown",
   "id": "d53c60cf",
   "metadata": {},
   "source": [
    "# Q:1"
   ]
  },
  {
   "cell_type": "code",
   "execution_count": 5,
   "id": "df8c5678",
   "metadata": {},
   "outputs": [
    {
     "name": "stdout",
     "output_type": "stream",
     "text": [
      "Requirement already satisfied: selenium in c:\\users\\hp\\anaconda3\\lib\\site-packages (4.1.0)\n",
      "Requirement already satisfied: urllib3[secure]~=1.26 in c:\\users\\hp\\anaconda3\\lib\\site-packages (from selenium) (1.26.4)\n",
      "Requirement already satisfied: trio~=0.17 in c:\\users\\hp\\anaconda3\\lib\\site-packages (from selenium) (0.19.0)\n",
      "Requirement already satisfied: trio-websocket~=0.9 in c:\\users\\hp\\anaconda3\\lib\\site-packages (from selenium) (0.9.2)\n",
      "Requirement already satisfied: async-generator>=1.9 in c:\\users\\hp\\anaconda3\\lib\\site-packages (from trio~=0.17->selenium) (1.10)\n",
      "Requirement already satisfied: outcome in c:\\users\\hp\\anaconda3\\lib\\site-packages (from trio~=0.17->selenium) (1.1.0)\n",
      "Requirement already satisfied: sortedcontainers in c:\\users\\hp\\anaconda3\\lib\\site-packages (from trio~=0.17->selenium) (2.3.0)\n",
      "Requirement already satisfied: sniffio in c:\\users\\hp\\anaconda3\\lib\\site-packages (from trio~=0.17->selenium) (1.2.0)\n",
      "Requirement already satisfied: idna in c:\\users\\hp\\anaconda3\\lib\\site-packages (from trio~=0.17->selenium) (2.10)\n",
      "Requirement already satisfied: attrs>=19.2.0 in c:\\users\\hp\\anaconda3\\lib\\site-packages (from trio~=0.17->selenium) (20.3.0)\n",
      "Requirement already satisfied: cffi>=1.14 in c:\\users\\hp\\anaconda3\\lib\\site-packages (from trio~=0.17->selenium) (1.14.5)\n",
      "Requirement already satisfied: pycparser in c:\\users\\hp\\anaconda3\\lib\\site-packages (from cffi>=1.14->trio~=0.17->selenium) (2.20)\n",
      "Requirement already satisfied: wsproto>=0.14 in c:\\users\\hp\\anaconda3\\lib\\site-packages (from trio-websocket~=0.9->selenium) (1.0.0)\n",
      "Requirement already satisfied: pyOpenSSL>=0.14 in c:\\users\\hp\\anaconda3\\lib\\site-packages (from urllib3[secure]~=1.26->selenium) (20.0.1)\n",
      "Requirement already satisfied: cryptography>=1.3.4 in c:\\users\\hp\\anaconda3\\lib\\site-packages (from urllib3[secure]~=1.26->selenium) (3.4.7)\n",
      "Requirement already satisfied: certifi in c:\\users\\hp\\anaconda3\\lib\\site-packages (from urllib3[secure]~=1.26->selenium) (2020.12.5)\n",
      "Requirement already satisfied: six>=1.5.2 in c:\\users\\hp\\anaconda3\\lib\\site-packages (from pyOpenSSL>=0.14->urllib3[secure]~=1.26->selenium) (1.15.0)\n",
      "Requirement already satisfied: h11<1,>=0.9.0 in c:\\users\\hp\\anaconda3\\lib\\site-packages (from wsproto>=0.14->trio-websocket~=0.9->selenium) (0.12.0)\n"
     ]
    }
   ],
   "source": [
    "!pip install selenium"
   ]
  },
  {
   "cell_type": "code",
   "execution_count": null,
   "id": "7ec5554e",
   "metadata": {},
   "outputs": [],
   "source": [
    "# Import all required Libraries#"
   ]
  },
  {
   "cell_type": "code",
   "execution_count": 7,
   "id": "2bf144eb",
   "metadata": {},
   "outputs": [],
   "source": [
    "import selenium\n",
    "import pandas as pd\n",
    "from selenium import webdriver"
   ]
  },
  {
   "cell_type": "code",
   "execution_count": 9,
   "id": "018c6c17",
   "metadata": {},
   "outputs": [
    {
     "name": "stderr",
     "output_type": "stream",
     "text": [
      "<ipython-input-9-d97e2429b4d3>:2: DeprecationWarning: executable_path has been deprecated, please pass in a Service object\n",
      "  driver = webdriver.Chrome(r\"C:\\Users\\hp\\Downloads\\chromedriver.exe\")\n"
     ]
    }
   ],
   "source": [
    "#Connect to Web Driver#\n",
    "driver = webdriver.Chrome(r\"C:\\Users\\hp\\Downloads\\chromedriver.exe\")"
   ]
  },
  {
   "cell_type": "code",
   "execution_count": 10,
   "id": "69e9362f",
   "metadata": {},
   "outputs": [],
   "source": [
    "url = \"https://www.naukri.com\"\n",
    "driver.get(url)"
   ]
  },
  {
   "cell_type": "code",
   "execution_count": 13,
   "id": "9c8d2051",
   "metadata": {},
   "outputs": [
    {
     "name": "stderr",
     "output_type": "stream",
     "text": [
      "<ipython-input-13-e52c68d5223f>:2: DeprecationWarning: find_element_by_* commands are deprecated. Please use find_element() instead\n",
      "  search_job = driver.find_element_by_class_name(\"suggestor-input\")\n"
     ]
    },
    {
     "data": {
      "text/plain": [
       "<selenium.webdriver.remote.webelement.WebElement (session=\"cb2bad8e497d83beeed4545c8e43a046\", element=\"a0773972-ad63-46d8-9512-b9a528d1c8dd\")>"
      ]
     },
     "execution_count": 13,
     "metadata": {},
     "output_type": "execute_result"
    }
   ],
   "source": [
    "#finding element for job searchbar#\n",
    "search_job = driver.find_element_by_class_name(\"suggestor-input\")\n",
    "search_job"
   ]
  },
  {
   "cell_type": "code",
   "execution_count": 14,
   "id": "53451df0",
   "metadata": {},
   "outputs": [],
   "source": [
    "# write on search bar #\n",
    "search_job.send_keys('Data Analyst')\n"
   ]
  },
  {
   "cell_type": "code",
   "execution_count": 20,
   "id": "b2fd4578",
   "metadata": {},
   "outputs": [
    {
     "name": "stderr",
     "output_type": "stream",
     "text": [
      "<ipython-input-20-79dfc367b2ae>:2: DeprecationWarning: find_element_by_* commands are deprecated. Please use find_element() instead\n",
      "  search_loc=driver.find_element_by_xpath('/html/body/div[1]/div[2]/div[3]/div/div/div[5]/div/div/div/input')\n"
     ]
    }
   ],
   "source": [
    "# finding element for job location bar\n",
    "search_loc=driver.find_element_by_xpath('/html/body/div[1]/div[2]/div[3]/div/div/div[5]/div/div/div/input')\n",
    "search_loc\n",
    "search_loc.send_keys(\"Bangalore\")"
   ]
  },
  {
   "cell_type": "code",
   "execution_count": 24,
   "id": "9a76e26a",
   "metadata": {},
   "outputs": [
    {
     "name": "stderr",
     "output_type": "stream",
     "text": [
      "<ipython-input-24-401fd9a96921>:1: DeprecationWarning: find_element_by_* commands are deprecated. Please use find_element() instead\n",
      "  search_btn= driver .find_element_by_xpath ('/html/body/div[1]/div[2]/div[3]/div/div/div[5]/div/div/div[1]')\n"
     ]
    }
   ],
   "source": [
    "search_btn= driver .find_element_by_xpath ('/html/body/div[1]/div[2]/div[3]/div/div/div[5]/div/div/div[1]')\n",
    "search_btn\n",
    "search_btn.click()"
   ]
  },
  {
   "cell_type": "code",
   "execution_count": 26,
   "id": "c06285d9",
   "metadata": {},
   "outputs": [
    {
     "name": "stderr",
     "output_type": "stream",
     "text": [
      "<ipython-input-26-9332cfaea618>:2: DeprecationWarning: find_element_by_* commands are deprecated. Please use find_element() instead\n",
      "  search_btn=driver.find_element_by_xpath(\"/html/body/div[1]/div[2]/div[3]/div/div/div[5]/div/div/div[1]/input\")\n"
     ]
    }
   ],
   "source": [
    "# clicking  using xpath function\n",
    "search_btn=driver.find_element_by_xpath(\"/html/body/div[1]/div[2]/div[3]/div/div/div[5]/div/div/div[1]/input\")\n",
    "search_btn.click()"
   ]
  },
  {
   "cell_type": "code",
   "execution_count": 63,
   "id": "4086f76f",
   "metadata": {},
   "outputs": [
    {
     "name": "stderr",
     "output_type": "stream",
     "text": [
      "<ipython-input-63-e03de3579118>:2: DeprecationWarning: find_elements_by_* commands are deprecated. Please use find_elements() instead\n",
      "  title_tags=driver.find_elements_by_xpath(\"//a[@class='title fw500 ellipsis']\")\n"
     ]
    },
    {
     "data": {
      "text/plain": [
       "[]"
      ]
     },
     "execution_count": 63,
     "metadata": {},
     "output_type": "execute_result"
    }
   ],
   "source": [
    "#let's extract all the tags having the job titles\n",
    "title_tags=driver.find_elements_by_xpath(\"//a[@class='title fw500 ellipsis']\")\n",
    "title_tags"
   ]
  },
  {
   "cell_type": "code",
   "execution_count": 38,
   "id": "0d3bc48e",
   "metadata": {},
   "outputs": [
    {
     "data": {
      "text/plain": [
       "['HR Data Analyst',\n",
       " 'Data Analyst - Python/Artificial Intelligence',\n",
       " 'Business Analyst-BI Data Analyst',\n",
       " 'Data Analyst',\n",
       " 'Mumbai(vileparle) - Data Analyst',\n",
       " 'Sr.Business Data Analyst',\n",
       " 'Business Data Analyst',\n",
       " 'Data Analyst',\n",
       " 'Senior Data Analysis Analyst',\n",
       " 'Junior Data Analyst']"
      ]
     },
     "execution_count": 38,
     "metadata": {},
     "output_type": "execute_result"
    }
   ],
   "source": [
    "# extract the text of the job title  from the tags\n",
    "job_titles=[]\n",
    "for i in title_tags:\n",
    "    if i.text is None:\n",
    "        job_titles.append('Not')\n",
    "    else:\n",
    "        job_titles.append(i.text)\n",
    "job_titles[:10]   "
   ]
  },
  {
   "cell_type": "code",
   "execution_count": 39,
   "id": "3946c1b9",
   "metadata": {},
   "outputs": [
    {
     "name": "stderr",
     "output_type": "stream",
     "text": [
      "<ipython-input-39-8c443eece41f>:2: DeprecationWarning: find_elements_by_* commands are deprecated. Please use find_elements() instead\n",
      "  company_tags=driver.find_elements_by_xpath(\"//a[@class='subTitle ellipsis fleft']\")\n"
     ]
    },
    {
     "data": {
      "text/plain": [
       "[<selenium.webdriver.remote.webelement.WebElement (session=\"cb2bad8e497d83beeed4545c8e43a046\", element=\"fa30667c-b394-4933-91d1-44e04d69d1c7\")>,\n",
       " <selenium.webdriver.remote.webelement.WebElement (session=\"cb2bad8e497d83beeed4545c8e43a046\", element=\"52bf116e-5553-416d-9655-56036e9ddeec\")>,\n",
       " <selenium.webdriver.remote.webelement.WebElement (session=\"cb2bad8e497d83beeed4545c8e43a046\", element=\"11bd27c9-dbbf-4612-af43-01d14b6b353c\")>,\n",
       " <selenium.webdriver.remote.webelement.WebElement (session=\"cb2bad8e497d83beeed4545c8e43a046\", element=\"3bae1219-ea9b-4cfc-8e86-93b5d5425208\")>,\n",
       " <selenium.webdriver.remote.webelement.WebElement (session=\"cb2bad8e497d83beeed4545c8e43a046\", element=\"f9416f7c-b317-4c04-a016-de563a3769ad\")>,\n",
       " <selenium.webdriver.remote.webelement.WebElement (session=\"cb2bad8e497d83beeed4545c8e43a046\", element=\"e3598780-38c8-41fd-8cc4-174979578d17\")>,\n",
       " <selenium.webdriver.remote.webelement.WebElement (session=\"cb2bad8e497d83beeed4545c8e43a046\", element=\"f25fc030-749f-4af7-b8a7-c0c895fe5d2c\")>,\n",
       " <selenium.webdriver.remote.webelement.WebElement (session=\"cb2bad8e497d83beeed4545c8e43a046\", element=\"d6c521e6-2400-416c-a2c8-4a0544992089\")>,\n",
       " <selenium.webdriver.remote.webelement.WebElement (session=\"cb2bad8e497d83beeed4545c8e43a046\", element=\"1bf7469b-2411-4404-a117-51dffc4bb93b\")>,\n",
       " <selenium.webdriver.remote.webelement.WebElement (session=\"cb2bad8e497d83beeed4545c8e43a046\", element=\"36a798e9-0c47-48a6-beac-366c769f965b\")>,\n",
       " <selenium.webdriver.remote.webelement.WebElement (session=\"cb2bad8e497d83beeed4545c8e43a046\", element=\"eb0c7dbc-17a8-419f-b264-c3b192f6aa7f\")>,\n",
       " <selenium.webdriver.remote.webelement.WebElement (session=\"cb2bad8e497d83beeed4545c8e43a046\", element=\"443002d8-a3e4-4097-831b-a9ae01dbbb3f\")>,\n",
       " <selenium.webdriver.remote.webelement.WebElement (session=\"cb2bad8e497d83beeed4545c8e43a046\", element=\"0c14be1f-72d6-4a9e-8efe-61f3e68ebd62\")>,\n",
       " <selenium.webdriver.remote.webelement.WebElement (session=\"cb2bad8e497d83beeed4545c8e43a046\", element=\"2ca22d16-70e0-4851-b146-9687954b508c\")>,\n",
       " <selenium.webdriver.remote.webelement.WebElement (session=\"cb2bad8e497d83beeed4545c8e43a046\", element=\"92210856-85e7-45d5-bed9-cb2ce113bf4a\")>,\n",
       " <selenium.webdriver.remote.webelement.WebElement (session=\"cb2bad8e497d83beeed4545c8e43a046\", element=\"a9acfc4b-5b73-45ae-8d15-e3c68fdcd6b9\")>,\n",
       " <selenium.webdriver.remote.webelement.WebElement (session=\"cb2bad8e497d83beeed4545c8e43a046\", element=\"1a2d47b5-83f3-4979-891b-2398491da85d\")>,\n",
       " <selenium.webdriver.remote.webelement.WebElement (session=\"cb2bad8e497d83beeed4545c8e43a046\", element=\"30c1b3cb-bdb5-483a-8e09-02d05525e839\")>,\n",
       " <selenium.webdriver.remote.webelement.WebElement (session=\"cb2bad8e497d83beeed4545c8e43a046\", element=\"0f188315-d63e-4625-9f7c-3dbc088cb0e9\")>,\n",
       " <selenium.webdriver.remote.webelement.WebElement (session=\"cb2bad8e497d83beeed4545c8e43a046\", element=\"33994cbb-2b98-4b3a-8680-8c82c9368a57\")>]"
      ]
     },
     "execution_count": 39,
     "metadata": {},
     "output_type": "execute_result"
    }
   ],
   "source": [
    "# lets extract all the tags having company names\n",
    "company_tags=driver.find_elements_by_xpath(\"//a[@class='subTitle ellipsis fleft']\")\n",
    "company_tags"
   ]
  },
  {
   "cell_type": "code",
   "execution_count": 40,
   "id": "9796d504",
   "metadata": {},
   "outputs": [
    {
     "data": {
      "text/plain": [
       "['Sandvik',\n",
       " 'iMindYourBusiness',\n",
       " 'Persistent',\n",
       " 'Wipro',\n",
       " 'JForce Solutions',\n",
       " 'Collabera',\n",
       " 'Red Hat',\n",
       " 'Primohunt Corporate',\n",
       " 'Capco',\n",
       " 'Gem Pundit']"
      ]
     },
     "execution_count": 40,
     "metadata": {},
     "output_type": "execute_result"
    }
   ],
   "source": [
    "# Now we will extract the text from the tags by looping over these tags\n",
    "companies_names=[]\n",
    "\n",
    "for i in company_tags:\n",
    "    companies_names.append(i.text)\n",
    "companies_names[:10] "
   ]
  },
  {
   "cell_type": "code",
   "execution_count": 41,
   "id": "4fac31ae",
   "metadata": {},
   "outputs": [
    {
     "name": "stderr",
     "output_type": "stream",
     "text": [
      "<ipython-input-41-b8752f27be33>:2: DeprecationWarning: find_elements_by_* commands are deprecated. Please use find_elements() instead\n",
      "  experience_tags=driver.find_elements_by_xpath(\"//li[@class='fleft grey-text br2 placeHolderLi experience'] //span\")\n"
     ]
    },
    {
     "data": {
      "text/plain": [
       "[<selenium.webdriver.remote.webelement.WebElement (session=\"cb2bad8e497d83beeed4545c8e43a046\", element=\"12af96c4-866c-4898-9259-48f4f3853692\")>,\n",
       " <selenium.webdriver.remote.webelement.WebElement (session=\"cb2bad8e497d83beeed4545c8e43a046\", element=\"2a81f06f-6a1a-4277-abf8-c4a78dece911\")>,\n",
       " <selenium.webdriver.remote.webelement.WebElement (session=\"cb2bad8e497d83beeed4545c8e43a046\", element=\"8f6f1b59-9531-416c-a263-d6058d5a9a88\")>,\n",
       " <selenium.webdriver.remote.webelement.WebElement (session=\"cb2bad8e497d83beeed4545c8e43a046\", element=\"c382d240-7065-4b3b-92c9-7c2b95584a79\")>,\n",
       " <selenium.webdriver.remote.webelement.WebElement (session=\"cb2bad8e497d83beeed4545c8e43a046\", element=\"12579a03-09b5-46d0-a094-67b5d7b8d16f\")>,\n",
       " <selenium.webdriver.remote.webelement.WebElement (session=\"cb2bad8e497d83beeed4545c8e43a046\", element=\"e13fb859-da16-404b-8335-45a2d9bc4d9f\")>,\n",
       " <selenium.webdriver.remote.webelement.WebElement (session=\"cb2bad8e497d83beeed4545c8e43a046\", element=\"42ef2b87-9382-4b1b-be9b-79346d589264\")>,\n",
       " <selenium.webdriver.remote.webelement.WebElement (session=\"cb2bad8e497d83beeed4545c8e43a046\", element=\"6e510a83-078d-47d5-8eb8-6a7658da7397\")>,\n",
       " <selenium.webdriver.remote.webelement.WebElement (session=\"cb2bad8e497d83beeed4545c8e43a046\", element=\"73f27c6f-763f-4f1c-861b-b8c6ea7b4347\")>,\n",
       " <selenium.webdriver.remote.webelement.WebElement (session=\"cb2bad8e497d83beeed4545c8e43a046\", element=\"e95c044a-960b-4780-ae04-356bd047cd60\")>,\n",
       " <selenium.webdriver.remote.webelement.WebElement (session=\"cb2bad8e497d83beeed4545c8e43a046\", element=\"f22da4de-0386-4803-8148-34a73bf39c4c\")>,\n",
       " <selenium.webdriver.remote.webelement.WebElement (session=\"cb2bad8e497d83beeed4545c8e43a046\", element=\"9ce126fb-2693-4171-ba1d-9d702147dd52\")>,\n",
       " <selenium.webdriver.remote.webelement.WebElement (session=\"cb2bad8e497d83beeed4545c8e43a046\", element=\"7931f1d2-6462-4d66-821d-5f97f50537c6\")>,\n",
       " <selenium.webdriver.remote.webelement.WebElement (session=\"cb2bad8e497d83beeed4545c8e43a046\", element=\"5080bf6b-3036-48fa-9794-4141c524b1d3\")>,\n",
       " <selenium.webdriver.remote.webelement.WebElement (session=\"cb2bad8e497d83beeed4545c8e43a046\", element=\"b04f6a22-20ac-48f1-9934-0866764546c3\")>,\n",
       " <selenium.webdriver.remote.webelement.WebElement (session=\"cb2bad8e497d83beeed4545c8e43a046\", element=\"87d57e6d-5f3c-4ebf-b632-a247bfaf23ec\")>,\n",
       " <selenium.webdriver.remote.webelement.WebElement (session=\"cb2bad8e497d83beeed4545c8e43a046\", element=\"ca1a4886-db26-44c5-b0d2-c0f58c409204\")>,\n",
       " <selenium.webdriver.remote.webelement.WebElement (session=\"cb2bad8e497d83beeed4545c8e43a046\", element=\"0555b635-8c1e-4727-844f-7f8ddfcefac5\")>,\n",
       " <selenium.webdriver.remote.webelement.WebElement (session=\"cb2bad8e497d83beeed4545c8e43a046\", element=\"ba353543-204c-4d9f-8f51-80a989968886\")>,\n",
       " <selenium.webdriver.remote.webelement.WebElement (session=\"cb2bad8e497d83beeed4545c8e43a046\", element=\"6aeb03c4-e900-42d9-a797-d9d32a86fb37\")>]"
      ]
     },
     "execution_count": 41,
     "metadata": {},
     "output_type": "execute_result"
    }
   ],
   "source": [
    "# so lets extract  all the tags having the experience required data\n",
    "experience_tags=driver.find_elements_by_xpath(\"//li[@class='fleft grey-text br2 placeHolderLi experience'] //span\")\n",
    "experience_tags"
   ]
  },
  {
   "cell_type": "code",
   "execution_count": 42,
   "id": "1f4c420c",
   "metadata": {},
   "outputs": [
    {
     "data": {
      "text/plain": [
       "['6-10 Yrs',\n",
       " '0-2 Yrs',\n",
       " '8-10 Yrs',\n",
       " '4-9 Yrs',\n",
       " '0-2 Yrs',\n",
       " '6-11 Yrs',\n",
       " '1-4 Yrs',\n",
       " '0-3 Yrs',\n",
       " '7-12 Yrs',\n",
       " '0-1 Yrs']"
      ]
     },
     "execution_count": 42,
     "metadata": {},
     "output_type": "execute_result"
    }
   ],
   "source": [
    "# now we will extract the text  from these tags only by one by looping over these tags\n",
    "experience_list=[]\n",
    "for i in experience_tags:\n",
    "    experience_list.append(i.text)\n",
    "experience_list[:10]   "
   ]
  },
  {
   "cell_type": "code",
   "execution_count": 43,
   "id": "a87b1637",
   "metadata": {},
   "outputs": [
    {
     "name": "stderr",
     "output_type": "stream",
     "text": [
      "<ipython-input-43-c02dc4059f5e>:1: DeprecationWarning: find_elements_by_* commands are deprecated. Please use find_elements() instead\n",
      "  locations_tags=driver.find_elements_by_xpath(\"//li[@class='fleft grey-text br2 placeHolderLi location']/span\")\n"
     ]
    },
    {
     "data": {
      "text/plain": [
       "[<selenium.webdriver.remote.webelement.WebElement (session=\"cb2bad8e497d83beeed4545c8e43a046\", element=\"7bbb8d63-59d7-46d7-8bdb-b9df2eed7f8a\")>,\n",
       " <selenium.webdriver.remote.webelement.WebElement (session=\"cb2bad8e497d83beeed4545c8e43a046\", element=\"354fca37-7d67-4fcd-8257-a8ca1628a897\")>,\n",
       " <selenium.webdriver.remote.webelement.WebElement (session=\"cb2bad8e497d83beeed4545c8e43a046\", element=\"dd4b3881-0f3f-4aca-bb79-c28b0a93b16a\")>,\n",
       " <selenium.webdriver.remote.webelement.WebElement (session=\"cb2bad8e497d83beeed4545c8e43a046\", element=\"4cbcae93-83e9-4f83-ab01-94476f49224b\")>,\n",
       " <selenium.webdriver.remote.webelement.WebElement (session=\"cb2bad8e497d83beeed4545c8e43a046\", element=\"5466f7a6-1606-47a7-b812-e6ce34b51c76\")>,\n",
       " <selenium.webdriver.remote.webelement.WebElement (session=\"cb2bad8e497d83beeed4545c8e43a046\", element=\"d8160c43-dc52-4e80-a993-debcbc32bb41\")>,\n",
       " <selenium.webdriver.remote.webelement.WebElement (session=\"cb2bad8e497d83beeed4545c8e43a046\", element=\"5d2ac081-2ab6-4ab3-a9a1-84141f1b25c8\")>,\n",
       " <selenium.webdriver.remote.webelement.WebElement (session=\"cb2bad8e497d83beeed4545c8e43a046\", element=\"8bd843c5-96f1-466f-8410-611fe6ec6cd5\")>,\n",
       " <selenium.webdriver.remote.webelement.WebElement (session=\"cb2bad8e497d83beeed4545c8e43a046\", element=\"732cc9db-3e08-4fbe-a558-55e802689d04\")>,\n",
       " <selenium.webdriver.remote.webelement.WebElement (session=\"cb2bad8e497d83beeed4545c8e43a046\", element=\"bb5c78f5-c8ca-4043-95b3-9e59d6cc492f\")>,\n",
       " <selenium.webdriver.remote.webelement.WebElement (session=\"cb2bad8e497d83beeed4545c8e43a046\", element=\"f1710069-4b51-474c-91a9-041faf97425d\")>,\n",
       " <selenium.webdriver.remote.webelement.WebElement (session=\"cb2bad8e497d83beeed4545c8e43a046\", element=\"f5db32f7-118c-43fa-a582-c0843e85643a\")>,\n",
       " <selenium.webdriver.remote.webelement.WebElement (session=\"cb2bad8e497d83beeed4545c8e43a046\", element=\"b4413a72-fed7-4a80-9cee-dfd75009941f\")>,\n",
       " <selenium.webdriver.remote.webelement.WebElement (session=\"cb2bad8e497d83beeed4545c8e43a046\", element=\"4ebdf296-68f7-4cba-9c68-7c0be73b63cb\")>,\n",
       " <selenium.webdriver.remote.webelement.WebElement (session=\"cb2bad8e497d83beeed4545c8e43a046\", element=\"c39560ad-472a-45ef-ac59-1318a9910287\")>,\n",
       " <selenium.webdriver.remote.webelement.WebElement (session=\"cb2bad8e497d83beeed4545c8e43a046\", element=\"6286adac-9374-49c7-a079-90cfcc283445\")>,\n",
       " <selenium.webdriver.remote.webelement.WebElement (session=\"cb2bad8e497d83beeed4545c8e43a046\", element=\"41a81637-f5d3-4cd5-b635-3ee3b70f08d8\")>,\n",
       " <selenium.webdriver.remote.webelement.WebElement (session=\"cb2bad8e497d83beeed4545c8e43a046\", element=\"407088db-2c43-4713-bb16-f232f7495474\")>,\n",
       " <selenium.webdriver.remote.webelement.WebElement (session=\"cb2bad8e497d83beeed4545c8e43a046\", element=\"d2ff8ec0-525b-434b-a878-8d14284ee761\")>,\n",
       " <selenium.webdriver.remote.webelement.WebElement (session=\"cb2bad8e497d83beeed4545c8e43a046\", element=\"0210f981-b91e-41aa-894e-49dc5611409b\")>,\n",
       " <selenium.webdriver.remote.webelement.WebElement (session=\"cb2bad8e497d83beeed4545c8e43a046\", element=\"57f459e9-199a-430d-9102-2634c25b792b\")>,\n",
       " <selenium.webdriver.remote.webelement.WebElement (session=\"cb2bad8e497d83beeed4545c8e43a046\", element=\"0ae5d778-2cb2-4aa3-abb4-601c4a391554\")>]"
      ]
     },
     "execution_count": 43,
     "metadata": {},
     "output_type": "execute_result"
    }
   ],
   "source": [
    "locations_tags=driver.find_elements_by_xpath(\"//li[@class='fleft grey-text br2 placeHolderLi location']/span\")\n",
    "locations_tags"
   ]
  },
  {
   "cell_type": "code",
   "execution_count": 44,
   "id": "83bd1e8c",
   "metadata": {},
   "outputs": [
    {
     "data": {
      "text/plain": [
       "['Pune',\n",
       " 'Kolkata, Mumbai, Hyderabad/Secunderabad, Pune, Ahmedabad, Bangalore/Bengaluru',\n",
       " 'Pune',\n",
       " 'Noida, Hyderabad/Secunderabad, Gurgaon/Gurugram, Chennai, Bangalore/Bengaluru, Mumbai (All Areas), Pune',\n",
       " 'Mumbai',\n",
       " 'Bangalore/Bengaluru, karnataka',\n",
       " '(WFH during Covid)',\n",
       " 'Pune',\n",
       " 'Pune',\n",
       " 'Pune, Chennai, Bangalore/Bengaluru']"
      ]
     },
     "execution_count": 44,
     "metadata": {},
     "output_type": "execute_result"
    }
   ],
   "source": [
    "locations_list=[]\n",
    "for i in locations_tags:\n",
    "    locations_list.append(i.text)\n",
    "locations_list[:10] "
   ]
  },
  {
   "cell_type": "code",
   "execution_count": 45,
   "id": "6a567809",
   "metadata": {},
   "outputs": [
    {
     "name": "stdout",
     "output_type": "stream",
     "text": [
      "10\n",
      "10\n",
      "10\n",
      "10\n"
     ]
    },
    {
     "data": {
      "text/plain": [
       "(None, None, None, None)"
      ]
     },
     "execution_count": 45,
     "metadata": {},
     "output_type": "execute_result"
    }
   ],
   "source": [
    "# lets check th length of ech element.\n",
    "print(len(job_titles[:10])),print(len(companies_names[:10])),print(len(experience_list[:10])),print(len(locations_list[:10]))"
   ]
  },
  {
   "cell_type": "markdown",
   "id": "f69c7285",
   "metadata": {},
   "source": [
    "# Creating a DataFarme for the Data Analyst jobs##\n",
    "\n"
   ]
  },
  {
   "cell_type": "code",
   "execution_count": 47,
   "id": "0c34210b",
   "metadata": {},
   "outputs": [],
   "source": [
    "jobs=pd.DataFrame({})\n",
    "jobs['title']=job_titles[:10]\n",
    "jobs['company']=companies_names[:10]\n",
    "jobs['experience_required']=experience_list[:10]\n",
    "jobs['location']=locations_list[:10]"
   ]
  },
  {
   "cell_type": "code",
   "execution_count": 48,
   "id": "5c5b9e1a",
   "metadata": {},
   "outputs": [
    {
     "data": {
      "text/html": [
       "<div>\n",
       "<style scoped>\n",
       "    .dataframe tbody tr th:only-of-type {\n",
       "        vertical-align: middle;\n",
       "    }\n",
       "\n",
       "    .dataframe tbody tr th {\n",
       "        vertical-align: top;\n",
       "    }\n",
       "\n",
       "    .dataframe thead th {\n",
       "        text-align: right;\n",
       "    }\n",
       "</style>\n",
       "<table border=\"1\" class=\"dataframe\">\n",
       "  <thead>\n",
       "    <tr style=\"text-align: right;\">\n",
       "      <th></th>\n",
       "      <th>title</th>\n",
       "      <th>company</th>\n",
       "      <th>experience_required</th>\n",
       "      <th>location</th>\n",
       "    </tr>\n",
       "  </thead>\n",
       "  <tbody>\n",
       "    <tr>\n",
       "      <th>0</th>\n",
       "      <td>HR Data Analyst</td>\n",
       "      <td>Sandvik</td>\n",
       "      <td>6-10 Yrs</td>\n",
       "      <td>Pune</td>\n",
       "    </tr>\n",
       "    <tr>\n",
       "      <th>1</th>\n",
       "      <td>Data Analyst - Python/Artificial Intelligence</td>\n",
       "      <td>iMindYourBusiness</td>\n",
       "      <td>0-2 Yrs</td>\n",
       "      <td>Kolkata, Mumbai, Hyderabad/Secunderabad, Pune,...</td>\n",
       "    </tr>\n",
       "    <tr>\n",
       "      <th>2</th>\n",
       "      <td>Business Analyst-BI Data Analyst</td>\n",
       "      <td>Persistent</td>\n",
       "      <td>8-10 Yrs</td>\n",
       "      <td>Pune</td>\n",
       "    </tr>\n",
       "    <tr>\n",
       "      <th>3</th>\n",
       "      <td>Data Analyst</td>\n",
       "      <td>Wipro</td>\n",
       "      <td>4-9 Yrs</td>\n",
       "      <td>Noida, Hyderabad/Secunderabad, Gurgaon/Gurugra...</td>\n",
       "    </tr>\n",
       "    <tr>\n",
       "      <th>4</th>\n",
       "      <td>Mumbai(vileparle) - Data Analyst</td>\n",
       "      <td>JForce Solutions</td>\n",
       "      <td>0-2 Yrs</td>\n",
       "      <td>Mumbai</td>\n",
       "    </tr>\n",
       "    <tr>\n",
       "      <th>5</th>\n",
       "      <td>Sr.Business Data Analyst</td>\n",
       "      <td>Collabera</td>\n",
       "      <td>6-11 Yrs</td>\n",
       "      <td>Bangalore/Bengaluru, karnataka</td>\n",
       "    </tr>\n",
       "    <tr>\n",
       "      <th>6</th>\n",
       "      <td>Business Data Analyst</td>\n",
       "      <td>Red Hat</td>\n",
       "      <td>1-4 Yrs</td>\n",
       "      <td>(WFH during Covid)</td>\n",
       "    </tr>\n",
       "    <tr>\n",
       "      <th>7</th>\n",
       "      <td>Data Analyst</td>\n",
       "      <td>Primohunt Corporate</td>\n",
       "      <td>0-3 Yrs</td>\n",
       "      <td>Pune</td>\n",
       "    </tr>\n",
       "    <tr>\n",
       "      <th>8</th>\n",
       "      <td>Senior Data Analysis Analyst</td>\n",
       "      <td>Capco</td>\n",
       "      <td>7-12 Yrs</td>\n",
       "      <td>Pune</td>\n",
       "    </tr>\n",
       "    <tr>\n",
       "      <th>9</th>\n",
       "      <td>Junior Data Analyst</td>\n",
       "      <td>Gem Pundit</td>\n",
       "      <td>0-1 Yrs</td>\n",
       "      <td>Pune, Chennai, Bangalore/Bengaluru</td>\n",
       "    </tr>\n",
       "  </tbody>\n",
       "</table>\n",
       "</div>"
      ],
      "text/plain": [
       "                                           title              company  \\\n",
       "0                                HR Data Analyst              Sandvik   \n",
       "1  Data Analyst - Python/Artificial Intelligence    iMindYourBusiness   \n",
       "2               Business Analyst-BI Data Analyst           Persistent   \n",
       "3                                   Data Analyst                Wipro   \n",
       "4               Mumbai(vileparle) - Data Analyst     JForce Solutions   \n",
       "5                       Sr.Business Data Analyst            Collabera   \n",
       "6                          Business Data Analyst              Red Hat   \n",
       "7                                   Data Analyst  Primohunt Corporate   \n",
       "8                   Senior Data Analysis Analyst                Capco   \n",
       "9                            Junior Data Analyst           Gem Pundit   \n",
       "\n",
       "  experience_required                                           location  \n",
       "0            6-10 Yrs                                               Pune  \n",
       "1             0-2 Yrs  Kolkata, Mumbai, Hyderabad/Secunderabad, Pune,...  \n",
       "2            8-10 Yrs                                               Pune  \n",
       "3             4-9 Yrs  Noida, Hyderabad/Secunderabad, Gurgaon/Gurugra...  \n",
       "4             0-2 Yrs                                             Mumbai  \n",
       "5            6-11 Yrs                     Bangalore/Bengaluru, karnataka  \n",
       "6             1-4 Yrs                                 (WFH during Covid)  \n",
       "7             0-3 Yrs                                               Pune  \n",
       "8            7-12 Yrs                                               Pune  \n",
       "9             0-1 Yrs                 Pune, Chennai, Bangalore/Bengaluru  "
      ]
     },
     "execution_count": 48,
     "metadata": {},
     "output_type": "execute_result"
    }
   ],
   "source": [
    "jobs"
   ]
  },
  {
   "cell_type": "code",
   "execution_count": 49,
   "id": "ec4ef028",
   "metadata": {},
   "outputs": [],
   "source": [
    "driver.close()"
   ]
  },
  {
   "cell_type": "code",
   "execution_count": 3,
   "id": "6ebff8f4",
   "metadata": {},
   "outputs": [],
   "source": [
    "from selenium.common.exceptions import NoSuchElementException"
   ]
  },
  {
   "cell_type": "markdown",
   "id": "05758dea",
   "metadata": {},
   "source": [
    "# Q:2"
   ]
  },
  {
   "cell_type": "code",
   "execution_count": 14,
   "id": "726c8857",
   "metadata": {},
   "outputs": [
    {
     "name": "stdout",
     "output_type": "stream",
     "text": [
      "Requirement already satisfied: selenium in c:\\users\\hp\\anaconda3\\lib\\site-packages (4.1.0)\n",
      "Requirement already satisfied: trio~=0.17 in c:\\users\\hp\\anaconda3\\lib\\site-packages (from selenium) (0.19.0)\n",
      "Requirement already satisfied: trio-websocket~=0.9 in c:\\users\\hp\\anaconda3\\lib\\site-packages (from selenium) (0.9.2)\n",
      "Requirement already satisfied: urllib3[secure]~=1.26 in c:\\users\\hp\\anaconda3\\lib\\site-packages (from selenium) (1.26.4)\n",
      "Requirement already satisfied: attrs>=19.2.0 in c:\\users\\hp\\anaconda3\\lib\\site-packages (from trio~=0.17->selenium) (20.3.0)\n",
      "Requirement already satisfied: async-generator>=1.9 in c:\\users\\hp\\anaconda3\\lib\\site-packages (from trio~=0.17->selenium) (1.10)\n",
      "Requirement already satisfied: sortedcontainers in c:\\users\\hp\\anaconda3\\lib\\site-packages (from trio~=0.17->selenium) (2.3.0)\n",
      "Requirement already satisfied: idna in c:\\users\\hp\\anaconda3\\lib\\site-packages (from trio~=0.17->selenium) (2.10)\n",
      "Requirement already satisfied: outcome in c:\\users\\hp\\anaconda3\\lib\\site-packages (from trio~=0.17->selenium) (1.1.0)\n",
      "Requirement already satisfied: sniffio in c:\\users\\hp\\anaconda3\\lib\\site-packages (from trio~=0.17->selenium) (1.2.0)\n",
      "Requirement already satisfied: cffi>=1.14 in c:\\users\\hp\\anaconda3\\lib\\site-packages (from trio~=0.17->selenium) (1.14.5)\n",
      "Requirement already satisfied: pycparser in c:\\users\\hp\\anaconda3\\lib\\site-packages (from cffi>=1.14->trio~=0.17->selenium) (2.20)\n",
      "Requirement already satisfied: wsproto>=0.14 in c:\\users\\hp\\anaconda3\\lib\\site-packages (from trio-websocket~=0.9->selenium) (1.0.0)\n",
      "Requirement already satisfied: certifi in c:\\users\\hp\\anaconda3\\lib\\site-packages (from urllib3[secure]~=1.26->selenium) (2020.12.5)\n",
      "Requirement already satisfied: pyOpenSSL>=0.14 in c:\\users\\hp\\anaconda3\\lib\\site-packages (from urllib3[secure]~=1.26->selenium) (20.0.1)\n",
      "Requirement already satisfied: cryptography>=1.3.4 in c:\\users\\hp\\anaconda3\\lib\\site-packages (from urllib3[secure]~=1.26->selenium) (3.4.7)\n",
      "Requirement already satisfied: six>=1.5.2 in c:\\users\\hp\\anaconda3\\lib\\site-packages (from pyOpenSSL>=0.14->urllib3[secure]~=1.26->selenium) (1.15.0)\n",
      "Requirement already satisfied: h11<1,>=0.9.0 in c:\\users\\hp\\anaconda3\\lib\\site-packages (from wsproto>=0.14->trio-websocket~=0.9->selenium) (0.12.0)\n"
     ]
    }
   ],
   "source": [
    "# let's first install the selenium library\n",
    "! pip install selenium"
   ]
  },
  {
   "cell_type": "code",
   "execution_count": 16,
   "id": "d4e2fe8b",
   "metadata": {},
   "outputs": [],
   "source": [
    "# Let's now import all the required libraries.\n",
    "import selenium\n",
    "import pandas as pd\n",
    "from selenium import webdriver"
   ]
  },
  {
   "cell_type": "code",
   "execution_count": 17,
   "id": "a0f174d0",
   "metadata": {},
   "outputs": [
    {
     "name": "stderr",
     "output_type": "stream",
     "text": [
      "<ipython-input-17-d97e2429b4d3>:2: DeprecationWarning: executable_path has been deprecated, please pass in a Service object\n",
      "  driver = webdriver.Chrome(r\"C:\\Users\\hp\\Downloads\\chromedriver.exe\")\n"
     ]
    }
   ],
   "source": [
    "#Connect to Web Driver#\n",
    "driver = webdriver.Chrome(r\"C:\\Users\\hp\\Downloads\\chromedriver.exe\")"
   ]
  },
  {
   "cell_type": "code",
   "execution_count": 18,
   "id": "6be82f5b",
   "metadata": {},
   "outputs": [],
   "source": [
    "url = \"https://www.naukri.com\"\n",
    "driver.get(url)"
   ]
  },
  {
   "cell_type": "code",
   "execution_count": 19,
   "id": "18c6f911",
   "metadata": {},
   "outputs": [
    {
     "name": "stderr",
     "output_type": "stream",
     "text": [
      "<ipython-input-19-99af53848237>:2: DeprecationWarning: find_element_by_* commands are deprecated. Please use find_element() instead\n",
      "  search_job = driver.find_element_by_class_name (\"suggestor-input \")\n"
     ]
    },
    {
     "data": {
      "text/plain": [
       "<selenium.webdriver.remote.webelement.WebElement (session=\"b12de76cc89c2b41d330618d2ff92f3f\", element=\"a5409ebc-e0d4-4ba6-8b8c-9cae1015b323\")>"
      ]
     },
     "execution_count": 19,
     "metadata": {},
     "output_type": "execute_result"
    }
   ],
   "source": [
    " #finding element for job searchbar#\n",
    "search_job = driver.find_element_by_class_name (\"suggestor-input \") \n",
    "search_job"
   ]
  },
  {
   "cell_type": "code",
   "execution_count": 20,
   "id": "fab10f9f",
   "metadata": {},
   "outputs": [],
   "source": [
    "#Write on search bar#\n",
    "search_job.send_keys(\"Data Scientist\")"
   ]
  },
  {
   "cell_type": "code",
   "execution_count": 21,
   "id": "faf8aac6",
   "metadata": {},
   "outputs": [
    {
     "name": "stderr",
     "output_type": "stream",
     "text": [
      "<ipython-input-21-4212dfe36b43>:2: DeprecationWarning: find_element_by_* commands are deprecated. Please use find_element() instead\n",
      "  search_loc=driver.find_element_by_xpath('/html/body/div[1]/div[2]/div[3]/div/div/div[5]/div/div/div/input')\n"
     ]
    },
    {
     "data": {
      "text/plain": [
       "<selenium.webdriver.remote.webelement.WebElement (session=\"b12de76cc89c2b41d330618d2ff92f3f\", element=\"dd8cda6b-a910-4bf6-85eb-be6e43be27b3\")>"
      ]
     },
     "execution_count": 21,
     "metadata": {},
     "output_type": "execute_result"
    }
   ],
   "source": [
    "# finding element for job location bar\n",
    "search_loc=driver.find_element_by_xpath('/html/body/div[1]/div[2]/div[3]/div/div/div[5]/div/div/div/input')\n",
    "search_loc"
   ]
  },
  {
   "cell_type": "code",
   "execution_count": 22,
   "id": "c2d8f7f5",
   "metadata": {},
   "outputs": [],
   "source": [
    "search_loc.send_keys(\"Bangalore\")"
   ]
  },
  {
   "cell_type": "code",
   "execution_count": 23,
   "id": "a6579f07",
   "metadata": {},
   "outputs": [
    {
     "name": "stderr",
     "output_type": "stream",
     "text": [
      "<ipython-input-23-83536624e5a6>:1: DeprecationWarning: find_element_by_* commands are deprecated. Please use find_element() instead\n",
      "  search_btn= driver .find_element_by_xpath(\"/html/body/div[1]/div[2]/div[3]/div/div/div[6]\")\n"
     ]
    },
    {
     "data": {
      "text/plain": [
       "<selenium.webdriver.remote.webelement.WebElement (session=\"b12de76cc89c2b41d330618d2ff92f3f\", element=\"55d3aedd-090c-47e1-b6c0-85df1d66f46b\")>"
      ]
     },
     "execution_count": 23,
     "metadata": {},
     "output_type": "execute_result"
    }
   ],
   "source": [
    "search_btn= driver .find_element_by_xpath(\"/html/body/div[1]/div[2]/div[3]/div/div/div[6]\")\n",
    "search_btn"
   ]
  },
  {
   "cell_type": "code",
   "execution_count": 24,
   "id": "191e571a",
   "metadata": {},
   "outputs": [
    {
     "data": {
      "text/plain": [
       "<bound method WebElement.click of <selenium.webdriver.remote.webelement.WebElement (session=\"b12de76cc89c2b41d330618d2ff92f3f\", element=\"55d3aedd-090c-47e1-b6c0-85df1d66f46b\")>>"
      ]
     },
     "execution_count": 24,
     "metadata": {},
     "output_type": "execute_result"
    }
   ],
   "source": [
    "search_btn.click"
   ]
  },
  {
   "cell_type": "code",
   "execution_count": 26,
   "id": "65952af6",
   "metadata": {},
   "outputs": [
    {
     "name": "stderr",
     "output_type": "stream",
     "text": [
      "<ipython-input-26-56fc75ecbe53>:2: DeprecationWarning: find_elements_by_* commands are deprecated. Please use find_elements() instead\n",
      "  title_tags=driver.find_elements_by_xpath('//a[@class=\"title fw500 ellipsis\"]')\n"
     ]
    },
    {
     "data": {
      "text/plain": [
       "20"
      ]
     },
     "execution_count": 26,
     "metadata": {},
     "output_type": "execute_result"
    }
   ],
   "source": [
    "#let's extract all the tags having the job titles#\n",
    "title_tags=driver.find_elements_by_xpath('//a[@class=\"title fw500 ellipsis\"]')\n",
    "title_tags\n",
    "len(title_tags)"
   ]
  },
  {
   "cell_type": "code",
   "execution_count": 27,
   "id": "b6725094",
   "metadata": {},
   "outputs": [
    {
     "data": {
      "text/plain": [
       "['Urgent Job Opening For AI Practitioner - Data Science at Wipro Holmes',\n",
       " 'Hiring For Senior Data Scientist',\n",
       " 'Senior Data Scientist',\n",
       " 'Dataiku Consultant',\n",
       " 'Research and Development -AI/ML -(PhD )',\n",
       " 'Opportunity For Data Scientist - Female Candidates ONLY',\n",
       " 'Senior Data Science Engineer',\n",
       " 'Data Science - Engineering Manager',\n",
       " 'Data Scientist',\n",
       " 'Data & Analytics Tech - Informatica Cloud- Senior Associate']"
      ]
     },
     "execution_count": 27,
     "metadata": {},
     "output_type": "execute_result"
    }
   ],
   "source": [
    "# extract the text of the job title  from the tags\n",
    "job_titles=[]\n",
    "for i in title_tags:\n",
    "    if i.text is None:\n",
    "        job_titles.append('Not')\n",
    "    else:\n",
    "        job_titles.append(i.text)\n",
    "job_titles[:10]  "
   ]
  },
  {
   "cell_type": "code",
   "execution_count": 28,
   "id": "de485a61",
   "metadata": {},
   "outputs": [
    {
     "name": "stderr",
     "output_type": "stream",
     "text": [
      "<ipython-input-28-8c443eece41f>:2: DeprecationWarning: find_elements_by_* commands are deprecated. Please use find_elements() instead\n",
      "  company_tags=driver.find_elements_by_xpath(\"//a[@class='subTitle ellipsis fleft']\")\n"
     ]
    },
    {
     "data": {
      "text/plain": [
       "[<selenium.webdriver.remote.webelement.WebElement (session=\"b12de76cc89c2b41d330618d2ff92f3f\", element=\"5d83888a-b720-4900-9163-fad9705bad03\")>,\n",
       " <selenium.webdriver.remote.webelement.WebElement (session=\"b12de76cc89c2b41d330618d2ff92f3f\", element=\"a1d66011-47ed-4ba4-867c-8fd9ef2a7507\")>,\n",
       " <selenium.webdriver.remote.webelement.WebElement (session=\"b12de76cc89c2b41d330618d2ff92f3f\", element=\"ee78af96-abfa-4c37-a011-58592d85b194\")>,\n",
       " <selenium.webdriver.remote.webelement.WebElement (session=\"b12de76cc89c2b41d330618d2ff92f3f\", element=\"f0636ccf-7fca-40d6-9e02-b2766a239e68\")>,\n",
       " <selenium.webdriver.remote.webelement.WebElement (session=\"b12de76cc89c2b41d330618d2ff92f3f\", element=\"dbe42518-68f2-455e-bb69-cb3506faaa8a\")>,\n",
       " <selenium.webdriver.remote.webelement.WebElement (session=\"b12de76cc89c2b41d330618d2ff92f3f\", element=\"816acd7f-f0cf-4784-a42e-e3603592d483\")>,\n",
       " <selenium.webdriver.remote.webelement.WebElement (session=\"b12de76cc89c2b41d330618d2ff92f3f\", element=\"16b3b6e4-4f14-4671-86d1-531d2defc82d\")>,\n",
       " <selenium.webdriver.remote.webelement.WebElement (session=\"b12de76cc89c2b41d330618d2ff92f3f\", element=\"90c2cf08-c316-4e69-a1b8-8df073729e15\")>,\n",
       " <selenium.webdriver.remote.webelement.WebElement (session=\"b12de76cc89c2b41d330618d2ff92f3f\", element=\"dcd53ed5-478a-49f9-9b39-5d825cd2e60e\")>,\n",
       " <selenium.webdriver.remote.webelement.WebElement (session=\"b12de76cc89c2b41d330618d2ff92f3f\", element=\"1593c26b-3b69-49e3-9389-4cb08ff80ee4\")>,\n",
       " <selenium.webdriver.remote.webelement.WebElement (session=\"b12de76cc89c2b41d330618d2ff92f3f\", element=\"fb8979ca-681a-4137-a334-af1dfac00272\")>,\n",
       " <selenium.webdriver.remote.webelement.WebElement (session=\"b12de76cc89c2b41d330618d2ff92f3f\", element=\"372b0a6a-9c72-4861-90df-9086d737033a\")>,\n",
       " <selenium.webdriver.remote.webelement.WebElement (session=\"b12de76cc89c2b41d330618d2ff92f3f\", element=\"c2ff20b3-ad26-4422-98ce-f1543dc1cced\")>,\n",
       " <selenium.webdriver.remote.webelement.WebElement (session=\"b12de76cc89c2b41d330618d2ff92f3f\", element=\"97f2c27d-43ac-4c8d-9379-2e7bcd2a42d2\")>,\n",
       " <selenium.webdriver.remote.webelement.WebElement (session=\"b12de76cc89c2b41d330618d2ff92f3f\", element=\"6efa02fe-6fb3-4856-bc3b-9e2815d593b8\")>,\n",
       " <selenium.webdriver.remote.webelement.WebElement (session=\"b12de76cc89c2b41d330618d2ff92f3f\", element=\"e8df2114-ce57-410d-8fc6-824e4d4ceb1f\")>,\n",
       " <selenium.webdriver.remote.webelement.WebElement (session=\"b12de76cc89c2b41d330618d2ff92f3f\", element=\"9c258e82-71cc-43bb-b014-bc7ad4a4b470\")>,\n",
       " <selenium.webdriver.remote.webelement.WebElement (session=\"b12de76cc89c2b41d330618d2ff92f3f\", element=\"2e5c7e06-d3a7-4554-83d4-a32780d74233\")>,\n",
       " <selenium.webdriver.remote.webelement.WebElement (session=\"b12de76cc89c2b41d330618d2ff92f3f\", element=\"f1d27266-1b8b-43cb-aafa-d2a82bc94d64\")>,\n",
       " <selenium.webdriver.remote.webelement.WebElement (session=\"b12de76cc89c2b41d330618d2ff92f3f\", element=\"946d8d08-f37d-4f79-8b47-1cb289fea1ba\")>]"
      ]
     },
     "execution_count": 28,
     "metadata": {},
     "output_type": "execute_result"
    }
   ],
   "source": [
    "# lets extract all the tags having company names\n",
    "company_tags=driver.find_elements_by_xpath(\"//a[@class='subTitle ellipsis fleft']\")\n",
    "company_tags"
   ]
  },
  {
   "cell_type": "code",
   "execution_count": 29,
   "id": "655d99f0",
   "metadata": {},
   "outputs": [
    {
     "data": {
      "text/plain": [
       "['Wipro',\n",
       " 'TATA CONSULTANCY SERVICES (TCS)',\n",
       " 'Spiceworks',\n",
       " 'Wipro',\n",
       " 'EXL',\n",
       " 'PayU',\n",
       " 'Fractal Analytics',\n",
       " 'Paytm',\n",
       " 'Applied Materials',\n",
       " 'PwC']"
      ]
     },
     "execution_count": 29,
     "metadata": {},
     "output_type": "execute_result"
    }
   ],
   "source": [
    "# Now we will extract the text from the tags by looping over these tags\n",
    "companies_names=[]\n",
    "\n",
    "for i in company_tags:\n",
    "    companies_names.append(i.text)\n",
    "companies_names[:10]  "
   ]
  },
  {
   "cell_type": "code",
   "execution_count": 30,
   "id": "a6d9556e",
   "metadata": {},
   "outputs": [
    {
     "name": "stderr",
     "output_type": "stream",
     "text": [
      "<ipython-input-30-734a5e9f87da>:2: DeprecationWarning: find_elements_by_* commands are deprecated. Please use find_elements() instead\n",
      "  experience_tags=driver.find_elements_by_xpath(\"//li[@class='fleft grey-text br2 placeHolderLi experience'] //span\")\n"
     ]
    },
    {
     "data": {
      "text/plain": [
       "[<selenium.webdriver.remote.webelement.WebElement (session=\"b12de76cc89c2b41d330618d2ff92f3f\", element=\"5a640729-f764-444f-846e-5154073bd2cd\")>,\n",
       " <selenium.webdriver.remote.webelement.WebElement (session=\"b12de76cc89c2b41d330618d2ff92f3f\", element=\"37abcdf5-2fd1-435a-b923-d7e22c35f124\")>,\n",
       " <selenium.webdriver.remote.webelement.WebElement (session=\"b12de76cc89c2b41d330618d2ff92f3f\", element=\"a814f33b-ab24-452c-a746-0db874df8131\")>,\n",
       " <selenium.webdriver.remote.webelement.WebElement (session=\"b12de76cc89c2b41d330618d2ff92f3f\", element=\"bca28e2e-b43b-4afd-98e1-e3ec27b1f7a4\")>,\n",
       " <selenium.webdriver.remote.webelement.WebElement (session=\"b12de76cc89c2b41d330618d2ff92f3f\", element=\"23244020-4f88-4629-9e08-989b9092d77e\")>,\n",
       " <selenium.webdriver.remote.webelement.WebElement (session=\"b12de76cc89c2b41d330618d2ff92f3f\", element=\"120e0c2c-b3c7-4308-bf68-d207685fc54e\")>,\n",
       " <selenium.webdriver.remote.webelement.WebElement (session=\"b12de76cc89c2b41d330618d2ff92f3f\", element=\"7d6e7d92-dad3-40de-ae90-1fb688acdc5d\")>,\n",
       " <selenium.webdriver.remote.webelement.WebElement (session=\"b12de76cc89c2b41d330618d2ff92f3f\", element=\"95a27933-7500-4ac8-92ce-46f53bfbbc01\")>,\n",
       " <selenium.webdriver.remote.webelement.WebElement (session=\"b12de76cc89c2b41d330618d2ff92f3f\", element=\"90ec7697-4921-4119-aa4e-3961902964cb\")>,\n",
       " <selenium.webdriver.remote.webelement.WebElement (session=\"b12de76cc89c2b41d330618d2ff92f3f\", element=\"30884fee-a2f6-4866-90fb-497c28bc7f45\")>,\n",
       " <selenium.webdriver.remote.webelement.WebElement (session=\"b12de76cc89c2b41d330618d2ff92f3f\", element=\"99ae5e75-840c-481d-ae37-1a89f67e946f\")>,\n",
       " <selenium.webdriver.remote.webelement.WebElement (session=\"b12de76cc89c2b41d330618d2ff92f3f\", element=\"ca30f0b4-25d9-4196-9308-e0040bd02cea\")>,\n",
       " <selenium.webdriver.remote.webelement.WebElement (session=\"b12de76cc89c2b41d330618d2ff92f3f\", element=\"42238847-a16e-4d7e-ba87-a4fa0ad7cd36\")>,\n",
       " <selenium.webdriver.remote.webelement.WebElement (session=\"b12de76cc89c2b41d330618d2ff92f3f\", element=\"ab7acbf0-1b02-4b14-9c77-14dec38c4021\")>,\n",
       " <selenium.webdriver.remote.webelement.WebElement (session=\"b12de76cc89c2b41d330618d2ff92f3f\", element=\"c2b9cc47-28f5-4f18-9397-1aefbff0d9c6\")>,\n",
       " <selenium.webdriver.remote.webelement.WebElement (session=\"b12de76cc89c2b41d330618d2ff92f3f\", element=\"72bd70ba-9d71-406c-8a0c-e1455cef4a2d\")>,\n",
       " <selenium.webdriver.remote.webelement.WebElement (session=\"b12de76cc89c2b41d330618d2ff92f3f\", element=\"375e5c23-1e4a-4429-b7ea-2d500dd1df9a\")>,\n",
       " <selenium.webdriver.remote.webelement.WebElement (session=\"b12de76cc89c2b41d330618d2ff92f3f\", element=\"386bf75f-3a44-41a2-8ecf-7dd9dcfec0b5\")>,\n",
       " <selenium.webdriver.remote.webelement.WebElement (session=\"b12de76cc89c2b41d330618d2ff92f3f\", element=\"da1e6580-1163-4037-a8ee-b935047442ae\")>,\n",
       " <selenium.webdriver.remote.webelement.WebElement (session=\"b12de76cc89c2b41d330618d2ff92f3f\", element=\"ecfcd3e5-ab90-4988-9e51-2a720f9351c4\")>]"
      ]
     },
     "execution_count": 30,
     "metadata": {},
     "output_type": "execute_result"
    }
   ],
   "source": [
    "# lets extract  all the tags having the experience required data#\n",
    "experience_tags=driver.find_elements_by_xpath(\"//li[@class='fleft grey-text br2 placeHolderLi experience'] //span\")\n",
    "experience_tags"
   ]
  },
  {
   "cell_type": "code",
   "execution_count": 31,
   "id": "2cabf171",
   "metadata": {},
   "outputs": [
    {
     "data": {
      "text/plain": [
       "['11-21 Yrs',\n",
       " '8-13 Yrs',\n",
       " '5-7 Yrs',\n",
       " '10-16 Yrs',\n",
       " '4-8 Yrs',\n",
       " '1-3 Yrs',\n",
       " '5-9 Yrs',\n",
       " '9-13 Yrs',\n",
       " '4-7 Yrs',\n",
       " '6-10 Yrs']"
      ]
     },
     "execution_count": 31,
     "metadata": {},
     "output_type": "execute_result"
    }
   ],
   "source": [
    "# now we will extract the text  from these tags only by one by looping over these tags\n",
    "experience_list=[]\n",
    "for i in experience_tags:\n",
    "    experience_list.append(i.text)\n",
    "experience_list[:10]   "
   ]
  },
  {
   "cell_type": "code",
   "execution_count": 32,
   "id": "c3712f17",
   "metadata": {},
   "outputs": [
    {
     "name": "stderr",
     "output_type": "stream",
     "text": [
      "<ipython-input-32-c02dc4059f5e>:1: DeprecationWarning: find_elements_by_* commands are deprecated. Please use find_elements() instead\n",
      "  locations_tags=driver.find_elements_by_xpath(\"//li[@class='fleft grey-text br2 placeHolderLi location']/span\")\n"
     ]
    },
    {
     "data": {
      "text/plain": [
       "[<selenium.webdriver.remote.webelement.WebElement (session=\"b12de76cc89c2b41d330618d2ff92f3f\", element=\"12cc4309-29ad-4ab4-9880-13c827b0a1eb\")>,\n",
       " <selenium.webdriver.remote.webelement.WebElement (session=\"b12de76cc89c2b41d330618d2ff92f3f\", element=\"1040516a-4bd0-47b3-9629-254de4ef2ce7\")>,\n",
       " <selenium.webdriver.remote.webelement.WebElement (session=\"b12de76cc89c2b41d330618d2ff92f3f\", element=\"31bdd308-9c13-4aa7-b73e-f80d1d0b4a15\")>,\n",
       " <selenium.webdriver.remote.webelement.WebElement (session=\"b12de76cc89c2b41d330618d2ff92f3f\", element=\"40aa1d9c-f964-43d6-9b85-00960dae461a\")>,\n",
       " <selenium.webdriver.remote.webelement.WebElement (session=\"b12de76cc89c2b41d330618d2ff92f3f\", element=\"b61f62ce-111f-4c72-826e-567691e130f3\")>,\n",
       " <selenium.webdriver.remote.webelement.WebElement (session=\"b12de76cc89c2b41d330618d2ff92f3f\", element=\"327ee59a-16d6-40e3-bc32-7836a4ac4913\")>,\n",
       " <selenium.webdriver.remote.webelement.WebElement (session=\"b12de76cc89c2b41d330618d2ff92f3f\", element=\"2565066d-2a29-4b4f-b246-efc432ae31db\")>,\n",
       " <selenium.webdriver.remote.webelement.WebElement (session=\"b12de76cc89c2b41d330618d2ff92f3f\", element=\"4ad43fdb-b966-4631-a72f-4c4c67630543\")>,\n",
       " <selenium.webdriver.remote.webelement.WebElement (session=\"b12de76cc89c2b41d330618d2ff92f3f\", element=\"1908c209-3a33-4e72-a1b1-9d757fe12d85\")>,\n",
       " <selenium.webdriver.remote.webelement.WebElement (session=\"b12de76cc89c2b41d330618d2ff92f3f\", element=\"708b32ea-3ea8-4b27-b016-4c7fc517b504\")>,\n",
       " <selenium.webdriver.remote.webelement.WebElement (session=\"b12de76cc89c2b41d330618d2ff92f3f\", element=\"2fdffd66-2f7b-43d4-b919-e4fcaaf7203d\")>,\n",
       " <selenium.webdriver.remote.webelement.WebElement (session=\"b12de76cc89c2b41d330618d2ff92f3f\", element=\"777e942e-792d-4c6e-971c-84b4b0ff79b6\")>,\n",
       " <selenium.webdriver.remote.webelement.WebElement (session=\"b12de76cc89c2b41d330618d2ff92f3f\", element=\"9a6754b6-5bbc-4237-899b-e993225d5966\")>,\n",
       " <selenium.webdriver.remote.webelement.WebElement (session=\"b12de76cc89c2b41d330618d2ff92f3f\", element=\"ee51883a-2285-46fd-9d00-f18f8451929c\")>,\n",
       " <selenium.webdriver.remote.webelement.WebElement (session=\"b12de76cc89c2b41d330618d2ff92f3f\", element=\"58a494e0-f9eb-4174-b69e-ae01748b7eaa\")>,\n",
       " <selenium.webdriver.remote.webelement.WebElement (session=\"b12de76cc89c2b41d330618d2ff92f3f\", element=\"e02b9c71-1f92-46bf-bc45-6786a3a02c9d\")>,\n",
       " <selenium.webdriver.remote.webelement.WebElement (session=\"b12de76cc89c2b41d330618d2ff92f3f\", element=\"94710c20-c065-46f6-a33d-8b208ab49519\")>,\n",
       " <selenium.webdriver.remote.webelement.WebElement (session=\"b12de76cc89c2b41d330618d2ff92f3f\", element=\"1a615d4f-e853-4a06-96d0-9650c871a1ca\")>,\n",
       " <selenium.webdriver.remote.webelement.WebElement (session=\"b12de76cc89c2b41d330618d2ff92f3f\", element=\"c33e9eb1-54f0-40c8-9115-7414edac9bcb\")>,\n",
       " <selenium.webdriver.remote.webelement.WebElement (session=\"b12de76cc89c2b41d330618d2ff92f3f\", element=\"d905f13b-0cc1-4c43-968d-ddb7273c73b3\")>,\n",
       " <selenium.webdriver.remote.webelement.WebElement (session=\"b12de76cc89c2b41d330618d2ff92f3f\", element=\"01b2c892-e8ab-40d5-8f5b-d7baa993dd39\")>,\n",
       " <selenium.webdriver.remote.webelement.WebElement (session=\"b12de76cc89c2b41d330618d2ff92f3f\", element=\"17c3042f-8e04-4b63-a283-4a19d18ff06e\")>]"
      ]
     },
     "execution_count": 32,
     "metadata": {},
     "output_type": "execute_result"
    }
   ],
   "source": [
    "locations_tags=driver.find_elements_by_xpath(\"//li[@class='fleft grey-text br2 placeHolderLi location']/span\")\n",
    "locations_tags"
   ]
  },
  {
   "cell_type": "code",
   "execution_count": 33,
   "id": "f7c2ee1c",
   "metadata": {},
   "outputs": [
    {
     "data": {
      "text/plain": [
       "['Bangalore/Bengaluru, Kochi/Cochin, New Delhi, Coimbatore, Chennai, Pune, Mumbai, Hyderabad',\n",
       " 'Bangalore/Bengaluru, Pune',\n",
       " 'Bangalore/Bengaluru, Mumbai, Hyderabad/Secunderabad, Pune, REMOTE',\n",
       " 'Bangalore/Bengaluru, Pune, Chennai',\n",
       " 'Bangalore/Bengaluru, Noida, Hyderabad/Secunderabad, Pune, Gurgaon/Gurugram, Chennai, Delhi / NCR',\n",
       " 'Bangalore/Bengaluru, Gurgaon/Gurugram, Mumbai (All Areas)',\n",
       " 'Bangalore/Bengaluru, Gurgaon/Gurugram, Mumbai (All Areas)',\n",
       " 'Bangalore/Bengaluru, Noida, Mumbai',\n",
       " 'Bangalore/Bengaluru',\n",
       " 'Bangalore/Bengaluru']"
      ]
     },
     "execution_count": 33,
     "metadata": {},
     "output_type": "execute_result"
    }
   ],
   "source": [
    "locations_list=[]\n",
    "for i in locations_tags:\n",
    "    locations_list.append(i.text)\n",
    "locations_list[:10]  "
   ]
  },
  {
   "cell_type": "code",
   "execution_count": 34,
   "id": "62d68516",
   "metadata": {},
   "outputs": [
    {
     "name": "stdout",
     "output_type": "stream",
     "text": [
      "10\n",
      "10\n",
      "10\n",
      "10\n"
     ]
    },
    {
     "data": {
      "text/plain": [
       "(None, None, None, None)"
      ]
     },
     "execution_count": 34,
     "metadata": {},
     "output_type": "execute_result"
    }
   ],
   "source": [
    "#lets check th length of ech element#\n",
    "print(len(job_titles[:10])),print(len(companies_names[:10])),print(len(experience_list[:10])),print(len(locations_list[:10]))"
   ]
  },
  {
   "cell_type": "markdown",
   "id": "316db084",
   "metadata": {},
   "source": [
    "# Cearte a DataFarme for the Data Analyst jobs"
   ]
  },
  {
   "cell_type": "code",
   "execution_count": 35,
   "id": "392db539",
   "metadata": {},
   "outputs": [],
   "source": [
    "jobs=pd.DataFrame({})\n",
    "jobs['title']=job_titles[:10]\n",
    "jobs['company']=companies_names[:10]\n",
    "jobs['experience_required']=experience_list[:10]\n",
    "jobs['location']=locations_list[:10]"
   ]
  },
  {
   "cell_type": "code",
   "execution_count": 36,
   "id": "eb26b614",
   "metadata": {},
   "outputs": [
    {
     "data": {
      "text/html": [
       "<div>\n",
       "<style scoped>\n",
       "    .dataframe tbody tr th:only-of-type {\n",
       "        vertical-align: middle;\n",
       "    }\n",
       "\n",
       "    .dataframe tbody tr th {\n",
       "        vertical-align: top;\n",
       "    }\n",
       "\n",
       "    .dataframe thead th {\n",
       "        text-align: right;\n",
       "    }\n",
       "</style>\n",
       "<table border=\"1\" class=\"dataframe\">\n",
       "  <thead>\n",
       "    <tr style=\"text-align: right;\">\n",
       "      <th></th>\n",
       "      <th>title</th>\n",
       "      <th>company</th>\n",
       "      <th>experience_required</th>\n",
       "      <th>location</th>\n",
       "    </tr>\n",
       "  </thead>\n",
       "  <tbody>\n",
       "    <tr>\n",
       "      <th>0</th>\n",
       "      <td>Urgent Job Opening For AI Practitioner - Data ...</td>\n",
       "      <td>Wipro</td>\n",
       "      <td>11-21 Yrs</td>\n",
       "      <td>Bangalore/Bengaluru, Kochi/Cochin, New Delhi, ...</td>\n",
       "    </tr>\n",
       "    <tr>\n",
       "      <th>1</th>\n",
       "      <td>Hiring For Senior Data Scientist</td>\n",
       "      <td>TATA CONSULTANCY SERVICES (TCS)</td>\n",
       "      <td>8-13 Yrs</td>\n",
       "      <td>Bangalore/Bengaluru, Pune</td>\n",
       "    </tr>\n",
       "    <tr>\n",
       "      <th>2</th>\n",
       "      <td>Senior Data Scientist</td>\n",
       "      <td>Spiceworks</td>\n",
       "      <td>5-7 Yrs</td>\n",
       "      <td>Bangalore/Bengaluru, Mumbai, Hyderabad/Secunde...</td>\n",
       "    </tr>\n",
       "    <tr>\n",
       "      <th>3</th>\n",
       "      <td>Dataiku Consultant</td>\n",
       "      <td>Wipro</td>\n",
       "      <td>10-16 Yrs</td>\n",
       "      <td>Bangalore/Bengaluru, Pune, Chennai</td>\n",
       "    </tr>\n",
       "    <tr>\n",
       "      <th>4</th>\n",
       "      <td>Research and Development -AI/ML -(PhD )</td>\n",
       "      <td>EXL</td>\n",
       "      <td>4-8 Yrs</td>\n",
       "      <td>Bangalore/Bengaluru, Noida, Hyderabad/Secunder...</td>\n",
       "    </tr>\n",
       "    <tr>\n",
       "      <th>5</th>\n",
       "      <td>Opportunity For Data Scientist - Female Candid...</td>\n",
       "      <td>PayU</td>\n",
       "      <td>1-3 Yrs</td>\n",
       "      <td>Bangalore/Bengaluru, Gurgaon/Gurugram, Mumbai ...</td>\n",
       "    </tr>\n",
       "    <tr>\n",
       "      <th>6</th>\n",
       "      <td>Senior Data Science Engineer</td>\n",
       "      <td>Fractal Analytics</td>\n",
       "      <td>5-9 Yrs</td>\n",
       "      <td>Bangalore/Bengaluru, Gurgaon/Gurugram, Mumbai ...</td>\n",
       "    </tr>\n",
       "    <tr>\n",
       "      <th>7</th>\n",
       "      <td>Data Science - Engineering Manager</td>\n",
       "      <td>Paytm</td>\n",
       "      <td>9-13 Yrs</td>\n",
       "      <td>Bangalore/Bengaluru, Noida, Mumbai</td>\n",
       "    </tr>\n",
       "    <tr>\n",
       "      <th>8</th>\n",
       "      <td>Data Scientist</td>\n",
       "      <td>Applied Materials</td>\n",
       "      <td>4-7 Yrs</td>\n",
       "      <td>Bangalore/Bengaluru</td>\n",
       "    </tr>\n",
       "    <tr>\n",
       "      <th>9</th>\n",
       "      <td>Data &amp; Analytics Tech - Informatica Cloud- Sen...</td>\n",
       "      <td>PwC</td>\n",
       "      <td>6-10 Yrs</td>\n",
       "      <td>Bangalore/Bengaluru</td>\n",
       "    </tr>\n",
       "  </tbody>\n",
       "</table>\n",
       "</div>"
      ],
      "text/plain": [
       "                                               title  \\\n",
       "0  Urgent Job Opening For AI Practitioner - Data ...   \n",
       "1                   Hiring For Senior Data Scientist   \n",
       "2                              Senior Data Scientist   \n",
       "3                                 Dataiku Consultant   \n",
       "4            Research and Development -AI/ML -(PhD )   \n",
       "5  Opportunity For Data Scientist - Female Candid...   \n",
       "6                       Senior Data Science Engineer   \n",
       "7                 Data Science - Engineering Manager   \n",
       "8                                     Data Scientist   \n",
       "9  Data & Analytics Tech - Informatica Cloud- Sen...   \n",
       "\n",
       "                           company experience_required  \\\n",
       "0                            Wipro           11-21 Yrs   \n",
       "1  TATA CONSULTANCY SERVICES (TCS)            8-13 Yrs   \n",
       "2                       Spiceworks             5-7 Yrs   \n",
       "3                            Wipro           10-16 Yrs   \n",
       "4                              EXL             4-8 Yrs   \n",
       "5                             PayU             1-3 Yrs   \n",
       "6                Fractal Analytics             5-9 Yrs   \n",
       "7                            Paytm            9-13 Yrs   \n",
       "8                Applied Materials             4-7 Yrs   \n",
       "9                              PwC            6-10 Yrs   \n",
       "\n",
       "                                            location  \n",
       "0  Bangalore/Bengaluru, Kochi/Cochin, New Delhi, ...  \n",
       "1                          Bangalore/Bengaluru, Pune  \n",
       "2  Bangalore/Bengaluru, Mumbai, Hyderabad/Secunde...  \n",
       "3                 Bangalore/Bengaluru, Pune, Chennai  \n",
       "4  Bangalore/Bengaluru, Noida, Hyderabad/Secunder...  \n",
       "5  Bangalore/Bengaluru, Gurgaon/Gurugram, Mumbai ...  \n",
       "6  Bangalore/Bengaluru, Gurgaon/Gurugram, Mumbai ...  \n",
       "7                 Bangalore/Bengaluru, Noida, Mumbai  \n",
       "8                                Bangalore/Bengaluru  \n",
       "9                                Bangalore/Bengaluru  "
      ]
     },
     "execution_count": 36,
     "metadata": {},
     "output_type": "execute_result"
    }
   ],
   "source": [
    "jobs"
   ]
  },
  {
   "cell_type": "code",
   "execution_count": 37,
   "id": "f6e840d7",
   "metadata": {},
   "outputs": [],
   "source": [
    "driver.close()"
   ]
  },
  {
   "cell_type": "markdown",
   "id": "72862cad",
   "metadata": {},
   "source": [
    "# Q :3"
   ]
  },
  {
   "cell_type": "code",
   "execution_count": 40,
   "id": "57798381",
   "metadata": {},
   "outputs": [
    {
     "name": "stdout",
     "output_type": "stream",
     "text": [
      "Requirement already satisfied: selenium in c:\\users\\hp\\anaconda3\\lib\\site-packages (4.1.0)\n",
      "Requirement already satisfied: trio-websocket~=0.9 in c:\\users\\hp\\anaconda3\\lib\\site-packages (from selenium) (0.9.2)\n",
      "Requirement already satisfied: urllib3[secure]~=1.26 in c:\\users\\hp\\anaconda3\\lib\\site-packages (from selenium) (1.26.4)\n",
      "Requirement already satisfied: trio~=0.17 in c:\\users\\hp\\anaconda3\\lib\\site-packages (from selenium) (0.19.0)\n",
      "Requirement already satisfied: sortedcontainers in c:\\users\\hp\\anaconda3\\lib\\site-packages (from trio~=0.17->selenium) (2.3.0)\n",
      "Requirement already satisfied: sniffio in c:\\users\\hp\\anaconda3\\lib\\site-packages (from trio~=0.17->selenium) (1.2.0)\n",
      "Requirement already satisfied: attrs>=19.2.0 in c:\\users\\hp\\anaconda3\\lib\\site-packages (from trio~=0.17->selenium) (20.3.0)\n",
      "Requirement already satisfied: cffi>=1.14 in c:\\users\\hp\\anaconda3\\lib\\site-packages (from trio~=0.17->selenium) (1.14.5)\n",
      "Requirement already satisfied: async-generator>=1.9 in c:\\users\\hp\\anaconda3\\lib\\site-packages (from trio~=0.17->selenium) (1.10)\n",
      "Requirement already satisfied: idna in c:\\users\\hp\\anaconda3\\lib\\site-packages (from trio~=0.17->selenium) (2.10)\n",
      "Requirement already satisfied: outcome in c:\\users\\hp\\anaconda3\\lib\\site-packages (from trio~=0.17->selenium) (1.1.0)\n",
      "Requirement already satisfied: pycparser in c:\\users\\hp\\anaconda3\\lib\\site-packages (from cffi>=1.14->trio~=0.17->selenium) (2.20)\n",
      "Requirement already satisfied: wsproto>=0.14 in c:\\users\\hp\\anaconda3\\lib\\site-packages (from trio-websocket~=0.9->selenium) (1.0.0)\n",
      "Requirement already satisfied: certifi in c:\\users\\hp\\anaconda3\\lib\\site-packages (from urllib3[secure]~=1.26->selenium) (2020.12.5)\n",
      "Requirement already satisfied: cryptography>=1.3.4 in c:\\users\\hp\\anaconda3\\lib\\site-packages (from urllib3[secure]~=1.26->selenium) (3.4.7)\n",
      "Requirement already satisfied: pyOpenSSL>=0.14 in c:\\users\\hp\\anaconda3\\lib\\site-packages (from urllib3[secure]~=1.26->selenium) (20.0.1)\n",
      "Requirement already satisfied: six>=1.5.2 in c:\\users\\hp\\anaconda3\\lib\\site-packages (from pyOpenSSL>=0.14->urllib3[secure]~=1.26->selenium) (1.15.0)\n",
      "Requirement already satisfied: h11<1,>=0.9.0 in c:\\users\\hp\\anaconda3\\lib\\site-packages (from wsproto>=0.14->trio-websocket~=0.9->selenium) (0.12.0)\n"
     ]
    }
   ],
   "source": [
    "# let's first install the selenium library\n",
    "! pip install selenium"
   ]
  },
  {
   "cell_type": "code",
   "execution_count": 41,
   "id": "c23132bf",
   "metadata": {},
   "outputs": [],
   "source": [
    "# Let's now import all the required libraries.\n",
    "import selenium\n",
    "import pandas as pd\n",
    "from selenium import webdriver"
   ]
  },
  {
   "cell_type": "code",
   "execution_count": 42,
   "id": "c82bfcf9",
   "metadata": {},
   "outputs": [
    {
     "name": "stderr",
     "output_type": "stream",
     "text": [
      "<ipython-input-42-d97e2429b4d3>:2: DeprecationWarning: executable_path has been deprecated, please pass in a Service object\n",
      "  driver = webdriver.Chrome(r\"C:\\Users\\hp\\Downloads\\chromedriver.exe\")\n"
     ]
    }
   ],
   "source": [
    "#Connect to Web Driver#\n",
    "driver = webdriver.Chrome(r\"C:\\Users\\hp\\Downloads\\chromedriver.exe\")"
   ]
  },
  {
   "cell_type": "code",
   "execution_count": 43,
   "id": "576084ef",
   "metadata": {},
   "outputs": [],
   "source": [
    "url = \"https://www.naukri.com\"\n",
    "driver.get(url)"
   ]
  },
  {
   "cell_type": "code",
   "execution_count": 44,
   "id": "0d8ef266",
   "metadata": {},
   "outputs": [
    {
     "name": "stderr",
     "output_type": "stream",
     "text": [
      "<ipython-input-44-99af53848237>:2: DeprecationWarning: find_element_by_* commands are deprecated. Please use find_element() instead\n",
      "  search_job = driver.find_element_by_class_name (\"suggestor-input \")\n"
     ]
    },
    {
     "data": {
      "text/plain": [
       "<selenium.webdriver.remote.webelement.WebElement (session=\"ca890d8442234a4e2746b68b5f8da4d3\", element=\"75b9f34e-1aba-4a77-ba3a-1599e0f0409d\")>"
      ]
     },
     "execution_count": 44,
     "metadata": {},
     "output_type": "execute_result"
    }
   ],
   "source": [
    " #finding element for job searchbar#\n",
    "search_job = driver.find_element_by_class_name (\"suggestor-input \") \n",
    "search_job"
   ]
  },
  {
   "cell_type": "code",
   "execution_count": 45,
   "id": "92447f2b",
   "metadata": {},
   "outputs": [],
   "source": [
    "#Write on search bar#\n",
    "search_job.send_keys(\"Data Scientist\")"
   ]
  },
  {
   "cell_type": "code",
   "execution_count": 46,
   "id": "04e15d24",
   "metadata": {},
   "outputs": [
    {
     "name": "stderr",
     "output_type": "stream",
     "text": [
      "<ipython-input-46-4212dfe36b43>:2: DeprecationWarning: find_element_by_* commands are deprecated. Please use find_element() instead\n",
      "  search_loc=driver.find_element_by_xpath('/html/body/div[1]/div[2]/div[3]/div/div/div[5]/div/div/div/input')\n"
     ]
    },
    {
     "data": {
      "text/plain": [
       "<selenium.webdriver.remote.webelement.WebElement (session=\"ca890d8442234a4e2746b68b5f8da4d3\", element=\"d93fb052-1b06-4580-861e-30465d044dbb\")>"
      ]
     },
     "execution_count": 46,
     "metadata": {},
     "output_type": "execute_result"
    }
   ],
   "source": [
    "# finding element for job location bar\n",
    "search_loc=driver.find_element_by_xpath('/html/body/div[1]/div[2]/div[3]/div/div/div[5]/div/div/div/input')\n",
    "search_loc"
   ]
  },
  {
   "cell_type": "code",
   "execution_count": 48,
   "id": "363637b0",
   "metadata": {},
   "outputs": [],
   "source": [
    "search_loc.send_keys(\"Delhi/NCR\")"
   ]
  },
  {
   "cell_type": "code",
   "execution_count": 49,
   "id": "17cd36e2",
   "metadata": {},
   "outputs": [
    {
     "name": "stderr",
     "output_type": "stream",
     "text": [
      "<ipython-input-49-83536624e5a6>:1: DeprecationWarning: find_element_by_* commands are deprecated. Please use find_element() instead\n",
      "  search_btn= driver .find_element_by_xpath(\"/html/body/div[1]/div[2]/div[3]/div/div/div[6]\")\n"
     ]
    },
    {
     "data": {
      "text/plain": [
       "<selenium.webdriver.remote.webelement.WebElement (session=\"ca890d8442234a4e2746b68b5f8da4d3\", element=\"902272d2-8e82-4863-ac0c-0a98d4e1a6a8\")>"
      ]
     },
     "execution_count": 49,
     "metadata": {},
     "output_type": "execute_result"
    }
   ],
   "source": [
    "search_btn= driver .find_element_by_xpath(\"/html/body/div[1]/div[2]/div[3]/div/div/div[6]\")\n",
    "search_btn"
   ]
  },
  {
   "cell_type": "code",
   "execution_count": 50,
   "id": "590feb89",
   "metadata": {},
   "outputs": [
    {
     "data": {
      "text/plain": [
       "<bound method WebElement.click of <selenium.webdriver.remote.webelement.WebElement (session=\"ca890d8442234a4e2746b68b5f8da4d3\", element=\"902272d2-8e82-4863-ac0c-0a98d4e1a6a8\")>>"
      ]
     },
     "execution_count": 50,
     "metadata": {},
     "output_type": "execute_result"
    }
   ],
   "source": [
    "search_btn.click"
   ]
  },
  {
   "cell_type": "code",
   "execution_count": 53,
   "id": "7eb37786",
   "metadata": {},
   "outputs": [
    {
     "name": "stderr",
     "output_type": "stream",
     "text": [
      "<ipython-input-53-5287c6c04fcb>:2: DeprecationWarning: find_elements_by_* commands are deprecated. Please use find_elements() instead\n",
      "  title_t1=driver.find_elements_by_xpath('//a[@class=\"title fw500 ellipsis\"]')\n"
     ]
    },
    {
     "data": {
      "text/plain": [
       "[<selenium.webdriver.remote.webelement.WebElement (session=\"ca890d8442234a4e2746b68b5f8da4d3\", element=\"b41d3ee4-b155-4350-9fe4-7ab4ea604464\")>,\n",
       " <selenium.webdriver.remote.webelement.WebElement (session=\"ca890d8442234a4e2746b68b5f8da4d3\", element=\"80bff35b-5e8b-4944-8bbf-0777b828535b\")>,\n",
       " <selenium.webdriver.remote.webelement.WebElement (session=\"ca890d8442234a4e2746b68b5f8da4d3\", element=\"cbcc34a9-34f8-49d3-bcab-477e97f1d456\")>,\n",
       " <selenium.webdriver.remote.webelement.WebElement (session=\"ca890d8442234a4e2746b68b5f8da4d3\", element=\"bf281c9f-99d7-4d8c-83dd-3d4943fdaa8e\")>,\n",
       " <selenium.webdriver.remote.webelement.WebElement (session=\"ca890d8442234a4e2746b68b5f8da4d3\", element=\"0f704c86-9469-4a76-aeba-6f10831ec7d3\")>,\n",
       " <selenium.webdriver.remote.webelement.WebElement (session=\"ca890d8442234a4e2746b68b5f8da4d3\", element=\"d26c8f2c-702d-4e42-afb0-b85f1fd1e6af\")>,\n",
       " <selenium.webdriver.remote.webelement.WebElement (session=\"ca890d8442234a4e2746b68b5f8da4d3\", element=\"d1911e2d-0e7c-4d90-b0fc-10bdd697ff2f\")>,\n",
       " <selenium.webdriver.remote.webelement.WebElement (session=\"ca890d8442234a4e2746b68b5f8da4d3\", element=\"3f90d8fd-8b7a-4f1f-a5aa-6d4c1272ebb1\")>,\n",
       " <selenium.webdriver.remote.webelement.WebElement (session=\"ca890d8442234a4e2746b68b5f8da4d3\", element=\"5189e7fa-5f12-43dc-ac94-97f27800fa62\")>,\n",
       " <selenium.webdriver.remote.webelement.WebElement (session=\"ca890d8442234a4e2746b68b5f8da4d3\", element=\"3a4c43ef-07ff-429d-be10-52cc359548e1\")>,\n",
       " <selenium.webdriver.remote.webelement.WebElement (session=\"ca890d8442234a4e2746b68b5f8da4d3\", element=\"085d11f0-1e47-40c2-9e95-1901641a3b49\")>,\n",
       " <selenium.webdriver.remote.webelement.WebElement (session=\"ca890d8442234a4e2746b68b5f8da4d3\", element=\"85201a25-2576-4ba4-abd5-67064c8a087c\")>,\n",
       " <selenium.webdriver.remote.webelement.WebElement (session=\"ca890d8442234a4e2746b68b5f8da4d3\", element=\"27210cfe-eb4f-403a-9f09-f2f63c15c0cd\")>,\n",
       " <selenium.webdriver.remote.webelement.WebElement (session=\"ca890d8442234a4e2746b68b5f8da4d3\", element=\"9239b84a-70c0-45c2-9b7c-0d9918bbbc70\")>,\n",
       " <selenium.webdriver.remote.webelement.WebElement (session=\"ca890d8442234a4e2746b68b5f8da4d3\", element=\"f70c3224-4b94-4055-b3ec-0382c073e90b\")>,\n",
       " <selenium.webdriver.remote.webelement.WebElement (session=\"ca890d8442234a4e2746b68b5f8da4d3\", element=\"d847f4ba-79ed-4dbc-a7ab-7df401dce86b\")>,\n",
       " <selenium.webdriver.remote.webelement.WebElement (session=\"ca890d8442234a4e2746b68b5f8da4d3\", element=\"debe7b5d-c8c3-41f4-a4dc-d11b35872ecc\")>,\n",
       " <selenium.webdriver.remote.webelement.WebElement (session=\"ca890d8442234a4e2746b68b5f8da4d3\", element=\"e515303f-6d42-464b-ab04-2b0893685302\")>,\n",
       " <selenium.webdriver.remote.webelement.WebElement (session=\"ca890d8442234a4e2746b68b5f8da4d3\", element=\"42af65ee-8953-4715-a64f-20d5f179f99e\")>,\n",
       " <selenium.webdriver.remote.webelement.WebElement (session=\"ca890d8442234a4e2746b68b5f8da4d3\", element=\"9155c64e-fb76-4893-ae13-6fa46cead393\")>]"
      ]
     },
     "execution_count": 53,
     "metadata": {},
     "output_type": "execute_result"
    }
   ],
   "source": [
    "#so let's extract all the tags having the job titles\n",
    "title_t1=driver.find_elements_by_xpath('//a[@class=\"title fw500 ellipsis\"]')\n",
    "title_t1"
   ]
  },
  {
   "cell_type": "code",
   "execution_count": 54,
   "id": "61ffd068",
   "metadata": {},
   "outputs": [
    {
     "data": {
      "text/plain": [
       "['Urgent Job Opening For AI Practitioner - Data Science at Wipro Holmes',\n",
       " 'Research and Development -AI/ML -(PhD )',\n",
       " 'Opportunity For Data Scientist - Female Candidates ONLY',\n",
       " 'Senior Data Science Engineer',\n",
       " 'Data Science - Engineering Manager',\n",
       " 'DigitalBCG GAMMA Data Scientist',\n",
       " 'Data Scientist - Noida/Bangalore',\n",
       " 'Data Scientist',\n",
       " 'Data Scientist',\n",
       " 'Senior Manager']"
      ]
     },
     "execution_count": 54,
     "metadata": {},
     "output_type": "execute_result"
    }
   ],
   "source": [
    "# extract the text of the job title  from the tags\n",
    "job_titles=[]\n",
    "for i in title_t1:\n",
    "    if i.text is None:\n",
    "        job_titles.append('Not')\n",
    "    else:\n",
    "        job_titles.append(i.text)\n",
    "job_titles[:10]  "
   ]
  },
  {
   "cell_type": "code",
   "execution_count": 56,
   "id": "705c2921",
   "metadata": {},
   "outputs": [
    {
     "name": "stderr",
     "output_type": "stream",
     "text": [
      "<ipython-input-56-dd6cc94c5cf0>:2: DeprecationWarning: find_elements_by_* commands are deprecated. Please use find_elements() instead\n",
      "  company_t1=driver.find_elements_by_xpath(\"//a[@class='subTitle ellipsis fleft']\")\n"
     ]
    },
    {
     "data": {
      "text/plain": [
       "[<selenium.webdriver.remote.webelement.WebElement (session=\"ca890d8442234a4e2746b68b5f8da4d3\", element=\"93316a2c-df8e-4121-8e2a-63b76d5b0a15\")>,\n",
       " <selenium.webdriver.remote.webelement.WebElement (session=\"ca890d8442234a4e2746b68b5f8da4d3\", element=\"5ddba7e0-0735-4804-9277-c3f3473d8de5\")>,\n",
       " <selenium.webdriver.remote.webelement.WebElement (session=\"ca890d8442234a4e2746b68b5f8da4d3\", element=\"35b84467-a92e-42de-80b3-2127cf7b17cf\")>,\n",
       " <selenium.webdriver.remote.webelement.WebElement (session=\"ca890d8442234a4e2746b68b5f8da4d3\", element=\"c15b619a-0da4-43fd-a0fe-c36e571c1d1c\")>,\n",
       " <selenium.webdriver.remote.webelement.WebElement (session=\"ca890d8442234a4e2746b68b5f8da4d3\", element=\"593148ad-605c-4bb4-9f90-e993f7bbdf58\")>,\n",
       " <selenium.webdriver.remote.webelement.WebElement (session=\"ca890d8442234a4e2746b68b5f8da4d3\", element=\"9a3283df-32f8-40ac-915f-5bc6129a1a27\")>,\n",
       " <selenium.webdriver.remote.webelement.WebElement (session=\"ca890d8442234a4e2746b68b5f8da4d3\", element=\"22392af0-3b18-4a99-946f-95bda8903355\")>,\n",
       " <selenium.webdriver.remote.webelement.WebElement (session=\"ca890d8442234a4e2746b68b5f8da4d3\", element=\"58dc7067-37f9-45eb-b8a4-8c0ec61a6fca\")>,\n",
       " <selenium.webdriver.remote.webelement.WebElement (session=\"ca890d8442234a4e2746b68b5f8da4d3\", element=\"dbdac7c1-f997-44ce-9bde-2945f7d782fc\")>,\n",
       " <selenium.webdriver.remote.webelement.WebElement (session=\"ca890d8442234a4e2746b68b5f8da4d3\", element=\"3790ba87-3a77-4880-b40b-377903ae7142\")>,\n",
       " <selenium.webdriver.remote.webelement.WebElement (session=\"ca890d8442234a4e2746b68b5f8da4d3\", element=\"70af92d0-e566-4999-b7e7-897157bb8872\")>,\n",
       " <selenium.webdriver.remote.webelement.WebElement (session=\"ca890d8442234a4e2746b68b5f8da4d3\", element=\"6347620e-e110-4aef-836b-b2ca46592ddc\")>,\n",
       " <selenium.webdriver.remote.webelement.WebElement (session=\"ca890d8442234a4e2746b68b5f8da4d3\", element=\"4fcf9260-fa44-42c4-8bda-786aa0c117aa\")>,\n",
       " <selenium.webdriver.remote.webelement.WebElement (session=\"ca890d8442234a4e2746b68b5f8da4d3\", element=\"9270ee29-4e82-46cc-86f2-2f32359a15be\")>,\n",
       " <selenium.webdriver.remote.webelement.WebElement (session=\"ca890d8442234a4e2746b68b5f8da4d3\", element=\"5025ee72-4a16-4b35-a9e2-3a914fe3d2ad\")>,\n",
       " <selenium.webdriver.remote.webelement.WebElement (session=\"ca890d8442234a4e2746b68b5f8da4d3\", element=\"616a6b43-4bda-4499-a9ad-6f307b71c6eb\")>,\n",
       " <selenium.webdriver.remote.webelement.WebElement (session=\"ca890d8442234a4e2746b68b5f8da4d3\", element=\"8d2acc82-1320-4630-b963-d802932bcb23\")>,\n",
       " <selenium.webdriver.remote.webelement.WebElement (session=\"ca890d8442234a4e2746b68b5f8da4d3\", element=\"12bb1e48-7bc9-40b3-b951-397ea91efec5\")>,\n",
       " <selenium.webdriver.remote.webelement.WebElement (session=\"ca890d8442234a4e2746b68b5f8da4d3\", element=\"4d1b1537-647b-4070-8b4f-0cee33d7f385\")>,\n",
       " <selenium.webdriver.remote.webelement.WebElement (session=\"ca890d8442234a4e2746b68b5f8da4d3\", element=\"0dff3f1a-65d0-4066-9d52-0db4dbbedd2e\")>]"
      ]
     },
     "execution_count": 56,
     "metadata": {},
     "output_type": "execute_result"
    }
   ],
   "source": [
    "# lets extract all the tags having company names#\n",
    "company_t1=driver.find_elements_by_xpath(\"//a[@class='subTitle ellipsis fleft']\")\n",
    "company_t1"
   ]
  },
  {
   "cell_type": "code",
   "execution_count": 57,
   "id": "4ad5cbe1",
   "metadata": {},
   "outputs": [
    {
     "data": {
      "text/plain": [
       "['Wipro',\n",
       " 'EXL',\n",
       " 'PayU',\n",
       " 'Fractal Analytics',\n",
       " 'Paytm',\n",
       " 'Boston Consulting Group',\n",
       " 'EXL',\n",
       " 'Mahindra First Choice',\n",
       " 'EXL',\n",
       " 'EXL']"
      ]
     },
     "execution_count": 57,
     "metadata": {},
     "output_type": "execute_result"
    }
   ],
   "source": [
    "# Now we will extract the text from the tags by looping over these tags\n",
    "companies_names=[]\n",
    "\n",
    "for i in company_t1:\n",
    "    companies_names.append(i.text)\n",
    "companies_names[:10] "
   ]
  },
  {
   "cell_type": "code",
   "execution_count": 58,
   "id": "50d4cdd9",
   "metadata": {},
   "outputs": [
    {
     "name": "stderr",
     "output_type": "stream",
     "text": [
      "<ipython-input-58-903e19e27f77>:2: DeprecationWarning: find_elements_by_* commands are deprecated. Please use find_elements() instead\n",
      "  experience_t1=driver.find_elements_by_xpath(\"//li[@class='fleft grey-text br2 placeHolderLi experience'] //span\")\n"
     ]
    },
    {
     "data": {
      "text/plain": [
       "[<selenium.webdriver.remote.webelement.WebElement (session=\"ca890d8442234a4e2746b68b5f8da4d3\", element=\"75c2a42f-096f-4b8b-87c4-b370445da669\")>,\n",
       " <selenium.webdriver.remote.webelement.WebElement (session=\"ca890d8442234a4e2746b68b5f8da4d3\", element=\"be5ee0d1-f38e-4591-b1a3-fc4531cc6136\")>,\n",
       " <selenium.webdriver.remote.webelement.WebElement (session=\"ca890d8442234a4e2746b68b5f8da4d3\", element=\"c2683648-44a5-4fa6-87c1-782b218c7d14\")>,\n",
       " <selenium.webdriver.remote.webelement.WebElement (session=\"ca890d8442234a4e2746b68b5f8da4d3\", element=\"e57a8d29-d01e-4e9e-9e8d-8e163b008374\")>,\n",
       " <selenium.webdriver.remote.webelement.WebElement (session=\"ca890d8442234a4e2746b68b5f8da4d3\", element=\"fe989a39-85db-4f9a-a8ff-a734f7741c7c\")>,\n",
       " <selenium.webdriver.remote.webelement.WebElement (session=\"ca890d8442234a4e2746b68b5f8da4d3\", element=\"6db105f7-0a09-4e56-9da2-5eebe51a2d44\")>,\n",
       " <selenium.webdriver.remote.webelement.WebElement (session=\"ca890d8442234a4e2746b68b5f8da4d3\", element=\"9f14ac49-f7b6-4506-97f7-ae295cfee898\")>,\n",
       " <selenium.webdriver.remote.webelement.WebElement (session=\"ca890d8442234a4e2746b68b5f8da4d3\", element=\"6d792f20-a186-40cc-8fa1-a80bf6a94507\")>,\n",
       " <selenium.webdriver.remote.webelement.WebElement (session=\"ca890d8442234a4e2746b68b5f8da4d3\", element=\"575f0fbd-a93b-4ce2-a13a-d1b9621a2b10\")>,\n",
       " <selenium.webdriver.remote.webelement.WebElement (session=\"ca890d8442234a4e2746b68b5f8da4d3\", element=\"eacb4001-ad3d-4d57-b920-4dc86513eca0\")>,\n",
       " <selenium.webdriver.remote.webelement.WebElement (session=\"ca890d8442234a4e2746b68b5f8da4d3\", element=\"4d962c22-9b66-438a-bcc7-e95d9b6369a6\")>,\n",
       " <selenium.webdriver.remote.webelement.WebElement (session=\"ca890d8442234a4e2746b68b5f8da4d3\", element=\"5dba0743-0894-4da0-9791-71d85fc00c21\")>,\n",
       " <selenium.webdriver.remote.webelement.WebElement (session=\"ca890d8442234a4e2746b68b5f8da4d3\", element=\"6e14ff8b-8618-4503-b3f3-b46611b79d91\")>,\n",
       " <selenium.webdriver.remote.webelement.WebElement (session=\"ca890d8442234a4e2746b68b5f8da4d3\", element=\"29a78a62-1777-4551-98da-9810d15acc47\")>,\n",
       " <selenium.webdriver.remote.webelement.WebElement (session=\"ca890d8442234a4e2746b68b5f8da4d3\", element=\"443324dd-3c62-4f01-8024-b3ae1d39feed\")>,\n",
       " <selenium.webdriver.remote.webelement.WebElement (session=\"ca890d8442234a4e2746b68b5f8da4d3\", element=\"e69a56e7-d390-4c56-9629-96e5673694e3\")>,\n",
       " <selenium.webdriver.remote.webelement.WebElement (session=\"ca890d8442234a4e2746b68b5f8da4d3\", element=\"ea5e49af-bae8-44eb-b01c-cbae0e759484\")>,\n",
       " <selenium.webdriver.remote.webelement.WebElement (session=\"ca890d8442234a4e2746b68b5f8da4d3\", element=\"d7a967be-6970-466b-8d56-4e7fa5b72ca5\")>,\n",
       " <selenium.webdriver.remote.webelement.WebElement (session=\"ca890d8442234a4e2746b68b5f8da4d3\", element=\"cb96666c-4320-4fbe-b661-4ccfabd85c77\")>,\n",
       " <selenium.webdriver.remote.webelement.WebElement (session=\"ca890d8442234a4e2746b68b5f8da4d3\", element=\"8bdec779-36a6-4419-b555-28cde480721a\")>]"
      ]
     },
     "execution_count": 58,
     "metadata": {},
     "output_type": "execute_result"
    }
   ],
   "source": [
    "# lets extract  all the tags having the experience required data#\n",
    "experience_t1=driver.find_elements_by_xpath(\"//li[@class='fleft grey-text br2 placeHolderLi experience'] //span\")\n",
    "experience_t1"
   ]
  },
  {
   "cell_type": "code",
   "execution_count": 59,
   "id": "ff123fb7",
   "metadata": {},
   "outputs": [
    {
     "data": {
      "text/plain": [
       "['11-21 Yrs',\n",
       " '4-8 Yrs',\n",
       " '1-3 Yrs',\n",
       " '5-9 Yrs',\n",
       " '9-13 Yrs',\n",
       " '2-5 Yrs',\n",
       " '5-10 Yrs',\n",
       " '3-7 Yrs',\n",
       " '4-7 Yrs',\n",
       " '8-14 Yrs']"
      ]
     },
     "execution_count": 59,
     "metadata": {},
     "output_type": "execute_result"
    }
   ],
   "source": [
    "# no we will extract the text  from these tags only by one by looping over these tags\n",
    "experience_list=[]\n",
    "for i in experience_t1:\n",
    "    experience_list.append(i.text)\n",
    "experience_list[:10]   "
   ]
  },
  {
   "cell_type": "code",
   "execution_count": 60,
   "id": "346f5df4",
   "metadata": {},
   "outputs": [
    {
     "name": "stderr",
     "output_type": "stream",
     "text": [
      "<ipython-input-60-3332bc215cc4>:2: DeprecationWarning: find_elements_by_* commands are deprecated. Please use find_elements() instead\n",
      "  locations_t1=driver.find_elements_by_xpath(\"//li[@class='fleft grey-text br2 placeHolderLi location']/span\")\n"
     ]
    },
    {
     "data": {
      "text/plain": [
       "[<selenium.webdriver.remote.webelement.WebElement (session=\"ca890d8442234a4e2746b68b5f8da4d3\", element=\"4423631e-454e-4bca-a68c-0d274339a364\")>,\n",
       " <selenium.webdriver.remote.webelement.WebElement (session=\"ca890d8442234a4e2746b68b5f8da4d3\", element=\"7471ae5e-ea02-41e9-8f85-f492a1e559fe\")>,\n",
       " <selenium.webdriver.remote.webelement.WebElement (session=\"ca890d8442234a4e2746b68b5f8da4d3\", element=\"e6e10f27-0dc9-489b-b6f1-4ecbcfabb336\")>,\n",
       " <selenium.webdriver.remote.webelement.WebElement (session=\"ca890d8442234a4e2746b68b5f8da4d3\", element=\"0c13c99f-5c7b-4b75-b030-4c046599244c\")>,\n",
       " <selenium.webdriver.remote.webelement.WebElement (session=\"ca890d8442234a4e2746b68b5f8da4d3\", element=\"aeea49d1-f503-41a6-b8c9-4a5bafbc097e\")>,\n",
       " <selenium.webdriver.remote.webelement.WebElement (session=\"ca890d8442234a4e2746b68b5f8da4d3\", element=\"6507678d-8354-426b-b950-c71b5f2efe9f\")>,\n",
       " <selenium.webdriver.remote.webelement.WebElement (session=\"ca890d8442234a4e2746b68b5f8da4d3\", element=\"a387ff4b-822a-4f9d-80e4-691320be38f4\")>,\n",
       " <selenium.webdriver.remote.webelement.WebElement (session=\"ca890d8442234a4e2746b68b5f8da4d3\", element=\"2cf2c7a5-bdd0-4533-9303-0174ac51e695\")>,\n",
       " <selenium.webdriver.remote.webelement.WebElement (session=\"ca890d8442234a4e2746b68b5f8da4d3\", element=\"f4d2ceb8-dd0f-4ebf-ae9b-8a03faa3c6dd\")>,\n",
       " <selenium.webdriver.remote.webelement.WebElement (session=\"ca890d8442234a4e2746b68b5f8da4d3\", element=\"c41a4759-b41f-4aaf-a17b-765bdbc34009\")>,\n",
       " <selenium.webdriver.remote.webelement.WebElement (session=\"ca890d8442234a4e2746b68b5f8da4d3\", element=\"e476c103-9b70-40fb-9ee9-264db5d23145\")>,\n",
       " <selenium.webdriver.remote.webelement.WebElement (session=\"ca890d8442234a4e2746b68b5f8da4d3\", element=\"440ff764-9e61-4752-bcd8-a5499b68edcd\")>,\n",
       " <selenium.webdriver.remote.webelement.WebElement (session=\"ca890d8442234a4e2746b68b5f8da4d3\", element=\"4d92edfd-67da-4c0f-8d2d-edb97fe689c9\")>,\n",
       " <selenium.webdriver.remote.webelement.WebElement (session=\"ca890d8442234a4e2746b68b5f8da4d3\", element=\"ee9720d5-65be-4876-8173-d11474330f9a\")>,\n",
       " <selenium.webdriver.remote.webelement.WebElement (session=\"ca890d8442234a4e2746b68b5f8da4d3\", element=\"7a054fbe-98f5-4ab3-ae11-9a6805a94654\")>,\n",
       " <selenium.webdriver.remote.webelement.WebElement (session=\"ca890d8442234a4e2746b68b5f8da4d3\", element=\"b2d4a9f2-176a-4588-a363-b1386debf430\")>,\n",
       " <selenium.webdriver.remote.webelement.WebElement (session=\"ca890d8442234a4e2746b68b5f8da4d3\", element=\"8914a566-ab60-4c19-b358-80b56b64bd21\")>,\n",
       " <selenium.webdriver.remote.webelement.WebElement (session=\"ca890d8442234a4e2746b68b5f8da4d3\", element=\"f7d6fd88-1196-49e5-95a7-dd9485b7eb81\")>,\n",
       " <selenium.webdriver.remote.webelement.WebElement (session=\"ca890d8442234a4e2746b68b5f8da4d3\", element=\"1e977826-c994-4d06-84b7-b844c924cf15\")>,\n",
       " <selenium.webdriver.remote.webelement.WebElement (session=\"ca890d8442234a4e2746b68b5f8da4d3\", element=\"4a35ff81-2895-4788-b86a-30100b4bae62\")>]"
      ]
     },
     "execution_count": 60,
     "metadata": {},
     "output_type": "execute_result"
    }
   ],
   "source": [
    "# lets extract all the tags having locations#\n",
    "locations_t1=driver.find_elements_by_xpath(\"//li[@class='fleft grey-text br2 placeHolderLi location']/span\")\n",
    "locations_t1"
   ]
  },
  {
   "cell_type": "code",
   "execution_count": 61,
   "id": "b8d26712",
   "metadata": {},
   "outputs": [
    {
     "data": {
      "text/plain": [
       "['Kochi/Cochin, New Delhi, Bangalore/Bengaluru, Coimbatore, Chennai, Pune, Mumbai, Hyderabad',\n",
       " 'Delhi / NCR, Noida, Hyderabad/Secunderabad, Pune, Gurgaon/Gurugram, Chennai, Bangalore/Bengaluru',\n",
       " 'Gurgaon/Gurugram, Bangalore/Bengaluru, Mumbai (All Areas)',\n",
       " 'Gurgaon/Gurugram, Bangalore/Bengaluru, Mumbai (All Areas)',\n",
       " 'Noida, Mumbai, Bangalore/Bengaluru',\n",
       " 'New Delhi, Bangalore/Bengaluru',\n",
       " 'Noida, Bangalore/Bengaluru',\n",
       " 'Gurgaon/Gurugram, Bangalore/Bengaluru',\n",
       " 'Gurgaon/Gurugram, Bangalore/Bengaluru',\n",
       " 'Noida']"
      ]
     },
     "execution_count": 61,
     "metadata": {},
     "output_type": "execute_result"
    }
   ],
   "source": [
    "#Now we wil extract the text from these tags only by one by looping over these tags\n",
    "locations_list=[]\n",
    "for i in locations_t1:\n",
    "    locations_list.append(i.text)\n",
    "locations_list[:10]  "
   ]
  },
  {
   "cell_type": "code",
   "execution_count": 62,
   "id": "ec91a521",
   "metadata": {},
   "outputs": [
    {
     "name": "stdout",
     "output_type": "stream",
     "text": [
      "10\n",
      "10\n",
      "10\n",
      "10\n"
     ]
    },
    {
     "data": {
      "text/plain": [
       "(None, None, None, None)"
      ]
     },
     "execution_count": 62,
     "metadata": {},
     "output_type": "execute_result"
    }
   ],
   "source": [
    "#So lets check th length of ech element.\n",
    "print(len(job_titles[:10])),print(len(companies_names[:10])),print(len(experience_list[:10])),print(len(locations_list[:10]))"
   ]
  },
  {
   "cell_type": "markdown",
   "id": "860eec85",
   "metadata": {},
   "source": [
    "# Creating Dataframe#"
   ]
  },
  {
   "cell_type": "code",
   "execution_count": 64,
   "id": "3c4e4b4c",
   "metadata": {},
   "outputs": [],
   "source": [
    "jobs2=pd.DataFrame({})\n",
    "jobs2['title']=job_titles[:10]\n",
    "jobs2['company']=companies_names[:10]\n",
    "jobs2['experience_required']=experience_list[:10]\n",
    "jobs2['location']=locations_list[:10]"
   ]
  },
  {
   "cell_type": "code",
   "execution_count": 65,
   "id": "10662f76",
   "metadata": {},
   "outputs": [
    {
     "data": {
      "text/html": [
       "<div>\n",
       "<style scoped>\n",
       "    .dataframe tbody tr th:only-of-type {\n",
       "        vertical-align: middle;\n",
       "    }\n",
       "\n",
       "    .dataframe tbody tr th {\n",
       "        vertical-align: top;\n",
       "    }\n",
       "\n",
       "    .dataframe thead th {\n",
       "        text-align: right;\n",
       "    }\n",
       "</style>\n",
       "<table border=\"1\" class=\"dataframe\">\n",
       "  <thead>\n",
       "    <tr style=\"text-align: right;\">\n",
       "      <th></th>\n",
       "      <th>title</th>\n",
       "      <th>company</th>\n",
       "      <th>experience_required</th>\n",
       "      <th>location</th>\n",
       "    </tr>\n",
       "  </thead>\n",
       "  <tbody>\n",
       "    <tr>\n",
       "      <th>0</th>\n",
       "      <td>Urgent Job Opening For AI Practitioner - Data ...</td>\n",
       "      <td>Wipro</td>\n",
       "      <td>11-21 Yrs</td>\n",
       "      <td>Kochi/Cochin, New Delhi, Bangalore/Bengaluru, ...</td>\n",
       "    </tr>\n",
       "    <tr>\n",
       "      <th>1</th>\n",
       "      <td>Research and Development -AI/ML -(PhD )</td>\n",
       "      <td>EXL</td>\n",
       "      <td>4-8 Yrs</td>\n",
       "      <td>Delhi / NCR, Noida, Hyderabad/Secunderabad, Pu...</td>\n",
       "    </tr>\n",
       "    <tr>\n",
       "      <th>2</th>\n",
       "      <td>Opportunity For Data Scientist - Female Candid...</td>\n",
       "      <td>PayU</td>\n",
       "      <td>1-3 Yrs</td>\n",
       "      <td>Gurgaon/Gurugram, Bangalore/Bengaluru, Mumbai ...</td>\n",
       "    </tr>\n",
       "    <tr>\n",
       "      <th>3</th>\n",
       "      <td>Senior Data Science Engineer</td>\n",
       "      <td>Fractal Analytics</td>\n",
       "      <td>5-9 Yrs</td>\n",
       "      <td>Gurgaon/Gurugram, Bangalore/Bengaluru, Mumbai ...</td>\n",
       "    </tr>\n",
       "    <tr>\n",
       "      <th>4</th>\n",
       "      <td>Data Science - Engineering Manager</td>\n",
       "      <td>Paytm</td>\n",
       "      <td>9-13 Yrs</td>\n",
       "      <td>Noida, Mumbai, Bangalore/Bengaluru</td>\n",
       "    </tr>\n",
       "    <tr>\n",
       "      <th>5</th>\n",
       "      <td>DigitalBCG GAMMA Data Scientist</td>\n",
       "      <td>Boston Consulting Group</td>\n",
       "      <td>2-5 Yrs</td>\n",
       "      <td>New Delhi, Bangalore/Bengaluru</td>\n",
       "    </tr>\n",
       "    <tr>\n",
       "      <th>6</th>\n",
       "      <td>Data Scientist - Noida/Bangalore</td>\n",
       "      <td>EXL</td>\n",
       "      <td>5-10 Yrs</td>\n",
       "      <td>Noida, Bangalore/Bengaluru</td>\n",
       "    </tr>\n",
       "    <tr>\n",
       "      <th>7</th>\n",
       "      <td>Data Scientist</td>\n",
       "      <td>Mahindra First Choice</td>\n",
       "      <td>3-7 Yrs</td>\n",
       "      <td>Gurgaon/Gurugram, Bangalore/Bengaluru</td>\n",
       "    </tr>\n",
       "    <tr>\n",
       "      <th>8</th>\n",
       "      <td>Data Scientist</td>\n",
       "      <td>EXL</td>\n",
       "      <td>4-7 Yrs</td>\n",
       "      <td>Gurgaon/Gurugram, Bangalore/Bengaluru</td>\n",
       "    </tr>\n",
       "    <tr>\n",
       "      <th>9</th>\n",
       "      <td>Senior Manager</td>\n",
       "      <td>EXL</td>\n",
       "      <td>8-14 Yrs</td>\n",
       "      <td>Noida</td>\n",
       "    </tr>\n",
       "  </tbody>\n",
       "</table>\n",
       "</div>"
      ],
      "text/plain": [
       "                                               title                  company  \\\n",
       "0  Urgent Job Opening For AI Practitioner - Data ...                    Wipro   \n",
       "1            Research and Development -AI/ML -(PhD )                      EXL   \n",
       "2  Opportunity For Data Scientist - Female Candid...                     PayU   \n",
       "3                       Senior Data Science Engineer        Fractal Analytics   \n",
       "4                 Data Science - Engineering Manager                    Paytm   \n",
       "5                    DigitalBCG GAMMA Data Scientist  Boston Consulting Group   \n",
       "6                   Data Scientist - Noida/Bangalore                      EXL   \n",
       "7                                     Data Scientist    Mahindra First Choice   \n",
       "8                                     Data Scientist                      EXL   \n",
       "9                                     Senior Manager                      EXL   \n",
       "\n",
       "  experience_required                                           location  \n",
       "0           11-21 Yrs  Kochi/Cochin, New Delhi, Bangalore/Bengaluru, ...  \n",
       "1             4-8 Yrs  Delhi / NCR, Noida, Hyderabad/Secunderabad, Pu...  \n",
       "2             1-3 Yrs  Gurgaon/Gurugram, Bangalore/Bengaluru, Mumbai ...  \n",
       "3             5-9 Yrs  Gurgaon/Gurugram, Bangalore/Bengaluru, Mumbai ...  \n",
       "4            9-13 Yrs                 Noida, Mumbai, Bangalore/Bengaluru  \n",
       "5             2-5 Yrs                     New Delhi, Bangalore/Bengaluru  \n",
       "6            5-10 Yrs                         Noida, Bangalore/Bengaluru  \n",
       "7             3-7 Yrs              Gurgaon/Gurugram, Bangalore/Bengaluru  \n",
       "8             4-7 Yrs              Gurgaon/Gurugram, Bangalore/Bengaluru  \n",
       "9            8-14 Yrs                                              Noida  "
      ]
     },
     "execution_count": 65,
     "metadata": {},
     "output_type": "execute_result"
    }
   ],
   "source": [
    "jobs2"
   ]
  },
  {
   "cell_type": "code",
   "execution_count": 66,
   "id": "2a57e6d5",
   "metadata": {},
   "outputs": [],
   "source": [
    "driver.close()"
   ]
  },
  {
   "cell_type": "markdown",
   "id": "7fb38054",
   "metadata": {},
   "source": [
    "# Q :4"
   ]
  },
  {
   "cell_type": "code",
   "execution_count": 70,
   "id": "b8633fae",
   "metadata": {},
   "outputs": [
    {
     "name": "stderr",
     "output_type": "stream",
     "text": [
      "<ipython-input-70-3a3e16443fde>:2: DeprecationWarning: executable_path has been deprecated, please pass in a Service object\n",
      "  driver = webdriver.Chrome(r\"C:\\Users\\hp\\Downloads\\chromedriver.exe\")\n"
     ]
    }
   ],
   "source": [
    "# let's first connect to the web driver#\n",
    "driver = webdriver.Chrome(r\"C:\\Users\\hp\\Downloads\\chromedriver.exe\")"
   ]
  },
  {
   "cell_type": "code",
   "execution_count": 71,
   "id": "877a0e2d",
   "metadata": {},
   "outputs": [],
   "source": [
    "url = \"https://www.flipkart.com/\"\n",
    "driver.get(url)"
   ]
  },
  {
   "cell_type": "code",
   "execution_count": 72,
   "id": "ec91d669",
   "metadata": {},
   "outputs": [
    {
     "name": "stderr",
     "output_type": "stream",
     "text": [
      "<ipython-input-72-7835dbe6ed9b>:2: DeprecationWarning: find_element_by_* commands are deprecated. Please use find_element() instead\n",
      "  search_g= driver.find_element_by_xpath(\"//input[@type='text']\")\n"
     ]
    },
    {
     "data": {
      "text/plain": [
       "<selenium.webdriver.remote.webelement.WebElement (session=\"d158c6aba67ecb3ed11923210cc51964\", element=\"22c1cbee-d1f8-4bf3-9def-36724fbe9410\")>"
      ]
     },
     "execution_count": 72,
     "metadata": {},
     "output_type": "execute_result"
    }
   ],
   "source": [
    "# finding element \n",
    "search_g= driver.find_element_by_xpath(\"//input[@type='text']\")\n",
    "search_g"
   ]
  },
  {
   "cell_type": "code",
   "execution_count": 73,
   "id": "72483c11",
   "metadata": {},
   "outputs": [],
   "source": [
    "# write on search bar\n",
    "search_g.send_keys('sunglasses')"
   ]
  },
  {
   "cell_type": "code",
   "execution_count": 76,
   "id": "b732c53b",
   "metadata": {},
   "outputs": [
    {
     "name": "stderr",
     "output_type": "stream",
     "text": [
      "<ipython-input-76-569e509f5f76>:1: DeprecationWarning: find_element_by_* commands are deprecated. Please use find_element() instead\n",
      "  search_btn=driver.find_element_by_xpath(\"//button[@class='L0Z3Pu']\")\n"
     ]
    },
    {
     "data": {
      "text/plain": [
       "<selenium.webdriver.remote.webelement.WebElement (session=\"d158c6aba67ecb3ed11923210cc51964\", element=\"103fe9ad-a350-42d3-92ba-3ce81c6e2db1\")>"
      ]
     },
     "execution_count": 76,
     "metadata": {},
     "output_type": "execute_result"
    }
   ],
   "source": [
    "search_btn=driver.find_element_by_xpath(\"//button[@class='L0Z3Pu']\")\n",
    "search_btn"
   ]
  },
  {
   "cell_type": "code",
   "execution_count": 77,
   "id": "44282dc7",
   "metadata": {},
   "outputs": [
    {
     "name": "stderr",
     "output_type": "stream",
     "text": [
      "<ipython-input-77-3deff9d427c4>:1: DeprecationWarning: find_element_by_* commands are deprecated. Please use find_element() instead\n",
      "  search_btn=driver.find_element_by_class_name('L0Z3Pu')\n"
     ]
    }
   ],
   "source": [
    "search_btn=driver.find_element_by_class_name('L0Z3Pu')\n",
    "search_btn.click()"
   ]
  },
  {
   "cell_type": "code",
   "execution_count": 79,
   "id": "4f8537d4",
   "metadata": {},
   "outputs": [],
   "source": [
    "B_name=[]\n",
    "Price=[]\n",
    "P_desc=[]\n",
    "Discount=[]"
   ]
  },
  {
   "cell_type": "code",
   "execution_count": 80,
   "id": "03ea6e4b",
   "metadata": {},
   "outputs": [
    {
     "name": "stderr",
     "output_type": "stream",
     "text": [
      "<ipython-input-80-5c8ceb6e5a91>:2: DeprecationWarning: find_elements_by_* commands are deprecated. Please use find_elements() instead\n",
      "  b_name=driver.find_elements_by_xpath(\"//div[@class='_2WkVRV']\")\n",
      "<ipython-input-80-5c8ceb6e5a91>:3: DeprecationWarning: find_elements_by_* commands are deprecated. Please use find_elements() instead\n",
      "  p_desc=driver.find_elements_by_xpath(\"//a[@class='IRpwTa']\")\n",
      "<ipython-input-80-5c8ceb6e5a91>:4: DeprecationWarning: find_elements_by_* commands are deprecated. Please use find_elements() instead\n",
      "  price =driver.find_elements_by_xpath(\"//div[@class='_25b18c']\")\n",
      "<ipython-input-80-5c8ceb6e5a91>:5: DeprecationWarning: find_elements_by_* commands are deprecated. Please use find_elements() instead\n",
      "  discount=driver.find_elements_by_xpath(\"//div[@class='_3Ay6Sb']\")\n"
     ]
    }
   ],
   "source": [
    "for i in range(3):\n",
    "    b_name=driver.find_elements_by_xpath(\"//div[@class='_2WkVRV']\")\n",
    "    p_desc=driver.find_elements_by_xpath(\"//a[@class='IRpwTa']\")\n",
    "    price =driver.find_elements_by_xpath(\"//div[@class='_25b18c']\")\n",
    "    discount=driver.find_elements_by_xpath(\"//div[@class='_3Ay6Sb']\")\n",
    "    \n",
    "    for j  in b_name:\n",
    "        B_name.append(j.text)\n",
    "    B_name[:100]    \n",
    "    \n",
    "    \n",
    "    \n",
    "    for k in p_desc:\n",
    "        P_desc.append(k.text)\n",
    "    P_desc[:100] \n",
    "    \n",
    "    \n",
    "    for l in price:\n",
    "        Price.append(l.text)\n",
    "    Price[:100] \n",
    "    \n",
    "    \n",
    "    for t in discount:\n",
    "        Discount.append(t.text)\n",
    "    Discount[:100]"
   ]
  },
  {
   "cell_type": "code",
   "execution_count": 81,
   "id": "46abc3b2",
   "metadata": {},
   "outputs": [
    {
     "data": {
      "text/plain": [
       "['VINCENT CHASE',\n",
       " 'VINCENT CHASE',\n",
       " 'DAHAAZIL',\n",
       " 'Elligator',\n",
       " 'PIRASO',\n",
       " 'SUNBEE',\n",
       " 'Fastrack',\n",
       " 'VINCENT CHASE',\n",
       " 'Fastrack',\n",
       " 'PIRASO',\n",
       " 'PIRASO',\n",
       " 'ROYAL SON',\n",
       " 'ROZZETTA CRAFT',\n",
       " 'SRPM',\n",
       " 'PIRASO',\n",
       " 'Roadster',\n",
       " 'Fastrack',\n",
       " 'New Specs',\n",
       " 'PIRASO',\n",
       " 'GANSTA',\n",
       " 'Lee Topper',\n",
       " 'NuVew',\n",
       " 'Lee Topper',\n",
       " 'ROYAL SON',\n",
       " 'SHAAH COLLECTIONS',\n",
       " 'CRYSTAL CART',\n",
       " 'SHAAH COLLECTIONS',\n",
       " 'ROYAL SON',\n",
       " 'ROZZETTA CRAFT',\n",
       " 'ROZZETTA CRAFT',\n",
       " 'kingsunglasses',\n",
       " 'IZAAN MART',\n",
       " 'SUNBEE',\n",
       " 'Fastrack',\n",
       " 'Lee Topper',\n",
       " 'ROYAL SON',\n",
       " 'Fastrack',\n",
       " 'ROZZETTA CRAFT',\n",
       " 'CRYSTAL CART',\n",
       " 'ROYAL SON',\n",
       " 'VINCENT CHASE',\n",
       " 'VINCENT CHASE',\n",
       " 'DAHAAZIL',\n",
       " 'Elligator',\n",
       " 'PIRASO',\n",
       " 'SUNBEE',\n",
       " 'Fastrack',\n",
       " 'VINCENT CHASE',\n",
       " 'Fastrack',\n",
       " 'PIRASO',\n",
       " 'PIRASO',\n",
       " 'ROYAL SON',\n",
       " 'ROZZETTA CRAFT',\n",
       " 'SRPM',\n",
       " 'PIRASO',\n",
       " 'Roadster',\n",
       " 'Fastrack',\n",
       " 'New Specs',\n",
       " 'PIRASO',\n",
       " 'GANSTA',\n",
       " 'Lee Topper',\n",
       " 'NuVew',\n",
       " 'Lee Topper',\n",
       " 'ROYAL SON',\n",
       " 'SHAAH COLLECTIONS',\n",
       " 'CRYSTAL CART',\n",
       " 'SHAAH COLLECTIONS',\n",
       " 'ROYAL SON',\n",
       " 'ROZZETTA CRAFT',\n",
       " 'ROZZETTA CRAFT',\n",
       " 'kingsunglasses',\n",
       " 'IZAAN MART',\n",
       " 'SUNBEE',\n",
       " 'Fastrack',\n",
       " 'Lee Topper',\n",
       " 'ROYAL SON',\n",
       " 'Fastrack',\n",
       " 'ROZZETTA CRAFT',\n",
       " 'CRYSTAL CART',\n",
       " 'ROYAL SON',\n",
       " 'VINCENT CHASE',\n",
       " 'VINCENT CHASE',\n",
       " 'DAHAAZIL',\n",
       " 'Elligator',\n",
       " 'PIRASO',\n",
       " 'SUNBEE',\n",
       " 'Fastrack',\n",
       " 'VINCENT CHASE',\n",
       " 'Fastrack',\n",
       " 'PIRASO',\n",
       " 'PIRASO',\n",
       " 'ROYAL SON',\n",
       " 'ROZZETTA CRAFT',\n",
       " 'SRPM',\n",
       " 'PIRASO',\n",
       " 'Roadster',\n",
       " 'Fastrack',\n",
       " 'New Specs',\n",
       " 'PIRASO',\n",
       " 'GANSTA']"
      ]
     },
     "execution_count": 81,
     "metadata": {},
     "output_type": "execute_result"
    }
   ],
   "source": [
    "B_name[:100]\n",
    "    "
   ]
  },
  {
   "cell_type": "code",
   "execution_count": 82,
   "id": "b805bde2",
   "metadata": {},
   "outputs": [
    {
     "name": "stdout",
     "output_type": "stream",
     "text": [
      "100\n",
      "100\n",
      "100\n",
      "100\n"
     ]
    },
    {
     "data": {
      "text/plain": [
       "(None, None, None, None)"
      ]
     },
     "execution_count": 82,
     "metadata": {},
     "output_type": "execute_result"
    }
   ],
   "source": [
    "print(len(B_name[:100])),print(len(Price[:100])),print(len(P_desc[:100])),print(len(Discount[:100]))"
   ]
  },
  {
   "cell_type": "markdown",
   "id": "c1bc7ff3",
   "metadata": {},
   "source": [
    "# CREATING DATAFRAME#"
   ]
  },
  {
   "cell_type": "code",
   "execution_count": 83,
   "id": "e16c923b",
   "metadata": {},
   "outputs": [],
   "source": [
    "sun_gl=pd.DataFrame({})\n",
    "sun_gl['Brand_name']=B_name[:100]\n",
    "sun_gl['P_price']=Price[:100]\n",
    "sun_gl['Pr_desc']=P_desc[:100]\n",
    "sun_gl['P_discount']=Discount[:100]"
   ]
  },
  {
   "cell_type": "code",
   "execution_count": 84,
   "id": "754d4f53",
   "metadata": {},
   "outputs": [
    {
     "data": {
      "text/html": [
       "<div>\n",
       "<style scoped>\n",
       "    .dataframe tbody tr th:only-of-type {\n",
       "        vertical-align: middle;\n",
       "    }\n",
       "\n",
       "    .dataframe tbody tr th {\n",
       "        vertical-align: top;\n",
       "    }\n",
       "\n",
       "    .dataframe thead th {\n",
       "        text-align: right;\n",
       "    }\n",
       "</style>\n",
       "<table border=\"1\" class=\"dataframe\">\n",
       "  <thead>\n",
       "    <tr style=\"text-align: right;\">\n",
       "      <th></th>\n",
       "      <th>Brand_name</th>\n",
       "      <th>P_price</th>\n",
       "      <th>Pr_desc</th>\n",
       "      <th>P_discount</th>\n",
       "    </tr>\n",
       "  </thead>\n",
       "  <tbody>\n",
       "    <tr>\n",
       "      <th>0</th>\n",
       "      <td>VINCENT CHASE</td>\n",
       "      <td>₹749₹1,99962% off</td>\n",
       "      <td>by Lenskart Polarized, UV Protection Rectangul...</td>\n",
       "      <td>62% off</td>\n",
       "    </tr>\n",
       "    <tr>\n",
       "      <th>1</th>\n",
       "      <td>VINCENT CHASE</td>\n",
       "      <td>₹649₹1,99967% off</td>\n",
       "      <td>UV Protection Rectangular Sunglasses (52)</td>\n",
       "      <td>67% off</td>\n",
       "    </tr>\n",
       "    <tr>\n",
       "      <th>2</th>\n",
       "      <td>DAHAAZIL</td>\n",
       "      <td>₹177₹99982% off</td>\n",
       "      <td>UV Protection, Night Vision, Riding Glasses Wa...</td>\n",
       "      <td>82% off</td>\n",
       "    </tr>\n",
       "    <tr>\n",
       "      <th>3</th>\n",
       "      <td>Elligator</td>\n",
       "      <td>₹298₹2,49588% off</td>\n",
       "      <td>UV Protection Round Sunglasses (54)</td>\n",
       "      <td>88% off</td>\n",
       "    </tr>\n",
       "    <tr>\n",
       "      <th>4</th>\n",
       "      <td>PIRASO</td>\n",
       "      <td>₹249₹1,59984% off</td>\n",
       "      <td>UV Protection Aviator Sunglasses (54)</td>\n",
       "      <td>84% off</td>\n",
       "    </tr>\n",
       "    <tr>\n",
       "      <th>...</th>\n",
       "      <td>...</td>\n",
       "      <td>...</td>\n",
       "      <td>...</td>\n",
       "      <td>...</td>\n",
       "    </tr>\n",
       "    <tr>\n",
       "      <th>95</th>\n",
       "      <td>Roadster</td>\n",
       "      <td>₹283₹1,29978% off</td>\n",
       "      <td>Others Aviator Sunglasses (Free Size)</td>\n",
       "      <td>35% off</td>\n",
       "    </tr>\n",
       "    <tr>\n",
       "      <th>96</th>\n",
       "      <td>Fastrack</td>\n",
       "      <td>₹639₹79920% off</td>\n",
       "      <td>UV Protection Aviator Sunglasses (Free Size)</td>\n",
       "      <td>20% off</td>\n",
       "    </tr>\n",
       "    <tr>\n",
       "      <th>97</th>\n",
       "      <td>New Specs</td>\n",
       "      <td>₹749₹1,99962% off</td>\n",
       "      <td>UV Protection Rectangular Sunglasses (Free Size)</td>\n",
       "      <td>89% off</td>\n",
       "    </tr>\n",
       "    <tr>\n",
       "      <th>98</th>\n",
       "      <td>PIRASO</td>\n",
       "      <td>₹719₹99928% off</td>\n",
       "      <td>UV Protection Wayfarer Sunglasses (32)</td>\n",
       "      <td>85% off</td>\n",
       "    </tr>\n",
       "    <tr>\n",
       "      <th>99</th>\n",
       "      <td>GANSTA</td>\n",
       "      <td>₹359₹2,59986% off</td>\n",
       "      <td>UV Protection Aviator Sunglasses (57)</td>\n",
       "      <td>84% off</td>\n",
       "    </tr>\n",
       "  </tbody>\n",
       "</table>\n",
       "<p>100 rows × 4 columns</p>\n",
       "</div>"
      ],
      "text/plain": [
       "       Brand_name            P_price  \\\n",
       "0   VINCENT CHASE  ₹749₹1,99962% off   \n",
       "1   VINCENT CHASE  ₹649₹1,99967% off   \n",
       "2        DAHAAZIL    ₹177₹99982% off   \n",
       "3       Elligator  ₹298₹2,49588% off   \n",
       "4          PIRASO  ₹249₹1,59984% off   \n",
       "..            ...                ...   \n",
       "95       Roadster  ₹283₹1,29978% off   \n",
       "96       Fastrack    ₹639₹79920% off   \n",
       "97      New Specs  ₹749₹1,99962% off   \n",
       "98         PIRASO    ₹719₹99928% off   \n",
       "99         GANSTA  ₹359₹2,59986% off   \n",
       "\n",
       "                                              Pr_desc P_discount  \n",
       "0   by Lenskart Polarized, UV Protection Rectangul...    62% off  \n",
       "1           UV Protection Rectangular Sunglasses (52)    67% off  \n",
       "2   UV Protection, Night Vision, Riding Glasses Wa...    82% off  \n",
       "3                 UV Protection Round Sunglasses (54)    88% off  \n",
       "4               UV Protection Aviator Sunglasses (54)    84% off  \n",
       "..                                                ...        ...  \n",
       "95              Others Aviator Sunglasses (Free Size)    35% off  \n",
       "96       UV Protection Aviator Sunglasses (Free Size)    20% off  \n",
       "97   UV Protection Rectangular Sunglasses (Free Size)    89% off  \n",
       "98             UV Protection Wayfarer Sunglasses (32)    85% off  \n",
       "99              UV Protection Aviator Sunglasses (57)    84% off  \n",
       "\n",
       "[100 rows x 4 columns]"
      ]
     },
     "execution_count": 84,
     "metadata": {},
     "output_type": "execute_result"
    }
   ],
   "source": [
    "sun_gl"
   ]
  },
  {
   "cell_type": "code",
   "execution_count": 85,
   "id": "0b2e0909",
   "metadata": {},
   "outputs": [],
   "source": [
    "driver.close()"
   ]
  },
  {
   "cell_type": "markdown",
   "id": "de291809",
   "metadata": {},
   "source": [
    "# Q :6"
   ]
  },
  {
   "cell_type": "code",
   "execution_count": 86,
   "id": "2369aecb",
   "metadata": {},
   "outputs": [
    {
     "name": "stderr",
     "output_type": "stream",
     "text": [
      "<ipython-input-86-3a3e16443fde>:2: DeprecationWarning: executable_path has been deprecated, please pass in a Service object\n",
      "  driver = webdriver.Chrome(r\"C:\\Users\\hp\\Downloads\\chromedriver.exe\")\n"
     ]
    }
   ],
   "source": [
    "# let's first connect to the web driver#\n",
    "driver = webdriver.Chrome(r\"C:\\Users\\hp\\Downloads\\chromedriver.exe\")"
   ]
  },
  {
   "cell_type": "code",
   "execution_count": 87,
   "id": "f1ec57b0",
   "metadata": {},
   "outputs": [],
   "source": [
    "url = \"https://www.flipkart.com/\"\n",
    "driver.get(url)"
   ]
  },
  {
   "cell_type": "code",
   "execution_count": 88,
   "id": "6a97fb8b",
   "metadata": {},
   "outputs": [
    {
     "name": "stderr",
     "output_type": "stream",
     "text": [
      "<ipython-input-88-c71d6f37430d>:2: DeprecationWarning: find_element_by_* commands are deprecated. Please use find_element() instead\n",
      "  search_g= driver.find_element_by_xpath(\"//input[@type='text']\")\n"
     ]
    },
    {
     "data": {
      "text/plain": [
       "<selenium.webdriver.remote.webelement.WebElement (session=\"10eca51641a78a64465f3da52aefa4a5\", element=\"38bc573c-e3e8-4edd-8dbd-16b54c2a64f8\")>"
      ]
     },
     "execution_count": 88,
     "metadata": {},
     "output_type": "execute_result"
    }
   ],
   "source": [
    "# finding element #\n",
    "search_g= driver.find_element_by_xpath(\"//input[@type='text']\")\n",
    "search_g"
   ]
  },
  {
   "cell_type": "code",
   "execution_count": 89,
   "id": "b2e03cbd",
   "metadata": {},
   "outputs": [],
   "source": [
    "# write on search bar\n",
    "search_g.send_keys('sneakers')"
   ]
  },
  {
   "cell_type": "code",
   "execution_count": 90,
   "id": "b545d6c9",
   "metadata": {},
   "outputs": [
    {
     "name": "stderr",
     "output_type": "stream",
     "text": [
      "<ipython-input-90-569e509f5f76>:1: DeprecationWarning: find_element_by_* commands are deprecated. Please use find_element() instead\n",
      "  search_btn=driver.find_element_by_xpath(\"//button[@class='L0Z3Pu']\")\n"
     ]
    },
    {
     "data": {
      "text/plain": [
       "<selenium.webdriver.remote.webelement.WebElement (session=\"10eca51641a78a64465f3da52aefa4a5\", element=\"d21cda16-48f8-411a-9358-2a6b07ff680a\")>"
      ]
     },
     "execution_count": 90,
     "metadata": {},
     "output_type": "execute_result"
    }
   ],
   "source": [
    "search_btn=driver.find_element_by_xpath(\"//button[@class='L0Z3Pu']\")\n",
    "search_btn"
   ]
  },
  {
   "cell_type": "code",
   "execution_count": 91,
   "id": "6ad25bd5",
   "metadata": {},
   "outputs": [
    {
     "name": "stderr",
     "output_type": "stream",
     "text": [
      "<ipython-input-91-3deff9d427c4>:1: DeprecationWarning: find_element_by_* commands are deprecated. Please use find_element() instead\n",
      "  search_btn=driver.find_element_by_class_name('L0Z3Pu')\n"
     ]
    }
   ],
   "source": [
    "search_btn=driver.find_element_by_class_name('L0Z3Pu')\n",
    "search_btn.click()"
   ]
  },
  {
   "cell_type": "code",
   "execution_count": 92,
   "id": "2ff18dc2",
   "metadata": {},
   "outputs": [],
   "source": [
    "B_name=[]\n",
    "Price=[]\n",
    "P_desc=[]\n",
    "Discount=[]"
   ]
  },
  {
   "cell_type": "code",
   "execution_count": 99,
   "id": "9dde8ac6",
   "metadata": {},
   "outputs": [
    {
     "name": "stderr",
     "output_type": "stream",
     "text": [
      "<ipython-input-99-a5e6fae6834b>:2: DeprecationWarning: find_elements_by_* commands are deprecated. Please use find_elements() instead\n",
      "  b_name=driver.find_elements_by_xpath(\"//div[@class='_2WkVRV']\")\n",
      "<ipython-input-99-a5e6fae6834b>:3: DeprecationWarning: find_elements_by_* commands are deprecated. Please use find_elements() instead\n",
      "  p_desc=driver.find_elements_by_xpath(\"//a[@class='col col-11-12_2cLjim']\")\n",
      "<ipython-input-99-a5e6fae6834b>:4: DeprecationWarning: find_elements_by_* commands are deprecated. Please use find_elements() instead\n",
      "  price =driver.find_elements_by_xpath(\"//div[@class='_30jeq3 _16jk6d']\")\n",
      "<ipython-input-99-a5e6fae6834b>:5: DeprecationWarning: find_elements_by_* commands are deprecated. Please use find_elements() instead\n",
      "  discount=driver.find_elements_by_xpath(\"//div[@class='_3Ay6Sb _31Dcoz pZkvcx']\")\n"
     ]
    }
   ],
   "source": [
    "for i in range(3):\n",
    "    b_name=driver.find_elements_by_xpath(\"//div[@class='_2WkVRV']\")\n",
    "    p_desc=driver.find_elements_by_xpath(\"//a[@class='col col-11-12_2cLjim']\")\n",
    "    price =driver.find_elements_by_xpath(\"//div[@class='_30jeq3 _16jk6d']\")\n",
    "    discount=driver.find_elements_by_xpath(\"//div[@class='_3Ay6Sb _31Dcoz pZkvcx']\")\n",
    "    \n",
    "    for j  in b_name:\n",
    "        B_name.append(j.text)\n",
    "    B_name[:100]    \n",
    "    \n",
    "    \n",
    "    \n",
    "    for k in p_desc:\n",
    "        P_desc.append(k.text)\n",
    "    P_desc[:100] \n",
    "    \n",
    "    \n",
    "    for l in price:\n",
    "        Price.append(l.text)\n",
    "    Price[:100] \n",
    "    \n",
    "    \n",
    "    for t in discount:\n",
    "        Discount.append(t.text)\n",
    "    Discount[:100]"
   ]
  },
  {
   "cell_type": "code",
   "execution_count": 100,
   "id": "a54af7dd",
   "metadata": {},
   "outputs": [
    {
     "name": "stdout",
     "output_type": "stream",
     "text": [
      "100\n",
      "100\n",
      "99\n",
      "100\n"
     ]
    },
    {
     "data": {
      "text/plain": [
       "(None, None, None, None)"
      ]
     },
     "execution_count": 100,
     "metadata": {},
     "output_type": "execute_result"
    }
   ],
   "source": [
    "print(len(B_name[:100])),print(len(Price[:100])),print(len(P_desc[:100])),print(len(Discount[:100]))"
   ]
  },
  {
   "cell_type": "markdown",
   "id": "79d21e20",
   "metadata": {},
   "source": [
    "# CREATING DATAFRAME"
   ]
  },
  {
   "cell_type": "code",
   "execution_count": 102,
   "id": "2d847baf",
   "metadata": {},
   "outputs": [],
   "source": [
    "sneakers=pd.DataFrame({})\n",
    "sneakers['Brand_name']=B_name[:99]\n",
    "sneakers['P_price']=Price[:99]\n",
    "sneakers['Pr_desc']=P_desc[:99]\n",
    "sneakers['P_discount']=Discount[:99]"
   ]
  },
  {
   "cell_type": "code",
   "execution_count": 103,
   "id": "a78ef9d0",
   "metadata": {},
   "outputs": [
    {
     "data": {
      "text/html": [
       "<div>\n",
       "<style scoped>\n",
       "    .dataframe tbody tr th:only-of-type {\n",
       "        vertical-align: middle;\n",
       "    }\n",
       "\n",
       "    .dataframe tbody tr th {\n",
       "        vertical-align: top;\n",
       "    }\n",
       "\n",
       "    .dataframe thead th {\n",
       "        text-align: right;\n",
       "    }\n",
       "</style>\n",
       "<table border=\"1\" class=\"dataframe\">\n",
       "  <thead>\n",
       "    <tr style=\"text-align: right;\">\n",
       "      <th></th>\n",
       "      <th>Brand_name</th>\n",
       "      <th>P_price</th>\n",
       "      <th>Pr_desc</th>\n",
       "      <th>P_discount</th>\n",
       "    </tr>\n",
       "  </thead>\n",
       "  <tbody>\n",
       "    <tr>\n",
       "      <th>0</th>\n",
       "      <td>hzisbo</td>\n",
       "      <td>₹449₹99955% off</td>\n",
       "      <td>Sneakers For Men</td>\n",
       "      <td>55% off</td>\n",
       "    </tr>\n",
       "    <tr>\n",
       "      <th>1</th>\n",
       "      <td>MAFLO</td>\n",
       "      <td>₹499₹1,29961% off</td>\n",
       "      <td>Modern Trendy Sneakers Shoes Sneakers For Men</td>\n",
       "      <td>61% off</td>\n",
       "    </tr>\n",
       "    <tr>\n",
       "      <th>2</th>\n",
       "      <td>BRUTON</td>\n",
       "      <td>₹284₹1,29978% off</td>\n",
       "      <td>Sneakers For Men</td>\n",
       "      <td>78% off</td>\n",
       "    </tr>\n",
       "    <tr>\n",
       "      <th>3</th>\n",
       "      <td>Magnolia</td>\n",
       "      <td>₹399₹99960% off</td>\n",
       "      <td>Puma Smash v2 L Sneakers For Men</td>\n",
       "      <td>60% off</td>\n",
       "    </tr>\n",
       "    <tr>\n",
       "      <th>4</th>\n",
       "      <td>URBANBOX</td>\n",
       "      <td>₹219₹99978% off</td>\n",
       "      <td>Modern Trendy Sneakers Shoes Sneakers For Men</td>\n",
       "      <td>78% off</td>\n",
       "    </tr>\n",
       "    <tr>\n",
       "      <th>...</th>\n",
       "      <td>...</td>\n",
       "      <td>...</td>\n",
       "      <td>...</td>\n",
       "      <td>...</td>\n",
       "    </tr>\n",
       "    <tr>\n",
       "      <th>94</th>\n",
       "      <td>aadi</td>\n",
       "      <td>₹219₹99978% off</td>\n",
       "      <td>Men's Casual sneaker shoes running shoes walki...</td>\n",
       "      <td>57% off</td>\n",
       "    </tr>\n",
       "    <tr>\n",
       "      <th>95</th>\n",
       "      <td>ZF - ALFIYA</td>\n",
       "      <td>₹1,467₹3,49958% off</td>\n",
       "      <td>Sneaker Sneakers For Men</td>\n",
       "      <td>55% off</td>\n",
       "    </tr>\n",
       "    <tr>\n",
       "      <th>96</th>\n",
       "      <td>KWIK FIT</td>\n",
       "      <td>₹299₹1,29976% off</td>\n",
       "      <td>Sneakers For Men</td>\n",
       "      <td>80% off</td>\n",
       "    </tr>\n",
       "    <tr>\n",
       "      <th>97</th>\n",
       "      <td>Dizzler</td>\n",
       "      <td>₹551₹1,99972% off</td>\n",
       "      <td>411 Casual Sneakers For Men</td>\n",
       "      <td>37% off</td>\n",
       "    </tr>\n",
       "    <tr>\n",
       "      <th>98</th>\n",
       "      <td>aadi</td>\n",
       "      <td>₹249₹99975% off</td>\n",
       "      <td>Sneakers For Men</td>\n",
       "      <td>70% off</td>\n",
       "    </tr>\n",
       "  </tbody>\n",
       "</table>\n",
       "<p>99 rows × 4 columns</p>\n",
       "</div>"
      ],
      "text/plain": [
       "     Brand_name              P_price  \\\n",
       "0        hzisbo      ₹449₹99955% off   \n",
       "1         MAFLO    ₹499₹1,29961% off   \n",
       "2        BRUTON    ₹284₹1,29978% off   \n",
       "3      Magnolia      ₹399₹99960% off   \n",
       "4      URBANBOX      ₹219₹99978% off   \n",
       "..          ...                  ...   \n",
       "94         aadi      ₹219₹99978% off   \n",
       "95  ZF - ALFIYA  ₹1,467₹3,49958% off   \n",
       "96     KWIK FIT    ₹299₹1,29976% off   \n",
       "97      Dizzler    ₹551₹1,99972% off   \n",
       "98         aadi      ₹249₹99975% off   \n",
       "\n",
       "                                              Pr_desc P_discount  \n",
       "0                                    Sneakers For Men    55% off  \n",
       "1       Modern Trendy Sneakers Shoes Sneakers For Men    61% off  \n",
       "2                                    Sneakers For Men    78% off  \n",
       "3                    Puma Smash v2 L Sneakers For Men    60% off  \n",
       "4       Modern Trendy Sneakers Shoes Sneakers For Men    78% off  \n",
       "..                                                ...        ...  \n",
       "94  Men's Casual sneaker shoes running shoes walki...    57% off  \n",
       "95                           Sneaker Sneakers For Men    55% off  \n",
       "96                                   Sneakers For Men    80% off  \n",
       "97                        411 Casual Sneakers For Men    37% off  \n",
       "98                                   Sneakers For Men    70% off  \n",
       "\n",
       "[99 rows x 4 columns]"
      ]
     },
     "execution_count": 103,
     "metadata": {},
     "output_type": "execute_result"
    }
   ],
   "source": [
    "sneakers"
   ]
  },
  {
   "cell_type": "code",
   "execution_count": 106,
   "id": "509356c8",
   "metadata": {},
   "outputs": [
    {
     "data": {
      "text/plain": [
       "<bound method WebDriver.close of <selenium.webdriver.chrome.webdriver.WebDriver (session=\"10eca51641a78a64465f3da52aefa4a5\")>>"
      ]
     },
     "execution_count": 106,
     "metadata": {},
     "output_type": "execute_result"
    }
   ],
   "source": [
    "driver.close"
   ]
  },
  {
   "cell_type": "markdown",
   "id": "bbd752d3",
   "metadata": {},
   "source": [
    "# Q :7"
   ]
  },
  {
   "cell_type": "code",
   "execution_count": 107,
   "id": "a9f834da",
   "metadata": {},
   "outputs": [
    {
     "name": "stderr",
     "output_type": "stream",
     "text": [
      "<ipython-input-107-3a3e16443fde>:2: DeprecationWarning: executable_path has been deprecated, please pass in a Service object\n",
      "  driver = webdriver.Chrome(r\"C:\\Users\\hp\\Downloads\\chromedriver.exe\")\n"
     ]
    }
   ],
   "source": [
    "# let's first connect to the web driver#\n",
    "driver = webdriver.Chrome(r\"C:\\Users\\hp\\Downloads\\chromedriver.exe\")"
   ]
  },
  {
   "cell_type": "code",
   "execution_count": 108,
   "id": "c0e903c1",
   "metadata": {},
   "outputs": [],
   "source": [
    "url=\"https://www.myntra.com/shoes\"\n",
    "driver.get(url)"
   ]
  },
  {
   "cell_type": "code",
   "execution_count": 109,
   "id": "bf636ef3",
   "metadata": {},
   "outputs": [
    {
     "name": "stderr",
     "output_type": "stream",
     "text": [
      "<ipython-input-109-b19d48f1bd7a>:2: DeprecationWarning: find_elements_by_* commands are deprecated. Please use find_elements() instead\n",
      "  filter_button=driver.find_elements_by_xpath(\"//label[@class='common-customerCheckbox vertical-filters-label']\")\n"
     ]
    }
   ],
   "source": [
    "# appplying the price filter\n",
    "filter_button=driver.find_elements_by_xpath(\"//label[@class='common-customerCheckbox vertical-filters-label']\")\n",
    "for i in filter_button:\n",
    "    if i.text==\"Rs. 6649 to Rs. 13099\":\n",
    "        i.click()\n",
    "        break"
   ]
  },
  {
   "cell_type": "code",
   "execution_count": 110,
   "id": "feb80ff6",
   "metadata": {},
   "outputs": [
    {
     "name": "stderr",
     "output_type": "stream",
     "text": [
      "<ipython-input-110-85d3c582148e>:2: DeprecationWarning: find_elements_by_* commands are deprecated. Please use find_elements() instead\n",
      "  filter_button=driver.find_elements_by_xpath(\"//li[@class='colour-listItem']\")\n"
     ]
    }
   ],
   "source": [
    "#Applying the black colur filter\n",
    "filter_button=driver.find_elements_by_xpath(\"//li[@class='colour-listItem']\")\n",
    "for i in filter_button:\n",
    "    if i.text==\"Black\":\n",
    "        i.click()\n",
    "        break"
   ]
  },
  {
   "cell_type": "code",
   "execution_count": null,
   "id": "3a863071",
   "metadata": {},
   "outputs": [],
   "source": [
    "B_name=[]\n",
    "Price=[]\n",
    "P_desc=[]"
   ]
  },
  {
   "cell_type": "code",
   "execution_count": 111,
   "id": "6509e487",
   "metadata": {},
   "outputs": [
    {
     "name": "stderr",
     "output_type": "stream",
     "text": [
      "<ipython-input-111-6058afb61df4>:2: DeprecationWarning: find_elements_by_* commands are deprecated. Please use find_elements() instead\n",
      "  b_name=driver.find_elements_by_xpath(\"//h1[@class='pdp-title']\")\n",
      "<ipython-input-111-6058afb61df4>:3: DeprecationWarning: find_elements_by_* commands are deprecated. Please use find_elements() instead\n",
      "  p_desc=driver.find_elements_by_xpath(\"//h1[@class='name']\")\n",
      "<ipython-input-111-6058afb61df4>:4: DeprecationWarning: find_elements_by_* commands are deprecated. Please use find_elements() instead\n",
      "  price =driver.find_elements_by_xpath(\"//div[@class='product-price']\")\n"
     ]
    }
   ],
   "source": [
    "for i in range(2):\n",
    "    b_name=driver.find_elements_by_xpath(\"//h1[@class='pdp-title']\")\n",
    "    p_desc=driver.find_elements_by_xpath(\"//h1[@class='name']\")\n",
    "    price =driver.find_elements_by_xpath(\"//div[@class='product-price']\")\n",
    " \n",
    "    for j  in b_name:\n",
    "        B_name.append(j.text)\n",
    "    B_name[:100]    \n",
    "    \n",
    "    \n",
    "    \n",
    "\n",
    "    for k in p_desc:\n",
    "        P_desc.append(k.text)\n",
    "    P_desc[:100] \n",
    "    \n",
    "    \n",
    "    for l in price:\n",
    "        Price.append(l.text)\n",
    "    Price[:100] \n",
    "    "
   ]
  },
  {
   "cell_type": "code",
   "execution_count": 112,
   "id": "fc505194",
   "metadata": {},
   "outputs": [
    {
     "name": "stdout",
     "output_type": "stream",
     "text": [
      "100\n",
      "100\n",
      "99\n"
     ]
    },
    {
     "data": {
      "text/plain": [
       "(None, None, None)"
      ]
     },
     "execution_count": 112,
     "metadata": {},
     "output_type": "execute_result"
    }
   ],
   "source": [
    "print(len(B_name[:100])),print(len(Price[:100])),print(len(P_desc[:100]))"
   ]
  },
  {
   "cell_type": "code",
   "execution_count": 113,
   "id": "3df0484f",
   "metadata": {},
   "outputs": [],
   "source": [
    "driver.close()"
   ]
  },
  {
   "cell_type": "markdown",
   "id": "53c523a2",
   "metadata": {},
   "source": [
    "# Q :8"
   ]
  },
  {
   "cell_type": "code",
   "execution_count": 115,
   "id": "a647e7e2",
   "metadata": {},
   "outputs": [
    {
     "name": "stderr",
     "output_type": "stream",
     "text": [
      "<ipython-input-115-3a3e16443fde>:2: DeprecationWarning: executable_path has been deprecated, please pass in a Service object\n",
      "  driver = webdriver.Chrome(r\"C:\\Users\\hp\\Downloads\\chromedriver.exe\")\n"
     ]
    }
   ],
   "source": [
    "# let's first connect to the web driver#\n",
    "driver = webdriver.Chrome(r\"C:\\Users\\hp\\Downloads\\chromedriver.exe\")"
   ]
  },
  {
   "cell_type": "code",
   "execution_count": 116,
   "id": "4f200367",
   "metadata": {},
   "outputs": [],
   "source": [
    "url=\" https://www.amazon.in \"\n",
    "driver.get(url)"
   ]
  },
  {
   "cell_type": "code",
   "execution_count": 117,
   "id": "60a203a7",
   "metadata": {},
   "outputs": [
    {
     "name": "stderr",
     "output_type": "stream",
     "text": [
      "<ipython-input-117-bc928074362b>:2: DeprecationWarning: find_element_by_* commands are deprecated. Please use find_element() instead\n",
      "  search_g= driver.find_element_by_xpath(\"//input[@type='text']\")\n"
     ]
    },
    {
     "data": {
      "text/plain": [
       "<selenium.webdriver.remote.webelement.WebElement (session=\"5390642d48822274e7d5fe42d6c9f212\", element=\"db386ea8-6d18-4ebb-95dc-193199b8c2f1\")>"
      ]
     },
     "execution_count": 117,
     "metadata": {},
     "output_type": "execute_result"
    }
   ],
   "source": [
    "# finding element for job search bar#\n",
    "search_g= driver.find_element_by_xpath(\"//input[@type='text']\")\n",
    "search_g"
   ]
  },
  {
   "cell_type": "code",
   "execution_count": 118,
   "id": "dc10be95",
   "metadata": {},
   "outputs": [],
   "source": [
    "# write on search bar\n",
    "search_g.send_keys('Laptop')"
   ]
  },
  {
   "cell_type": "code",
   "execution_count": 119,
   "id": "7c49d57a",
   "metadata": {},
   "outputs": [
    {
     "name": "stderr",
     "output_type": "stream",
     "text": [
      "<ipython-input-119-2722086f107f>:1: DeprecationWarning: find_element_by_* commands are deprecated. Please use find_element() instead\n",
      "  search_btn=driver.find_element_by_xpath(\"//input[@id='nav-search-submit-button']\")\n"
     ]
    },
    {
     "data": {
      "text/plain": [
       "<selenium.webdriver.remote.webelement.WebElement (session=\"5390642d48822274e7d5fe42d6c9f212\", element=\"89a2babd-9d8a-4575-aa71-7033732a1d9f\")>"
      ]
     },
     "execution_count": 119,
     "metadata": {},
     "output_type": "execute_result"
    }
   ],
   "source": [
    "search_btn=driver.find_element_by_xpath(\"//input[@id='nav-search-submit-button']\")\n",
    "search_btn"
   ]
  },
  {
   "cell_type": "code",
   "execution_count": 120,
   "id": "f3466dd4",
   "metadata": {},
   "outputs": [
    {
     "name": "stderr",
     "output_type": "stream",
     "text": [
      "<ipython-input-120-65ba7bb3b7f2>:1: DeprecationWarning: find_element_by_* commands are deprecated. Please use find_element() instead\n",
      "  search_btn=driver.find_element_by_xpath(\"//input[@id='nav-search-submit-button']\")\n"
     ]
    }
   ],
   "source": [
    "search_btn=driver.find_element_by_xpath(\"//input[@id='nav-search-submit-button']\")\n",
    "search_btn.click()"
   ]
  },
  {
   "cell_type": "raw",
   "id": "32252533",
   "metadata": {},
   "source": [
    "No core filter are shown on the website"
   ]
  },
  {
   "cell_type": "code",
   "execution_count": 123,
   "id": "030f6ecd",
   "metadata": {},
   "outputs": [],
   "source": [
    "Title=[]\n",
    "Price=[]\n",
    "Rating=[]"
   ]
  },
  {
   "cell_type": "code",
   "execution_count": 124,
   "id": "d45bcdd9",
   "metadata": {},
   "outputs": [
    {
     "name": "stderr",
     "output_type": "stream",
     "text": [
      "<ipython-input-124-8fb6b9f2cc98>:2: DeprecationWarning: find_elements_by_* commands are deprecated. Please use find_elements() instead\n",
      "  b_name=driver.find_elements_by_xpath(\"//div[@class='_2WkVRV']\")\n",
      "<ipython-input-124-8fb6b9f2cc98>:3: DeprecationWarning: find_elements_by_* commands are deprecated. Please use find_elements() instead\n",
      "  p_desc=driver.find_elements_by_xpath(\"//a[@class='IRpwTa']\")\n",
      "<ipython-input-124-8fb6b9f2cc98>:4: DeprecationWarning: find_elements_by_* commands are deprecated. Please use find_elements() instead\n",
      "  price =driver.find_elements_by_xpath(\"//div[@class='_25b18c']\")\n"
     ]
    }
   ],
   "source": [
    "for i in range(3):\n",
    "    b_name=driver.find_elements_by_xpath(\"//div[@class='_2WkVRV']\")\n",
    "    p_desc=driver.find_elements_by_xpath(\"//a[@class='IRpwTa']\")\n",
    "    price =driver.find_elements_by_xpath(\"//div[@class='_25b18c']\")\n",
    "    \n",
    "    \n",
    "    for j  in b_name:\n",
    "        Title.append(j.text)\n",
    "    Title[:100]    \n",
    "    \n",
    "    \n",
    "    \n",
    "    for k in p_desc:\n",
    "        P_desc.append(k.text)\n",
    "    P_desc[:100] \n",
    "    \n",
    "    \n",
    "    for l in price:\n",
    "        Price.append(l.text)\n",
    "    Price[:100] \n",
    "    "
   ]
  },
  {
   "cell_type": "markdown",
   "id": "d00b3e38",
   "metadata": {},
   "source": [
    "# Q :9"
   ]
  },
  {
   "cell_type": "code",
   "execution_count": 127,
   "id": "cca600be",
   "metadata": {},
   "outputs": [
    {
     "name": "stderr",
     "output_type": "stream",
     "text": [
      "<ipython-input-127-3a3e16443fde>:2: DeprecationWarning: executable_path has been deprecated, please pass in a Service object\n",
      "  driver = webdriver.Chrome(r\"C:\\Users\\hp\\Downloads\\chromedriver.exe\")\n"
     ]
    }
   ],
   "source": [
    "# let's first connect to the web driver#\n",
    "driver = webdriver.Chrome(r\"C:\\Users\\hp\\Downloads\\chromedriver.exe\")"
   ]
  },
  {
   "cell_type": "code",
   "execution_count": 128,
   "id": "841fbe86",
   "metadata": {},
   "outputs": [],
   "source": [
    "url=\"https://www.ambitionbox.com\"\n",
    "driver.get(url)"
   ]
  },
  {
   "cell_type": "code",
   "execution_count": 129,
   "id": "1bf17e08",
   "metadata": {},
   "outputs": [
    {
     "name": "stderr",
     "output_type": "stream",
     "text": [
      "<ipython-input-129-c00661f8d825>:1: DeprecationWarning: find_elements_by_* commands are deprecated. Please use find_elements() instead\n",
      "  title_t1=driver.find_elements_by_xpath('//a[@class=\"title noclick\"]')\n"
     ]
    },
    {
     "data": {
      "text/plain": [
       "[<selenium.webdriver.remote.webelement.WebElement (session=\"ffaff3a664fbf40ace91d952d4a37baa\", element=\"773b4265-a26d-4a3e-85e7-8867c94327e8\")>,\n",
       " <selenium.webdriver.remote.webelement.WebElement (session=\"ffaff3a664fbf40ace91d952d4a37baa\", element=\"c0da509a-12f9-4354-a5a0-619e1a100d78\")>,\n",
       " <selenium.webdriver.remote.webelement.WebElement (session=\"ffaff3a664fbf40ace91d952d4a37baa\", element=\"ac4bd519-7f0b-4b7d-87ce-7094e15cda54\")>,\n",
       " <selenium.webdriver.remote.webelement.WebElement (session=\"ffaff3a664fbf40ace91d952d4a37baa\", element=\"6b2701eb-f7bb-42ca-88c1-c5bc8960a94a\")>,\n",
       " <selenium.webdriver.remote.webelement.WebElement (session=\"ffaff3a664fbf40ace91d952d4a37baa\", element=\"df31664f-bceb-4398-b51f-86b5ae940715\")>,\n",
       " <selenium.webdriver.remote.webelement.WebElement (session=\"ffaff3a664fbf40ace91d952d4a37baa\", element=\"b25c4b52-7f7e-4c8b-8ca4-c3dea41948ff\")>,\n",
       " <selenium.webdriver.remote.webelement.WebElement (session=\"ffaff3a664fbf40ace91d952d4a37baa\", element=\"6d5fbf94-f4e9-40c6-a56d-8422efe2820e\")>,\n",
       " <selenium.webdriver.remote.webelement.WebElement (session=\"ffaff3a664fbf40ace91d952d4a37baa\", element=\"0c3f1be7-531c-4bda-b471-682afb35c34e\")>,\n",
       " <selenium.webdriver.remote.webelement.WebElement (session=\"ffaff3a664fbf40ace91d952d4a37baa\", element=\"3c6e78d3-d576-4de9-a764-fce12c941b0d\")>,\n",
       " <selenium.webdriver.remote.webelement.WebElement (session=\"ffaff3a664fbf40ace91d952d4a37baa\", element=\"4e56729f-e663-48a8-b8ea-41d02cb550e7\")>]"
      ]
     },
     "execution_count": 129,
     "metadata": {},
     "output_type": "execute_result"
    }
   ],
   "source": [
    "title_t1=driver.find_elements_by_xpath('//a[@class=\"title noclick\"]')\n",
    "title_t1"
   ]
  },
  {
   "cell_type": "code",
   "execution_count": 130,
   "id": "55e26b9e",
   "metadata": {},
   "outputs": [
    {
     "data": {
      "text/plain": [
       "['Senior Data Scientist',\n",
       " 'Data Scientist- Forecasting and R or Python',\n",
       " 'LatentBridge - Data Scientist - Python/R (2-6 yrs)',\n",
       " 'Data Scientist - Machine Learning Algorithms (3-8 yrs)',\n",
       " 'Data Scientist - Machine Learning/Big Data (0-4 yrs)',\n",
       " 'Info Edge - Data Scientist - Machine Learning/NLP (0-2 yrs)',\n",
       " 'Info Edge - Senior Data Scientist - Machine Learning/Deep Learning (3-5 yrs)',\n",
       " 'Data Science Trainer | AI | Machine Learning | Python |',\n",
       " 'Data Scientist - NLP',\n",
       " 'Principal Scientist - Machine Learning - IT (15-26 yrs)']"
      ]
     },
     "execution_count": 130,
     "metadata": {},
     "output_type": "execute_result"
    }
   ],
   "source": [
    "# extract the text of the job title  from the tags\n",
    "job_titles=[]\n",
    "for i in title_t1:\n",
    "    if i.text is None:\n",
    "        job_titles.append('Not')\n",
    "    else:\n",
    "        job_titles.append(i.text)\n",
    "job_titles[:10]  "
   ]
  },
  {
   "cell_type": "code",
   "execution_count": 131,
   "id": "3fb4d380",
   "metadata": {},
   "outputs": [],
   "source": [
    "jobsambitionbox=pd.DataFrame({})\n",
    "jobsambitionbox['title']=job_titles[:10]\n",
    "jobsambitionbox['company']=companies_names[:10]\n"
   ]
  },
  {
   "cell_type": "code",
   "execution_count": 132,
   "id": "fb228464",
   "metadata": {},
   "outputs": [
    {
     "data": {
      "text/html": [
       "<div>\n",
       "<style scoped>\n",
       "    .dataframe tbody tr th:only-of-type {\n",
       "        vertical-align: middle;\n",
       "    }\n",
       "\n",
       "    .dataframe tbody tr th {\n",
       "        vertical-align: top;\n",
       "    }\n",
       "\n",
       "    .dataframe thead th {\n",
       "        text-align: right;\n",
       "    }\n",
       "</style>\n",
       "<table border=\"1\" class=\"dataframe\">\n",
       "  <thead>\n",
       "    <tr style=\"text-align: right;\">\n",
       "      <th></th>\n",
       "      <th>title</th>\n",
       "      <th>company</th>\n",
       "    </tr>\n",
       "  </thead>\n",
       "  <tbody>\n",
       "    <tr>\n",
       "      <th>0</th>\n",
       "      <td>Senior Data Scientist</td>\n",
       "      <td>Wipro</td>\n",
       "    </tr>\n",
       "    <tr>\n",
       "      <th>1</th>\n",
       "      <td>Data Scientist- Forecasting and R or Python</td>\n",
       "      <td>EXL</td>\n",
       "    </tr>\n",
       "    <tr>\n",
       "      <th>2</th>\n",
       "      <td>LatentBridge - Data Scientist - Python/R (2-6 ...</td>\n",
       "      <td>PayU</td>\n",
       "    </tr>\n",
       "    <tr>\n",
       "      <th>3</th>\n",
       "      <td>Data Scientist - Machine Learning Algorithms (...</td>\n",
       "      <td>Fractal Analytics</td>\n",
       "    </tr>\n",
       "    <tr>\n",
       "      <th>4</th>\n",
       "      <td>Data Scientist - Machine Learning/Big Data (0-...</td>\n",
       "      <td>Paytm</td>\n",
       "    </tr>\n",
       "    <tr>\n",
       "      <th>5</th>\n",
       "      <td>Info Edge - Data Scientist - Machine Learning/...</td>\n",
       "      <td>Boston Consulting Group</td>\n",
       "    </tr>\n",
       "    <tr>\n",
       "      <th>6</th>\n",
       "      <td>Info Edge - Senior Data Scientist - Machine Le...</td>\n",
       "      <td>EXL</td>\n",
       "    </tr>\n",
       "    <tr>\n",
       "      <th>7</th>\n",
       "      <td>Data Science Trainer | AI | Machine Learning |...</td>\n",
       "      <td>Mahindra First Choice</td>\n",
       "    </tr>\n",
       "    <tr>\n",
       "      <th>8</th>\n",
       "      <td>Data Scientist - NLP</td>\n",
       "      <td>EXL</td>\n",
       "    </tr>\n",
       "    <tr>\n",
       "      <th>9</th>\n",
       "      <td>Principal Scientist - Machine Learning - IT (1...</td>\n",
       "      <td>EXL</td>\n",
       "    </tr>\n",
       "  </tbody>\n",
       "</table>\n",
       "</div>"
      ],
      "text/plain": [
       "                                               title                  company\n",
       "0                              Senior Data Scientist                    Wipro\n",
       "1        Data Scientist- Forecasting and R or Python                      EXL\n",
       "2  LatentBridge - Data Scientist - Python/R (2-6 ...                     PayU\n",
       "3  Data Scientist - Machine Learning Algorithms (...        Fractal Analytics\n",
       "4  Data Scientist - Machine Learning/Big Data (0-...                    Paytm\n",
       "5  Info Edge - Data Scientist - Machine Learning/...  Boston Consulting Group\n",
       "6  Info Edge - Senior Data Scientist - Machine Le...                      EXL\n",
       "7  Data Science Trainer | AI | Machine Learning |...    Mahindra First Choice\n",
       "8                               Data Scientist - NLP                      EXL\n",
       "9  Principal Scientist - Machine Learning - IT (1...                      EXL"
      ]
     },
     "execution_count": 132,
     "metadata": {},
     "output_type": "execute_result"
    }
   ],
   "source": [
    "jobsambitionbox"
   ]
  },
  {
   "cell_type": "code",
   "execution_count": 134,
   "id": "8ab5c814",
   "metadata": {},
   "outputs": [],
   "source": [
    "driver.close()"
   ]
  },
  {
   "cell_type": "markdown",
   "id": "65045350",
   "metadata": {},
   "source": [
    "# Q:5"
   ]
  },
  {
   "cell_type": "code",
   "execution_count": 157,
   "id": "c218f00b",
   "metadata": {},
   "outputs": [
    {
     "name": "stderr",
     "output_type": "stream",
     "text": [
      "<ipython-input-157-3a3e16443fde>:2: DeprecationWarning: executable_path has been deprecated, please pass in a Service object\n",
      "  driver = webdriver.Chrome(r\"C:\\Users\\hp\\Downloads\\chromedriver.exe\")\n"
     ]
    }
   ],
   "source": [
    "# let's first connect to the web driver#\n",
    "driver = webdriver.Chrome(r\"C:\\Users\\hp\\Downloads\\chromedriver.exe\")"
   ]
  },
  {
   "cell_type": "code",
   "execution_count": 158,
   "id": "1407c5bf",
   "metadata": {},
   "outputs": [],
   "source": [
    "url = 'https://www.flipkart.com/apple-iphone-11-black-64-gb-includes-earpods-power-adapter/p/itm0f37c2240b217?pid=MOBFKCTSVZAXUHGR&lid=LSTMOBFKCTSVZAXUHGREPBFGI&marketplace' \n",
    "driver.get(url)\n"
   ]
  },
  {
   "cell_type": "code",
   "execution_count": 159,
   "id": "37dab00e",
   "metadata": {},
   "outputs": [
    {
     "name": "stderr",
     "output_type": "stream",
     "text": [
      "<ipython-input-159-868f65d846e6>:1: DeprecationWarning: find_element_by_* commands are deprecated. Please use find_element() instead\n",
      "  viewall = driver.find_element_by_xpath('/html/body/div[1]/div/div[3]/div[1]/div[2]/div[9]/div/div/div[5]/div/a/div/span')\n"
     ]
    }
   ],
   "source": [
    "viewall = driver.find_element_by_xpath('/html/body/div[1]/div/div[3]/div[1]/div[2]/div[9]/div/div/div[5]/div/a/div/span')\n",
    "viewall.click()"
   ]
  },
  {
   "cell_type": "code",
   "execution_count": 160,
   "id": "3ad0bb07",
   "metadata": {},
   "outputs": [],
   "source": [
    "rev_sum = []\n",
    "rating = []\n",
    "rev = []"
   ]
  },
  {
   "cell_type": "code",
   "execution_count": 161,
   "id": "e9bc9ed7",
   "metadata": {},
   "outputs": [
    {
     "ename": "IndentationError",
     "evalue": "unexpected indent (<ipython-input-161-dc3ec4088704>, line 2)",
     "output_type": "error",
     "traceback": [
      "\u001b[1;36m  File \u001b[1;32m\"<ipython-input-161-dc3ec4088704>\"\u001b[1;36m, line \u001b[1;32m2\u001b[0m\n\u001b[1;33m    rating_tag = driver.find_elements_by_xpath(\"//div[@class='_3LWZlK _1BLPMq']\")\u001b[0m\n\u001b[1;37m    ^\u001b[0m\n\u001b[1;31mIndentationError\u001b[0m\u001b[1;31m:\u001b[0m unexpected indent\n"
     ]
    }
   ],
   "source": [
    " rev_sum_tag = driver.find_elements_by_xpath(\"//p[@class='_2-N8zT']\")\n",
    "    rating_tag = driver.find_elements_by_xpath(\"//div[@class='_3LWZlK _1BLPMq']\")\n",
    "    rev_tag = driver.find_elements_by_xpath(\"//div[@class='t-ZTKy']\")\n",
    "    \n",
    "\n",
    "    for r in rev_sum_tag:\n",
    "        rev_sum.append(r.text)\n",
    "    for j in rating_tag :\n",
    "        rating.append(j.text)\n",
    "    for k in rev_tag:\n",
    "        rev.append(k.text.replace(\"\\n\",\" \")"
   ]
  },
  {
   "cell_type": "code",
   "execution_count": 162,
   "id": "c2899ccd",
   "metadata": {},
   "outputs": [],
   "source": [
    "import time "
   ]
  },
  {
   "cell_type": "code",
   "execution_count": 163,
   "id": "64e015e5",
   "metadata": {},
   "outputs": [
    {
     "name": "stderr",
     "output_type": "stream",
     "text": [
      "<ipython-input-163-7ae46b450424>:2: DeprecationWarning: find_element_by_* commands are deprecated. Please use find_element() instead\n",
      "  nextbtn = driver.find_element_by_class_name('_1LKTO3')\n",
      "<ipython-input-163-7ae46b450424>:10: DeprecationWarning: find_elements_by_* commands are deprecated. Please use find_elements() instead\n",
      "  rev_sum_tag = driver.find_elements_by_xpath(\"//p[@class='_2-N8zT']\")\n",
      "<ipython-input-163-7ae46b450424>:11: DeprecationWarning: find_elements_by_* commands are deprecated. Please use find_elements() instead\n",
      "  rating_tag = driver.find_elements_by_xpath(\"//div[@class='_3LWZlK _1BLPMq']\")\n",
      "<ipython-input-163-7ae46b450424>:12: DeprecationWarning: find_elements_by_* commands are deprecated. Please use find_elements() instead\n",
      "  rev_tag = driver.find_elements_by_xpath(\"//div[@class='t-ZTKy']\")\n"
     ]
    }
   ],
   "source": [
    "i=0\n",
    "nextbtn = driver.find_element_by_class_name('_1LKTO3')\n",
    "while(i<10):\n",
    "    try:\n",
    "        nextbtn.click()\n",
    "    except:\n",
    "        pass\n",
    "    \n",
    "    time.sleep(3) #to allow the page to load completely before scraping.\n",
    "    rev_sum_tag = driver.find_elements_by_xpath(\"//p[@class='_2-N8zT']\")\n",
    "    rating_tag = driver.find_elements_by_xpath(\"//div[@class='_3LWZlK _1BLPMq']\")\n",
    "    rev_tag = driver.find_elements_by_xpath(\"//div[@class='t-ZTKy']\")\n",
    "    for r in rev_sum_tag:\n",
    "        try:\n",
    "            rev_sum.append(r.text)\n",
    "        except:\n",
    "            pass\n",
    "    for j in rating_tag :\n",
    "        try:\n",
    "            rating.append(j.text)\n",
    "        except:\n",
    "            pass\n",
    "    for k in rev_tag:\n",
    "        try:\n",
    "            rev.append(k.text.replace(\"\\n\",\" \"))\n",
    "        except:\n",
    "            pass\n",
    "\n",
    "    \n",
    "    \n",
    "    \n",
    "    i=i+1"
   ]
  },
  {
   "cell_type": "code",
   "execution_count": null,
   "id": "4c76344e",
   "metadata": {},
   "outputs": [],
   "source": [
    "#CREATING DATAFRAME#"
   ]
  },
  {
   "cell_type": "code",
   "execution_count": 164,
   "id": "9e9d29c8",
   "metadata": {},
   "outputs": [
    {
     "data": {
      "text/plain": [
       "(100, 3)"
      ]
     },
     "execution_count": 164,
     "metadata": {},
     "output_type": "execute_result"
    }
   ],
   "source": [
    "iphoneDF = pd.DataFrame({\"Summary\":rev_sum[0:100],\"Full Review\":rev[0:100],\"Rating\":rating[0:100]})\n",
    "iphoneDF.reset_index(drop=True,inplace = True)\n",
    "iphoneDF.index+= 1\n",
    "iphoneDF.shape"
   ]
  },
  {
   "cell_type": "code",
   "execution_count": 165,
   "id": "bad423ea",
   "metadata": {},
   "outputs": [
    {
     "data": {
      "text/html": [
       "<div>\n",
       "<style scoped>\n",
       "    .dataframe tbody tr th:only-of-type {\n",
       "        vertical-align: middle;\n",
       "    }\n",
       "\n",
       "    .dataframe tbody tr th {\n",
       "        vertical-align: top;\n",
       "    }\n",
       "\n",
       "    .dataframe thead th {\n",
       "        text-align: right;\n",
       "    }\n",
       "</style>\n",
       "<table border=\"1\" class=\"dataframe\">\n",
       "  <thead>\n",
       "    <tr style=\"text-align: right;\">\n",
       "      <th></th>\n",
       "      <th>Summary</th>\n",
       "      <th>Full Review</th>\n",
       "      <th>Rating</th>\n",
       "    </tr>\n",
       "  </thead>\n",
       "  <tbody>\n",
       "    <tr>\n",
       "      <th>1</th>\n",
       "      <td>Highly recommended</td>\n",
       "      <td>It's my first time to use iOS phone and I am l...</td>\n",
       "      <td>5</td>\n",
       "    </tr>\n",
       "    <tr>\n",
       "      <th>2</th>\n",
       "      <td>Perfect product!</td>\n",
       "      <td>It’s a must buy who is looking for an upgrade ...</td>\n",
       "      <td>5</td>\n",
       "    </tr>\n",
       "    <tr>\n",
       "      <th>3</th>\n",
       "      <td>Perfect product!</td>\n",
       "      <td>Value for money❤️❤️ Its awesome mobile phone i...</td>\n",
       "      <td>5</td>\n",
       "    </tr>\n",
       "    <tr>\n",
       "      <th>4</th>\n",
       "      <td>Worth every penny</td>\n",
       "      <td>Smooth like butter, camera like fantabulous, s...</td>\n",
       "      <td>5</td>\n",
       "    </tr>\n",
       "    <tr>\n",
       "      <th>5</th>\n",
       "      <td>Perfect product!</td>\n",
       "      <td>It is just awesome mobile for this price from ...</td>\n",
       "      <td>5</td>\n",
       "    </tr>\n",
       "    <tr>\n",
       "      <th>...</th>\n",
       "      <td>...</td>\n",
       "      <td>...</td>\n",
       "      <td>...</td>\n",
       "    </tr>\n",
       "    <tr>\n",
       "      <th>96</th>\n",
       "      <td>Perfect product!</td>\n",
       "      <td>Iphone is just awesome.. battery backup is ver...</td>\n",
       "      <td>5</td>\n",
       "    </tr>\n",
       "    <tr>\n",
       "      <th>97</th>\n",
       "      <td>Terrific</td>\n",
       "      <td>Really worth of money. i just love it. It is t...</td>\n",
       "      <td>5</td>\n",
       "    </tr>\n",
       "    <tr>\n",
       "      <th>98</th>\n",
       "      <td>Worth every penny</td>\n",
       "      <td>Best budget Iphone till date ❤️ go for it guys...</td>\n",
       "      <td>5</td>\n",
       "    </tr>\n",
       "    <tr>\n",
       "      <th>99</th>\n",
       "      <td>Simply awesome</td>\n",
       "      <td>Excellent camera, good performance, no lag. Th...</td>\n",
       "      <td>5</td>\n",
       "    </tr>\n",
       "    <tr>\n",
       "      <th>100</th>\n",
       "      <td>Wonderful</td>\n",
       "      <td>This is my first ever I phone. Before this I w...</td>\n",
       "      <td>5</td>\n",
       "    </tr>\n",
       "  </tbody>\n",
       "</table>\n",
       "<p>100 rows × 3 columns</p>\n",
       "</div>"
      ],
      "text/plain": [
       "                Summary                                        Full Review  \\\n",
       "1    Highly recommended  It's my first time to use iOS phone and I am l...   \n",
       "2      Perfect product!  It’s a must buy who is looking for an upgrade ...   \n",
       "3      Perfect product!  Value for money❤️❤️ Its awesome mobile phone i...   \n",
       "4     Worth every penny  Smooth like butter, camera like fantabulous, s...   \n",
       "5      Perfect product!  It is just awesome mobile for this price from ...   \n",
       "..                  ...                                                ...   \n",
       "96     Perfect product!  Iphone is just awesome.. battery backup is ver...   \n",
       "97             Terrific  Really worth of money. i just love it. It is t...   \n",
       "98    Worth every penny  Best budget Iphone till date ❤️ go for it guys...   \n",
       "99       Simply awesome  Excellent camera, good performance, no lag. Th...   \n",
       "100           Wonderful  This is my first ever I phone. Before this I w...   \n",
       "\n",
       "    Rating  \n",
       "1        5  \n",
       "2        5  \n",
       "3        5  \n",
       "4        5  \n",
       "5        5  \n",
       "..     ...  \n",
       "96       5  \n",
       "97       5  \n",
       "98       5  \n",
       "99       5  \n",
       "100      5  \n",
       "\n",
       "[100 rows x 3 columns]"
      ]
     },
     "execution_count": 165,
     "metadata": {},
     "output_type": "execute_result"
    }
   ],
   "source": [
    "iphoneDF"
   ]
  },
  {
   "cell_type": "code",
   "execution_count": 166,
   "id": "4d673624",
   "metadata": {},
   "outputs": [
    {
     "data": {
      "text/html": [
       "<div>\n",
       "<style scoped>\n",
       "    .dataframe tbody tr th:only-of-type {\n",
       "        vertical-align: middle;\n",
       "    }\n",
       "\n",
       "    .dataframe tbody tr th {\n",
       "        vertical-align: top;\n",
       "    }\n",
       "\n",
       "    .dataframe thead th {\n",
       "        text-align: right;\n",
       "    }\n",
       "</style>\n",
       "<table border=\"1\" class=\"dataframe\">\n",
       "  <thead>\n",
       "    <tr style=\"text-align: right;\">\n",
       "      <th></th>\n",
       "      <th>Summary</th>\n",
       "      <th>Full Review</th>\n",
       "      <th>Rating</th>\n",
       "    </tr>\n",
       "  </thead>\n",
       "  <tbody>\n",
       "    <tr>\n",
       "      <th>1</th>\n",
       "      <td>Highly recommended</td>\n",
       "      <td>It's my first time to use iOS phone and I am l...</td>\n",
       "      <td>5</td>\n",
       "    </tr>\n",
       "    <tr>\n",
       "      <th>2</th>\n",
       "      <td>Perfect product!</td>\n",
       "      <td>It’s a must buy who is looking for an upgrade ...</td>\n",
       "      <td>5</td>\n",
       "    </tr>\n",
       "    <tr>\n",
       "      <th>3</th>\n",
       "      <td>Perfect product!</td>\n",
       "      <td>Value for money❤️❤️ Its awesome mobile phone i...</td>\n",
       "      <td>5</td>\n",
       "    </tr>\n",
       "    <tr>\n",
       "      <th>4</th>\n",
       "      <td>Worth every penny</td>\n",
       "      <td>Smooth like butter, camera like fantabulous, s...</td>\n",
       "      <td>5</td>\n",
       "    </tr>\n",
       "    <tr>\n",
       "      <th>5</th>\n",
       "      <td>Perfect product!</td>\n",
       "      <td>It is just awesome mobile for this price from ...</td>\n",
       "      <td>5</td>\n",
       "    </tr>\n",
       "    <tr>\n",
       "      <th>6</th>\n",
       "      <td>Perfect product!</td>\n",
       "      <td>Iphone is just awesome.. battery backup is ver...</td>\n",
       "      <td>5</td>\n",
       "    </tr>\n",
       "    <tr>\n",
       "      <th>7</th>\n",
       "      <td>Terrific</td>\n",
       "      <td>Really worth of money. i just love it. It is t...</td>\n",
       "      <td>5</td>\n",
       "    </tr>\n",
       "    <tr>\n",
       "      <th>8</th>\n",
       "      <td>Worth every penny</td>\n",
       "      <td>Best budget Iphone till date ❤️ go for it guys...</td>\n",
       "      <td>5</td>\n",
       "    </tr>\n",
       "    <tr>\n",
       "      <th>9</th>\n",
       "      <td>Simply awesome</td>\n",
       "      <td>Excellent camera, good performance, no lag. Th...</td>\n",
       "      <td>5</td>\n",
       "    </tr>\n",
       "    <tr>\n",
       "      <th>10</th>\n",
       "      <td>Wonderful</td>\n",
       "      <td>This is my first ever I phone. Before this I w...</td>\n",
       "      <td>5</td>\n",
       "    </tr>\n",
       "    <tr>\n",
       "      <th>11</th>\n",
       "      <td>Highly recommended</td>\n",
       "      <td>It's my first time to use iOS phone and I am l...</td>\n",
       "      <td>5</td>\n",
       "    </tr>\n",
       "    <tr>\n",
       "      <th>12</th>\n",
       "      <td>Perfect product!</td>\n",
       "      <td>It’s a must buy who is looking for an upgrade ...</td>\n",
       "      <td>5</td>\n",
       "    </tr>\n",
       "    <tr>\n",
       "      <th>13</th>\n",
       "      <td>Perfect product!</td>\n",
       "      <td>Value for money❤️❤️ Its awesome mobile phone i...</td>\n",
       "      <td>5</td>\n",
       "    </tr>\n",
       "    <tr>\n",
       "      <th>14</th>\n",
       "      <td>Worth every penny</td>\n",
       "      <td>Smooth like butter, camera like fantabulous, s...</td>\n",
       "      <td>5</td>\n",
       "    </tr>\n",
       "    <tr>\n",
       "      <th>15</th>\n",
       "      <td>Perfect product!</td>\n",
       "      <td>It is just awesome mobile for this price from ...</td>\n",
       "      <td>5</td>\n",
       "    </tr>\n",
       "    <tr>\n",
       "      <th>16</th>\n",
       "      <td>Perfect product!</td>\n",
       "      <td>Iphone is just awesome.. battery backup is ver...</td>\n",
       "      <td>5</td>\n",
       "    </tr>\n",
       "    <tr>\n",
       "      <th>17</th>\n",
       "      <td>Terrific</td>\n",
       "      <td>Really worth of money. i just love it. It is t...</td>\n",
       "      <td>5</td>\n",
       "    </tr>\n",
       "    <tr>\n",
       "      <th>18</th>\n",
       "      <td>Worth every penny</td>\n",
       "      <td>Best budget Iphone till date ❤️ go for it guys...</td>\n",
       "      <td>5</td>\n",
       "    </tr>\n",
       "    <tr>\n",
       "      <th>19</th>\n",
       "      <td>Simply awesome</td>\n",
       "      <td>Excellent camera, good performance, no lag. Th...</td>\n",
       "      <td>5</td>\n",
       "    </tr>\n",
       "    <tr>\n",
       "      <th>20</th>\n",
       "      <td>Wonderful</td>\n",
       "      <td>This is my first ever I phone. Before this I w...</td>\n",
       "      <td>5</td>\n",
       "    </tr>\n",
       "    <tr>\n",
       "      <th>21</th>\n",
       "      <td>Highly recommended</td>\n",
       "      <td>It's my first time to use iOS phone and I am l...</td>\n",
       "      <td>5</td>\n",
       "    </tr>\n",
       "    <tr>\n",
       "      <th>22</th>\n",
       "      <td>Perfect product!</td>\n",
       "      <td>It’s a must buy who is looking for an upgrade ...</td>\n",
       "      <td>5</td>\n",
       "    </tr>\n",
       "    <tr>\n",
       "      <th>23</th>\n",
       "      <td>Perfect product!</td>\n",
       "      <td>Value for money❤️❤️ Its awesome mobile phone i...</td>\n",
       "      <td>5</td>\n",
       "    </tr>\n",
       "    <tr>\n",
       "      <th>24</th>\n",
       "      <td>Worth every penny</td>\n",
       "      <td>Smooth like butter, camera like fantabulous, s...</td>\n",
       "      <td>5</td>\n",
       "    </tr>\n",
       "    <tr>\n",
       "      <th>25</th>\n",
       "      <td>Perfect product!</td>\n",
       "      <td>It is just awesome mobile for this price from ...</td>\n",
       "      <td>5</td>\n",
       "    </tr>\n",
       "  </tbody>\n",
       "</table>\n",
       "</div>"
      ],
      "text/plain": [
       "               Summary                                        Full Review  \\\n",
       "1   Highly recommended  It's my first time to use iOS phone and I am l...   \n",
       "2     Perfect product!  It’s a must buy who is looking for an upgrade ...   \n",
       "3     Perfect product!  Value for money❤️❤️ Its awesome mobile phone i...   \n",
       "4    Worth every penny  Smooth like butter, camera like fantabulous, s...   \n",
       "5     Perfect product!  It is just awesome mobile for this price from ...   \n",
       "6     Perfect product!  Iphone is just awesome.. battery backup is ver...   \n",
       "7             Terrific  Really worth of money. i just love it. It is t...   \n",
       "8    Worth every penny  Best budget Iphone till date ❤️ go for it guys...   \n",
       "9       Simply awesome  Excellent camera, good performance, no lag. Th...   \n",
       "10           Wonderful  This is my first ever I phone. Before this I w...   \n",
       "11  Highly recommended  It's my first time to use iOS phone and I am l...   \n",
       "12    Perfect product!  It’s a must buy who is looking for an upgrade ...   \n",
       "13    Perfect product!  Value for money❤️❤️ Its awesome mobile phone i...   \n",
       "14   Worth every penny  Smooth like butter, camera like fantabulous, s...   \n",
       "15    Perfect product!  It is just awesome mobile for this price from ...   \n",
       "16    Perfect product!  Iphone is just awesome.. battery backup is ver...   \n",
       "17            Terrific  Really worth of money. i just love it. It is t...   \n",
       "18   Worth every penny  Best budget Iphone till date ❤️ go for it guys...   \n",
       "19      Simply awesome  Excellent camera, good performance, no lag. Th...   \n",
       "20           Wonderful  This is my first ever I phone. Before this I w...   \n",
       "21  Highly recommended  It's my first time to use iOS phone and I am l...   \n",
       "22    Perfect product!  It’s a must buy who is looking for an upgrade ...   \n",
       "23    Perfect product!  Value for money❤️❤️ Its awesome mobile phone i...   \n",
       "24   Worth every penny  Smooth like butter, camera like fantabulous, s...   \n",
       "25    Perfect product!  It is just awesome mobile for this price from ...   \n",
       "\n",
       "   Rating  \n",
       "1       5  \n",
       "2       5  \n",
       "3       5  \n",
       "4       5  \n",
       "5       5  \n",
       "6       5  \n",
       "7       5  \n",
       "8       5  \n",
       "9       5  \n",
       "10      5  \n",
       "11      5  \n",
       "12      5  \n",
       "13      5  \n",
       "14      5  \n",
       "15      5  \n",
       "16      5  \n",
       "17      5  \n",
       "18      5  \n",
       "19      5  \n",
       "20      5  \n",
       "21      5  \n",
       "22      5  \n",
       "23      5  \n",
       "24      5  \n",
       "25      5  "
      ]
     },
     "execution_count": 166,
     "metadata": {},
     "output_type": "execute_result"
    }
   ],
   "source": [
    "iphoneDF.head(25)"
   ]
  },
  {
   "cell_type": "markdown",
   "id": "d31b5c23",
   "metadata": {},
   "source": [
    "# Q:10"
   ]
  },
  {
   "cell_type": "code",
   "execution_count": 217,
   "id": "1112747e",
   "metadata": {},
   "outputs": [
    {
     "name": "stderr",
     "output_type": "stream",
     "text": [
      "<ipython-input-217-3a3e16443fde>:2: DeprecationWarning: executable_path has been deprecated, please pass in a Service object\n",
      "  driver = webdriver.Chrome(r\"C:\\Users\\hp\\Downloads\\chromedriver.exe\")\n"
     ]
    }
   ],
   "source": [
    "# let's first connect to the web driver#\n",
    "driver = webdriver.Chrome(r\"C:\\Users\\hp\\Downloads\\chromedriver.exe\")"
   ]
  },
  {
   "cell_type": "code",
   "execution_count": 218,
   "id": "7f0b3dff",
   "metadata": {},
   "outputs": [],
   "source": [
    "url='https://www.ambitionbox.com/'\n",
    "driver.get(url)"
   ]
  },
  {
   "cell_type": "code",
   "execution_count": 207,
   "id": "f3241aa7",
   "metadata": {},
   "outputs": [
    {
     "name": "stderr",
     "output_type": "stream",
     "text": [
      "<ipython-input-207-8214a8616fab>:1: DeprecationWarning: find_element_by_* commands are deprecated. Please use find_element() instead\n",
      "  s_src=driver.find_element_by_xpath(\"/html/body/div[1]/nav/nav/a[4]\")\n"
     ]
    }
   ],
   "source": [
    "s_src=driver.find_element_by_xpath(\"/html/body/div[1]/nav/nav/a[4]\")\n",
    "s_src\n",
    "\n",
    "s_src.click()"
   ]
  },
  {
   "cell_type": "code",
   "execution_count": 219,
   "id": "3074be41",
   "metadata": {},
   "outputs": [
    {
     "name": "stderr",
     "output_type": "stream",
     "text": [
      "<ipython-input-219-0210c551aafd>:1: DeprecationWarning: find_element_by_* commands are deprecated. Please use find_element() instead\n",
      "  s_int=driver.find_element_by_xpath(\"/html/body/div/div/div/main/section[1]/div[2]/div[1]/span/input\")\n"
     ]
    }
   ],
   "source": [
    "s_int=driver.find_element_by_xpath(\"/html/body/div/div/div/main/section[1]/div[2]/div[1]/span/input\")\n",
    "s_int\n",
    "\n",
    "s_int.send_keys('Data Scientist')"
   ]
  },
  {
   "cell_type": "code",
   "execution_count": 220,
   "id": "5b040be9",
   "metadata": {},
   "outputs": [
    {
     "name": "stderr",
     "output_type": "stream",
     "text": [
      "<ipython-input-220-5a186d0ad10b>:1: DeprecationWarning: find_element_by_* commands are deprecated. Please use find_element() instead\n",
      "  sd_src=driver.find_element_by_xpath(\"/html/body/div/div/div/div[2]/div/div/div/button/span\")\n"
     ]
    }
   ],
   "source": [
    "sd_src=driver.find_element_by_xpath(\"/html/body/div/div/div/div[2]/div/div/div/button/span\")\n",
    "sd_src\n",
    "\n",
    "sd_src.click()"
   ]
  },
  {
   "cell_type": "code",
   "execution_count": 228,
   "id": "07ded998",
   "metadata": {},
   "outputs": [
    {
     "name": "stderr",
     "output_type": "stream",
     "text": [
      "<ipython-input-228-d2113253d0c2>:1: DeprecationWarning: find_elements_by_* commands are deprecated. Please use find_elements() instead\n",
      "  company_name=driver.find_elements_by_xpath('//div[@class=\"header bold-list-header\"]//a')\n"
     ]
    },
    {
     "data": {
      "text/plain": [
       "[]"
      ]
     },
     "execution_count": 228,
     "metadata": {},
     "output_type": "execute_result"
    }
   ],
   "source": [
    "company_name=driver.find_elements_by_xpath('//div[@class=\"header bold-list-header\"]//a')\n",
    "company_name\n",
    "\n",
    "company_name1=[]\n",
    "\n",
    "for i in company_name:\n",
    "    company_name1.append(i.text)\n",
    "    \n",
    "u=company_name1[0:9]\n",
    "u"
   ]
  },
  {
   "cell_type": "code",
   "execution_count": 229,
   "id": "c5c9cdb3",
   "metadata": {},
   "outputs": [
    {
     "name": "stderr",
     "output_type": "stream",
     "text": [
      "<ipython-input-229-d8c8beb83bf2>:1: DeprecationWarning: find_elements_by_* commands are deprecated. Please use find_elements() instead\n",
      "  salary_record=driver.find_elements_by_xpath('//div[@class=\"name\"]//span')\n"
     ]
    },
    {
     "data": {
      "text/plain": [
       "[]"
      ]
     },
     "execution_count": 229,
     "metadata": {},
     "output_type": "execute_result"
    }
   ],
   "source": [
    "salary_record=driver.find_elements_by_xpath('//div[@class=\"name\"]//span')\n",
    "salary_record\n",
    "\n",
    "salary_record1=[]\n",
    "\n",
    "for i in salary_record:\n",
    "    salary_record1.append(i.text)\n",
    "    \n",
    "v=salary_record1[0:9]\n",
    "v"
   ]
  },
  {
   "cell_type": "code",
   "execution_count": 230,
   "id": "08269f4f",
   "metadata": {},
   "outputs": [
    {
     "name": "stderr",
     "output_type": "stream",
     "text": [
      "<ipython-input-230-2bd21ce9e377>:1: DeprecationWarning: find_elements_by_* commands are deprecated. Please use find_elements() instead\n",
      "  average_salary=driver.find_elements_by_xpath('//p[@class=\"averageCtc\"]')\n"
     ]
    },
    {
     "data": {
      "text/plain": [
       "['₹ 31.3L',\n",
       " '₹ 24.0L',\n",
       " '₹ 23.0L',\n",
       " '₹ 21.2L',\n",
       " '₹ 21.0L',\n",
       " '₹ 20.5L',\n",
       " '₹ 20.4L',\n",
       " '₹ 20.0L',\n",
       " '₹ 19.9L']"
      ]
     },
     "execution_count": 230,
     "metadata": {},
     "output_type": "execute_result"
    }
   ],
   "source": [
    "average_salary=driver.find_elements_by_xpath('//p[@class=\"averageCtc\"]')\n",
    "average_salary\n",
    "\n",
    "avg_salary=[]\n",
    "\n",
    "for i in average_salary:\n",
    "    avg_salary.append(i.text)\n",
    "    \n",
    "w=avg_salary[0:9]\n",
    "w"
   ]
  },
  {
   "cell_type": "code",
   "execution_count": 231,
   "id": "523dcfa6",
   "metadata": {},
   "outputs": [
    {
     "name": "stderr",
     "output_type": "stream",
     "text": [
      "<ipython-input-231-57e41e48865d>:1: DeprecationWarning: find_elements_by_* commands are deprecated. Please use find_elements() instead\n",
      "  maximum_salary=driver.find_elements_by_xpath('//div[@class=\"value body-medium\"][2]')\n"
     ]
    },
    {
     "data": {
      "text/plain": [
       "['₹ 65.0L',\n",
       " '₹ 50.0L',\n",
       " '₹ 34.0L',\n",
       " '₹ 33.0L',\n",
       " '₹ 45.0L',\n",
       " '₹ 28.0L',\n",
       " '₹ 31.0L',\n",
       " '₹ 32.5L',\n",
       " '₹ 31.0L']"
      ]
     },
     "execution_count": 231,
     "metadata": {},
     "output_type": "execute_result"
    }
   ],
   "source": [
    "maximum_salary=driver.find_elements_by_xpath('//div[@class=\"value body-medium\"][2]')\n",
    "maximum_salary\n",
    "\n",
    "max_salary=[]\n",
    "\n",
    "for i in maximum_salary:\n",
    "    max_salary.append(i.text)\n",
    "    \n",
    "x=max_salary[0:9]\n",
    "x"
   ]
  },
  {
   "cell_type": "code",
   "execution_count": 232,
   "id": "cb2dbb5a",
   "metadata": {},
   "outputs": [
    {
     "name": "stderr",
     "output_type": "stream",
     "text": [
      "<ipython-input-232-a07e363ceca6>:1: DeprecationWarning: find_elements_by_* commands are deprecated. Please use find_elements() instead\n",
      "  minimum_salary=driver.find_elements_by_xpath('//div[@class=\"value body-medium\"][1]')\n"
     ]
    },
    {
     "data": {
      "text/plain": [
       "['₹ 11.0L',\n",
       " '₹ 13.0L',\n",
       " '₹ 12.0L',\n",
       " '₹ 12.0L',\n",
       " '₹ 8.0L',\n",
       " '₹ 13.0L',\n",
       " '₹ 7.5L',\n",
       " '₹ 11.4L',\n",
       " '₹ 11.0L']"
      ]
     },
     "execution_count": 232,
     "metadata": {},
     "output_type": "execute_result"
    }
   ],
   "source": [
    "minimum_salary=driver.find_elements_by_xpath('//div[@class=\"value body-medium\"][1]')\n",
    "minimum_salary\n",
    "\n",
    "min_salary=[]\n",
    "\n",
    "for i in minimum_salary:\n",
    "    min_salary.append(i.text)\n",
    "    \n",
    "y=min_salary[0:9]\n",
    "y"
   ]
  },
  {
   "cell_type": "code",
   "execution_count": 233,
   "id": "6e3ae9ab",
   "metadata": {},
   "outputs": [
    {
     "name": "stderr",
     "output_type": "stream",
     "text": [
      "<ipython-input-233-a64959586f67>:1: DeprecationWarning: find_elements_by_* commands are deprecated. Please use find_elements() instead\n",
      "  exp_r=driver.find_elements_by_xpath('//div[@class=\"salaries sbold-list-header\"]')\n"
     ]
    },
    {
     "data": {
      "text/plain": [
       "[]"
      ]
     },
     "execution_count": 233,
     "metadata": {},
     "output_type": "execute_result"
    }
   ],
   "source": [
    "exp_r=driver.find_elements_by_xpath('//div[@class=\"salaries sbold-list-header\"]')\n",
    "exp_r\n",
    "\n",
    "exp_re=[]\n",
    "\n",
    "for i in exp_r:\n",
    "    exp_re.append(i.text.replace('Data Scientist\\n . \\n',''))\n",
    "    \n",
    "z=exp_re[0:9]\n",
    "z"
   ]
  },
  {
   "cell_type": "code",
   "execution_count": 234,
   "id": "94894ca7",
   "metadata": {},
   "outputs": [
    {
     "ename": "ValueError",
     "evalue": "Length of values (0) does not match length of index (9)",
     "output_type": "error",
     "traceback": [
      "\u001b[1;31m---------------------------------------------------------------------------\u001b[0m",
      "\u001b[1;31mValueError\u001b[0m                                Traceback (most recent call last)",
      "\u001b[1;32m<ipython-input-234-bdb905b7ee66>\u001b[0m in \u001b[0;36m<module>\u001b[1;34m\u001b[0m\n\u001b[0;32m      5\u001b[0m \u001b[0mambition_jobs10\u001b[0m\u001b[1;33m[\u001b[0m\u001b[1;34m'Maximum Salary'\u001b[0m\u001b[1;33m]\u001b[0m\u001b[1;33m=\u001b[0m\u001b[0mx\u001b[0m\u001b[1;33m\u001b[0m\u001b[1;33m\u001b[0m\u001b[0m\n\u001b[0;32m      6\u001b[0m \u001b[0mambition_jobs10\u001b[0m\u001b[1;33m[\u001b[0m\u001b[1;34m'Minimum Salary'\u001b[0m\u001b[1;33m]\u001b[0m\u001b[1;33m=\u001b[0m\u001b[0my\u001b[0m\u001b[1;33m\u001b[0m\u001b[1;33m\u001b[0m\u001b[0m\n\u001b[1;32m----> 7\u001b[1;33m \u001b[0mambition_jobs10\u001b[0m\u001b[1;33m[\u001b[0m\u001b[1;34m'Experience Required'\u001b[0m\u001b[1;33m]\u001b[0m\u001b[1;33m=\u001b[0m\u001b[0mz\u001b[0m\u001b[1;33m\u001b[0m\u001b[1;33m\u001b[0m\u001b[0m\n\u001b[0m\u001b[0;32m      8\u001b[0m \u001b[0mambition_jobs10\u001b[0m\u001b[1;33m\u001b[0m\u001b[1;33m\u001b[0m\u001b[0m\n",
      "\u001b[1;32m~\\anaconda3\\lib\\site-packages\\pandas\\core\\frame.py\u001b[0m in \u001b[0;36m__setitem__\u001b[1;34m(self, key, value)\u001b[0m\n\u001b[0;32m   3161\u001b[0m         \u001b[1;32melse\u001b[0m\u001b[1;33m:\u001b[0m\u001b[1;33m\u001b[0m\u001b[1;33m\u001b[0m\u001b[0m\n\u001b[0;32m   3162\u001b[0m             \u001b[1;31m# set column\u001b[0m\u001b[1;33m\u001b[0m\u001b[1;33m\u001b[0m\u001b[1;33m\u001b[0m\u001b[0m\n\u001b[1;32m-> 3163\u001b[1;33m             \u001b[0mself\u001b[0m\u001b[1;33m.\u001b[0m\u001b[0m_set_item\u001b[0m\u001b[1;33m(\u001b[0m\u001b[0mkey\u001b[0m\u001b[1;33m,\u001b[0m \u001b[0mvalue\u001b[0m\u001b[1;33m)\u001b[0m\u001b[1;33m\u001b[0m\u001b[1;33m\u001b[0m\u001b[0m\n\u001b[0m\u001b[0;32m   3164\u001b[0m \u001b[1;33m\u001b[0m\u001b[0m\n\u001b[0;32m   3165\u001b[0m     \u001b[1;32mdef\u001b[0m \u001b[0m_setitem_slice\u001b[0m\u001b[1;33m(\u001b[0m\u001b[0mself\u001b[0m\u001b[1;33m,\u001b[0m \u001b[0mkey\u001b[0m\u001b[1;33m:\u001b[0m \u001b[0mslice\u001b[0m\u001b[1;33m,\u001b[0m \u001b[0mvalue\u001b[0m\u001b[1;33m)\u001b[0m\u001b[1;33m:\u001b[0m\u001b[1;33m\u001b[0m\u001b[1;33m\u001b[0m\u001b[0m\n",
      "\u001b[1;32m~\\anaconda3\\lib\\site-packages\\pandas\\core\\frame.py\u001b[0m in \u001b[0;36m_set_item\u001b[1;34m(self, key, value)\u001b[0m\n\u001b[0;32m   3240\u001b[0m         \"\"\"\n\u001b[0;32m   3241\u001b[0m         \u001b[0mself\u001b[0m\u001b[1;33m.\u001b[0m\u001b[0m_ensure_valid_index\u001b[0m\u001b[1;33m(\u001b[0m\u001b[0mvalue\u001b[0m\u001b[1;33m)\u001b[0m\u001b[1;33m\u001b[0m\u001b[1;33m\u001b[0m\u001b[0m\n\u001b[1;32m-> 3242\u001b[1;33m         \u001b[0mvalue\u001b[0m \u001b[1;33m=\u001b[0m \u001b[0mself\u001b[0m\u001b[1;33m.\u001b[0m\u001b[0m_sanitize_column\u001b[0m\u001b[1;33m(\u001b[0m\u001b[0mkey\u001b[0m\u001b[1;33m,\u001b[0m \u001b[0mvalue\u001b[0m\u001b[1;33m)\u001b[0m\u001b[1;33m\u001b[0m\u001b[1;33m\u001b[0m\u001b[0m\n\u001b[0m\u001b[0;32m   3243\u001b[0m         \u001b[0mNDFrame\u001b[0m\u001b[1;33m.\u001b[0m\u001b[0m_set_item\u001b[0m\u001b[1;33m(\u001b[0m\u001b[0mself\u001b[0m\u001b[1;33m,\u001b[0m \u001b[0mkey\u001b[0m\u001b[1;33m,\u001b[0m \u001b[0mvalue\u001b[0m\u001b[1;33m)\u001b[0m\u001b[1;33m\u001b[0m\u001b[1;33m\u001b[0m\u001b[0m\n\u001b[0;32m   3244\u001b[0m \u001b[1;33m\u001b[0m\u001b[0m\n",
      "\u001b[1;32m~\\anaconda3\\lib\\site-packages\\pandas\\core\\frame.py\u001b[0m in \u001b[0;36m_sanitize_column\u001b[1;34m(self, key, value, broadcast)\u001b[0m\n\u001b[0;32m   3897\u001b[0m \u001b[1;33m\u001b[0m\u001b[0m\n\u001b[0;32m   3898\u001b[0m             \u001b[1;31m# turn me into an ndarray\u001b[0m\u001b[1;33m\u001b[0m\u001b[1;33m\u001b[0m\u001b[1;33m\u001b[0m\u001b[0m\n\u001b[1;32m-> 3899\u001b[1;33m             \u001b[0mvalue\u001b[0m \u001b[1;33m=\u001b[0m \u001b[0msanitize_index\u001b[0m\u001b[1;33m(\u001b[0m\u001b[0mvalue\u001b[0m\u001b[1;33m,\u001b[0m \u001b[0mself\u001b[0m\u001b[1;33m.\u001b[0m\u001b[0mindex\u001b[0m\u001b[1;33m)\u001b[0m\u001b[1;33m\u001b[0m\u001b[1;33m\u001b[0m\u001b[0m\n\u001b[0m\u001b[0;32m   3900\u001b[0m             \u001b[1;32mif\u001b[0m \u001b[1;32mnot\u001b[0m \u001b[0misinstance\u001b[0m\u001b[1;33m(\u001b[0m\u001b[0mvalue\u001b[0m\u001b[1;33m,\u001b[0m \u001b[1;33m(\u001b[0m\u001b[0mnp\u001b[0m\u001b[1;33m.\u001b[0m\u001b[0mndarray\u001b[0m\u001b[1;33m,\u001b[0m \u001b[0mIndex\u001b[0m\u001b[1;33m)\u001b[0m\u001b[1;33m)\u001b[0m\u001b[1;33m:\u001b[0m\u001b[1;33m\u001b[0m\u001b[1;33m\u001b[0m\u001b[0m\n\u001b[0;32m   3901\u001b[0m                 \u001b[1;32mif\u001b[0m \u001b[0misinstance\u001b[0m\u001b[1;33m(\u001b[0m\u001b[0mvalue\u001b[0m\u001b[1;33m,\u001b[0m \u001b[0mlist\u001b[0m\u001b[1;33m)\u001b[0m \u001b[1;32mand\u001b[0m \u001b[0mlen\u001b[0m\u001b[1;33m(\u001b[0m\u001b[0mvalue\u001b[0m\u001b[1;33m)\u001b[0m \u001b[1;33m>\u001b[0m \u001b[1;36m0\u001b[0m\u001b[1;33m:\u001b[0m\u001b[1;33m\u001b[0m\u001b[1;33m\u001b[0m\u001b[0m\n",
      "\u001b[1;32m~\\anaconda3\\lib\\site-packages\\pandas\\core\\internals\\construction.py\u001b[0m in \u001b[0;36msanitize_index\u001b[1;34m(data, index)\u001b[0m\n\u001b[0;32m    749\u001b[0m     \"\"\"\n\u001b[0;32m    750\u001b[0m     \u001b[1;32mif\u001b[0m \u001b[0mlen\u001b[0m\u001b[1;33m(\u001b[0m\u001b[0mdata\u001b[0m\u001b[1;33m)\u001b[0m \u001b[1;33m!=\u001b[0m \u001b[0mlen\u001b[0m\u001b[1;33m(\u001b[0m\u001b[0mindex\u001b[0m\u001b[1;33m)\u001b[0m\u001b[1;33m:\u001b[0m\u001b[1;33m\u001b[0m\u001b[1;33m\u001b[0m\u001b[0m\n\u001b[1;32m--> 751\u001b[1;33m         raise ValueError(\n\u001b[0m\u001b[0;32m    752\u001b[0m             \u001b[1;34m\"Length of values \"\u001b[0m\u001b[1;33m\u001b[0m\u001b[1;33m\u001b[0m\u001b[0m\n\u001b[0;32m    753\u001b[0m             \u001b[1;34mf\"({len(data)}) \"\u001b[0m\u001b[1;33m\u001b[0m\u001b[1;33m\u001b[0m\u001b[0m\n",
      "\u001b[1;31mValueError\u001b[0m: Length of values (0) does not match length of index (9)"
     ]
    }
   ],
   "source": [
    "ambition_jobs10=pd.DataFrame()\n",
    "ambition_jobs10['Company Name']=u\n",
    "ambition_jobs10['Salary Record']=v\n",
    "ambition_jobs10['Average Salary']=w\n",
    "ambition_jobs10['Maximum Salary']=x\n",
    "ambition_jobs10['Minimum Salary']=y\n",
    "ambition_jobs10['Experience Required']=z\n",
    "ambition_jobs10"
   ]
  },
  {
   "cell_type": "code",
   "execution_count": null,
   "id": "5f8a925e",
   "metadata": {},
   "outputs": [],
   "source": []
  },
  {
   "cell_type": "code",
   "execution_count": null,
   "id": "03587088",
   "metadata": {},
   "outputs": [],
   "source": []
  },
  {
   "cell_type": "code",
   "execution_count": null,
   "id": "92192b3e",
   "metadata": {},
   "outputs": [],
   "source": []
  },
  {
   "cell_type": "code",
   "execution_count": null,
   "id": "c6cb02df",
   "metadata": {},
   "outputs": [],
   "source": []
  },
  {
   "cell_type": "code",
   "execution_count": null,
   "id": "0fe35716",
   "metadata": {},
   "outputs": [],
   "source": []
  },
  {
   "cell_type": "code",
   "execution_count": null,
   "id": "8a7b1226",
   "metadata": {},
   "outputs": [],
   "source": []
  },
  {
   "cell_type": "code",
   "execution_count": null,
   "id": "4f1afc85",
   "metadata": {},
   "outputs": [],
   "source": []
  },
  {
   "cell_type": "code",
   "execution_count": null,
   "id": "5e2e722c",
   "metadata": {},
   "outputs": [],
   "source": []
  },
  {
   "cell_type": "code",
   "execution_count": null,
   "id": "032c6671",
   "metadata": {},
   "outputs": [],
   "source": []
  },
  {
   "cell_type": "code",
   "execution_count": null,
   "id": "d127204f",
   "metadata": {},
   "outputs": [],
   "source": []
  }
 ],
 "metadata": {
  "kernelspec": {
   "display_name": "Python 3",
   "language": "python",
   "name": "python3"
  },
  "language_info": {
   "codemirror_mode": {
    "name": "ipython",
    "version": 3
   },
   "file_extension": ".py",
   "mimetype": "text/x-python",
   "name": "python",
   "nbconvert_exporter": "python",
   "pygments_lexer": "ipython3",
   "version": "3.8.8"
  }
 },
 "nbformat": 4,
 "nbformat_minor": 5
}
